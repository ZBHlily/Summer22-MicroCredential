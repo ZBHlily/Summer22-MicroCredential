{
  "cells": [
    {
      "cell_type": "markdown",
      "metadata": {
        "id": "view-in-github",
        "colab_type": "text"
      },
      "source": [
        "<a href=\"https://colab.research.google.com/github/ZBHlily/Summer22-MicroCredential/blob/main/Numpy_Exercises.ipynb\" target=\"_parent\"><img src=\"https://colab.research.google.com/assets/colab-badge.svg\" alt=\"Open In Colab\"/></a>"
      ]
    },
    {
      "cell_type": "markdown",
      "metadata": {
        "id": "EQGv2D-zas0Q"
      },
      "source": [
        "# NumPy Problems"
      ]
    },
    {
      "cell_type": "markdown",
      "metadata": {
        "id": "EsKpGCMqas0U"
      },
      "source": [
        "____________"
      ]
    },
    {
      "cell_type": "markdown",
      "metadata": {
        "id": "RTbozCzcas0V"
      },
      "source": [
        "#### Import NumPy as np"
      ]
    },
    {
      "cell_type": "code",
      "execution_count": 2,
      "metadata": {
        "collapsed": true,
        "jupyter": {
          "outputs_hidden": true
        },
        "id": "LsJGHZ1Bas0W"
      },
      "outputs": [],
      "source": [
        "import numpy as np # importing numpy as a library && is used for Linear Algebra and Statistical Computation"
      ]
    },
    {
      "cell_type": "markdown",
      "metadata": {
        "id": "4fo118vZas0X"
      },
      "source": [
        "#### Create an array of 20 zeros "
      ]
    },
    {
      "cell_type": "code",
      "source": [
        "np.zeros(20) # return a new array of 20 filled with zeros"
      ],
      "metadata": {
        "colab": {
          "base_uri": "https://localhost:8080/"
        },
        "id": "g8POD8-Yfhx4",
        "outputId": "90e669a5-5171-4eb4-e030-f7f997787e4a"
      },
      "execution_count": null,
      "outputs": [
        {
          "output_type": "execute_result",
          "data": {
            "text/plain": [
              "array([0., 0., 0., 0., 0., 0., 0., 0., 0., 0., 0., 0., 0., 0., 0., 0., 0.,\n",
              "       0., 0., 0.])"
            ]
          },
          "metadata": {},
          "execution_count": 3
        }
      ]
    },
    {
      "cell_type": "code",
      "execution_count": null,
      "metadata": {
        "jupyter": {
          "outputs_hidden": false
        },
        "id": "sDmkykM1as0X",
        "outputId": "404b4f1e-7004-4c04-f4a0-0c2f43ec7b9b"
      },
      "outputs": [
        {
          "data": {
            "text/plain": [
              "array([ 0.,  0.,  0.,  0.,  0.,  0.,  0.,  0.,  0.,  0.])"
            ]
          },
          "execution_count": 2,
          "metadata": {},
          "output_type": "execute_result"
        }
      ],
      "source": [
        ""
      ]
    },
    {
      "cell_type": "markdown",
      "metadata": {
        "id": "JGwsgpepas0Y"
      },
      "source": [
        "#### Create an array of 10 ones"
      ]
    },
    {
      "cell_type": "code",
      "source": [
        "np.ones(10) # return a new array of 10 filled with ones"
      ],
      "metadata": {
        "colab": {
          "base_uri": "https://localhost:8080/"
        },
        "id": "Fr_aNd9rZZNo",
        "outputId": "a4764b1b-a2f1-4721-c34e-8f446699662d"
      },
      "execution_count": null,
      "outputs": [
        {
          "output_type": "execute_result",
          "data": {
            "text/plain": [
              "array([1., 1., 1., 1., 1., 1., 1., 1., 1., 1.])"
            ]
          },
          "metadata": {},
          "execution_count": 4
        }
      ]
    },
    {
      "cell_type": "code",
      "execution_count": null,
      "metadata": {
        "jupyter": {
          "outputs_hidden": false
        },
        "id": "gYYW6o7yas0Z",
        "outputId": "f6fd1c7b-2a8d-4354-e500-b1a00207ec6a"
      },
      "outputs": [
        {
          "data": {
            "text/plain": [
              "array([ 1.,  1.,  1.,  1.,  1.,  1.,  1.,  1.,  1.,  1.])"
            ]
          },
          "execution_count": 3,
          "metadata": {},
          "output_type": "execute_result"
        }
      ],
      "source": [
        ""
      ]
    },
    {
      "cell_type": "markdown",
      "metadata": {
        "id": "228sxH-pas0Z"
      },
      "source": [
        "#### Create an array of 10 fives"
      ]
    },
    {
      "cell_type": "code",
      "source": [
        "np.ones(10)*5 # return a new array filled with 10 ones multiplied by 5 \n"
      ],
      "metadata": {
        "colab": {
          "base_uri": "https://localhost:8080/"
        },
        "id": "oydepxZfZ_u6",
        "outputId": "6f8d4101-0639-4dca-fc35-508d30d99171"
      },
      "execution_count": null,
      "outputs": [
        {
          "output_type": "execute_result",
          "data": {
            "text/plain": [
              "array([5., 5., 5., 5., 5., 5., 5., 5., 5., 5.])"
            ]
          },
          "metadata": {},
          "execution_count": 6
        }
      ]
    },
    {
      "cell_type": "code",
      "execution_count": null,
      "metadata": {
        "jupyter": {
          "outputs_hidden": false
        },
        "id": "eXRdfze5as0a",
        "outputId": "9fe2a37b-66e6-4584-91ac-6e4e2de27699"
      },
      "outputs": [
        {
          "data": {
            "text/plain": [
              "array([ 5.,  5.,  5.,  5.,  5.,  5.,  5.,  5.,  5.,  5.])"
            ]
          },
          "execution_count": 4,
          "metadata": {},
          "output_type": "execute_result"
        }
      ],
      "source": [
        ""
      ]
    },
    {
      "cell_type": "markdown",
      "metadata": {
        "id": "mVSE2Gt5as0a"
      },
      "source": [
        "#### Create an array of the integers from 10 to 50"
      ]
    },
    {
      "cell_type": "code",
      "source": [
        "np.arange(10,51) # return evenly spaced values within a 10 and 51(exclusive)"
      ],
      "metadata": {
        "colab": {
          "base_uri": "https://localhost:8080/"
        },
        "id": "liAe6rcOaaLu",
        "outputId": "9ccdfdb6-b4b6-4fcc-e0bb-7ac9d73154a4"
      },
      "execution_count": null,
      "outputs": [
        {
          "output_type": "execute_result",
          "data": {
            "text/plain": [
              "array([10, 11, 12, 13, 14, 15, 16, 17, 18, 19, 20, 21, 22, 23, 24, 25, 26,\n",
              "       27, 28, 29, 30, 31, 32, 33, 34, 35, 36, 37, 38, 39, 40, 41, 42, 43,\n",
              "       44, 45, 46, 47, 48, 49, 50])"
            ]
          },
          "metadata": {},
          "execution_count": 8
        }
      ]
    },
    {
      "cell_type": "code",
      "execution_count": null,
      "metadata": {
        "jupyter": {
          "outputs_hidden": false
        },
        "id": "Uc4kVJY4as0b",
        "outputId": "36b87d6d-0f13-4e36-9c18-69d66c6f3ddf"
      },
      "outputs": [
        {
          "data": {
            "text/plain": [
              "array([10, 11, 12, 13, 14, 15, 16, 17, 18, 19, 20, 21, 22, 23, 24, 25, 26,\n",
              "       27, 28, 29, 30, 31, 32, 33, 34, 35, 36, 37, 38, 39, 40, 41, 42, 43,\n",
              "       44, 45, 46, 47, 48, 49, 50])"
            ]
          },
          "execution_count": 5,
          "metadata": {},
          "output_type": "execute_result"
        }
      ],
      "source": [
        ""
      ]
    },
    {
      "cell_type": "markdown",
      "metadata": {
        "id": "L1-m0HyPas0b"
      },
      "source": [
        "#### Create an array of all the even integers from 10 to 50"
      ]
    },
    {
      "cell_type": "code",
      "execution_count": null,
      "metadata": {
        "jupyter": {
          "outputs_hidden": false
        },
        "id": "aTRMuDY5as0b",
        "outputId": "fa2ec572-bc42-43e4-d7e7-bc83f5b570e4",
        "colab": {
          "base_uri": "https://localhost:8080/"
        }
      },
      "outputs": [
        {
          "output_type": "execute_result",
          "data": {
            "text/plain": [
              "array([10, 12, 14, 16, 18, 20, 22, 24, 26, 28, 30, 32, 34, 36, 38, 40, 42,\n",
              "       44, 46, 48, 50])"
            ]
          },
          "metadata": {},
          "execution_count": 11
        }
      ],
      "source": [
        "np.arange(10,51, 2) # return evenly spaced values within a 10 and 51(exclusive) and step is for spacing between values so 2 apart"
      ]
    },
    {
      "cell_type": "code",
      "execution_count": null,
      "metadata": {
        "jupyter": {
          "outputs_hidden": false
        },
        "outputId": "e8864c20-08fe-4a75-bc8f-f330374b7088",
        "id": "TPgQ8Tf4bAFM"
      },
      "outputs": [
        {
          "data": {
            "text/plain": [
              "array([10, 12, 14, 16, 18, 20, 22, 24, 26, 28, 30, 32, 34, 36, 38, 40, 42,\n",
              "       44, 46, 48, 50])"
            ]
          },
          "execution_count": 6,
          "metadata": {},
          "output_type": "execute_result"
        }
      ],
      "source": [
        ""
      ]
    },
    {
      "cell_type": "markdown",
      "metadata": {
        "id": "1dbILQv3as0c"
      },
      "source": [
        "#### Create a 3x3 matrix with values ranging from 0 to 8"
      ]
    },
    {
      "cell_type": "code",
      "source": [
        "np.arange(0, 9).reshape(3,3) # reshape gives a new shape to an array without changing its data so we keep the values from 0 to 9(exclusive) in a 3x3 matrix"
      ],
      "metadata": {
        "colab": {
          "base_uri": "https://localhost:8080/"
        },
        "id": "xbIrIQJ-bpCD",
        "outputId": "a3935203-5d58-428b-f905-b8bea85c24dd"
      },
      "execution_count": null,
      "outputs": [
        {
          "output_type": "execute_result",
          "data": {
            "text/plain": [
              "array([[0, 1, 2],\n",
              "       [3, 4, 5],\n",
              "       [6, 7, 8]])"
            ]
          },
          "metadata": {},
          "execution_count": 18
        }
      ]
    },
    {
      "cell_type": "code",
      "execution_count": null,
      "metadata": {
        "jupyter": {
          "outputs_hidden": false
        },
        "id": "Hd1m4cVCas0c",
        "outputId": "8056c833-63af-4fa7-a254-fd4e771d765a"
      },
      "outputs": [
        {
          "data": {
            "text/plain": [
              "array([[0, 1, 2],\n",
              "       [3, 4, 5],\n",
              "       [6, 7, 8]])"
            ]
          },
          "execution_count": 7,
          "metadata": {},
          "output_type": "execute_result"
        }
      ],
      "source": [
        ""
      ]
    },
    {
      "cell_type": "markdown",
      "metadata": {
        "id": "7kbGgjPKas0c"
      },
      "source": [
        "#### Create a 3x3 identity matrix"
      ]
    },
    {
      "cell_type": "code",
      "source": [
        "np.eye(3) # returns a 2-D array with ones on the diagonal and zeros elsewhere"
      ],
      "metadata": {
        "id": "ysDA08kAy-Xt",
        "colab": {
          "base_uri": "https://localhost:8080/"
        },
        "outputId": "9ca13e4e-4edc-4c61-d12f-cff7f23a8363"
      },
      "execution_count": null,
      "outputs": [
        {
          "output_type": "execute_result",
          "data": {
            "text/plain": [
              "array([[1., 0., 0.],\n",
              "       [0., 1., 0.],\n",
              "       [0., 0., 1.]])"
            ]
          },
          "metadata": {},
          "execution_count": 19
        }
      ]
    },
    {
      "cell_type": "code",
      "execution_count": null,
      "metadata": {
        "jupyter": {
          "outputs_hidden": false
        },
        "id": "ugwYTpwIas0d",
        "outputId": "f4b8bfae-a1f3-4c36-953a-4cd56122b8f5"
      },
      "outputs": [
        {
          "data": {
            "text/plain": [
              "array([[ 1.,  0.,  0.],\n",
              "       [ 0.,  1.,  0.],\n",
              "       [ 0.,  0.,  1.]])"
            ]
          },
          "execution_count": 8,
          "metadata": {},
          "output_type": "execute_result"
        }
      ],
      "source": [
        ""
      ]
    },
    {
      "cell_type": "markdown",
      "metadata": {
        "id": "sU0C2fQFas0d"
      },
      "source": [
        "#### Use NumPy to generate a random number between 0 and 1"
      ]
    },
    {
      "cell_type": "code",
      "source": [
        "np.random.rand(1) # returns an array from a random samples of a uniform distribution over [0, 1)"
      ],
      "metadata": {
        "colab": {
          "base_uri": "https://localhost:8080/"
        },
        "id": "eocf8gTqc_dE",
        "outputId": "0e7d0fb3-fb1a-4d73-de1b-42ef7d60af94"
      },
      "execution_count": null,
      "outputs": [
        {
          "output_type": "execute_result",
          "data": {
            "text/plain": [
              "array([0.14112562])"
            ]
          },
          "metadata": {},
          "execution_count": 25
        }
      ]
    },
    {
      "cell_type": "code",
      "execution_count": null,
      "metadata": {
        "jupyter": {
          "outputs_hidden": false
        },
        "id": "5E5_ewrUas0e",
        "outputId": "234504d6-bc0d-4e18-93a7-fd5276bca62e"
      },
      "outputs": [
        {
          "data": {
            "text/plain": [
              "array([ 0.42829726])"
            ]
          },
          "execution_count": 15,
          "metadata": {},
          "output_type": "execute_result"
        }
      ],
      "source": [
        ""
      ]
    },
    {
      "cell_type": "markdown",
      "metadata": {
        "id": "qVfudx-eas0e"
      },
      "source": [
        "#### Use NumPy to generate an array of 25 random numbers sampled from a standard normal distribution"
      ]
    },
    {
      "cell_type": "code",
      "source": [
        "np.random.randn(25) # return an array of 25 random samples from the \"standard normal\" distribution "
      ],
      "metadata": {
        "colab": {
          "base_uri": "https://localhost:8080/"
        },
        "id": "XbtaGpRIdjQ7",
        "outputId": "3ba91294-549c-420e-8596-d7d9a4490338"
      },
      "execution_count": null,
      "outputs": [
        {
          "output_type": "execute_result",
          "data": {
            "text/plain": [
              "array([-0.90602262, -0.16324565,  0.71858922,  2.06389013,  1.66284035,\n",
              "        0.4979455 ,  0.90395526,  1.69124067, -1.2153409 , -1.04062924,\n",
              "       -0.87399761, -1.18818988,  0.42010316, -0.69811079,  2.0430218 ,\n",
              "       -0.8862733 , -0.17172908, -0.91249404,  0.41157575,  1.07241849,\n",
              "        1.42196721,  1.15885094,  1.60872913, -1.7666302 , -1.32708753])"
            ]
          },
          "metadata": {},
          "execution_count": 27
        }
      ]
    },
    {
      "cell_type": "code",
      "execution_count": null,
      "metadata": {
        "jupyter": {
          "outputs_hidden": false
        },
        "id": "vhB1R4hlas0e",
        "outputId": "90e3f221-a716-4edc-ab68-4885edcf4168"
      },
      "outputs": [
        {
          "data": {
            "text/plain": [
              "array([ 1.32031013,  1.6798602 , -0.42985892, -1.53116655,  0.85753232,\n",
              "        0.87339938,  0.35668636, -1.47491157,  0.15349697,  0.99530727,\n",
              "       -0.94865451, -1.69174783,  1.57525349, -0.70615234,  0.10991879,\n",
              "       -0.49478947,  1.08279872,  0.76488333, -2.3039931 ,  0.35401124,\n",
              "       -0.45454399, -0.64754649, -0.29391671,  0.02339861,  0.38272124])"
            ]
          },
          "execution_count": 33,
          "metadata": {},
          "output_type": "execute_result"
        }
      ],
      "source": [
        ""
      ]
    },
    {
      "cell_type": "markdown",
      "metadata": {
        "id": "hSjn18Qmas0f"
      },
      "source": [
        "#### Create the following matrix:"
      ]
    },
    {
      "cell_type": "code",
      "source": [
        "np.arange(0.01,1.01,0.01).reshape(10,10) # return array starting from 0.01 and ending at 1.01(exclusive) but step is from 1.01 and is reshaped in a 10 by 10 matrix"
      ],
      "metadata": {
        "colab": {
          "base_uri": "https://localhost:8080/"
        },
        "id": "kzcXEtqJd9Az",
        "outputId": "24a1986f-7474-448b-a8a7-b8ffeadadc93"
      },
      "execution_count": null,
      "outputs": [
        {
          "output_type": "execute_result",
          "data": {
            "text/plain": [
              "array([[0.01, 0.02, 0.03, 0.04, 0.05, 0.06, 0.07, 0.08, 0.09, 0.1 ],\n",
              "       [0.11, 0.12, 0.13, 0.14, 0.15, 0.16, 0.17, 0.18, 0.19, 0.2 ],\n",
              "       [0.21, 0.22, 0.23, 0.24, 0.25, 0.26, 0.27, 0.28, 0.29, 0.3 ],\n",
              "       [0.31, 0.32, 0.33, 0.34, 0.35, 0.36, 0.37, 0.38, 0.39, 0.4 ],\n",
              "       [0.41, 0.42, 0.43, 0.44, 0.45, 0.46, 0.47, 0.48, 0.49, 0.5 ],\n",
              "       [0.51, 0.52, 0.53, 0.54, 0.55, 0.56, 0.57, 0.58, 0.59, 0.6 ],\n",
              "       [0.61, 0.62, 0.63, 0.64, 0.65, 0.66, 0.67, 0.68, 0.69, 0.7 ],\n",
              "       [0.71, 0.72, 0.73, 0.74, 0.75, 0.76, 0.77, 0.78, 0.79, 0.8 ],\n",
              "       [0.81, 0.82, 0.83, 0.84, 0.85, 0.86, 0.87, 0.88, 0.89, 0.9 ],\n",
              "       [0.91, 0.92, 0.93, 0.94, 0.95, 0.96, 0.97, 0.98, 0.99, 1.  ]])"
            ]
          },
          "metadata": {},
          "execution_count": 51
        }
      ]
    },
    {
      "cell_type": "code",
      "execution_count": null,
      "metadata": {
        "jupyter": {
          "outputs_hidden": false
        },
        "id": "kAyS3vLAas0f",
        "outputId": "48f3b1c9-af43-445d-e4b1-ba6ab7902eef"
      },
      "outputs": [
        {
          "data": {
            "text/plain": [
              "array([[ 0.01,  0.02,  0.03,  0.04,  0.05,  0.06,  0.07,  0.08,  0.09,  0.1 ],\n",
              "       [ 0.11,  0.12,  0.13,  0.14,  0.15,  0.16,  0.17,  0.18,  0.19,  0.2 ],\n",
              "       [ 0.21,  0.22,  0.23,  0.24,  0.25,  0.26,  0.27,  0.28,  0.29,  0.3 ],\n",
              "       [ 0.31,  0.32,  0.33,  0.34,  0.35,  0.36,  0.37,  0.38,  0.39,  0.4 ],\n",
              "       [ 0.41,  0.42,  0.43,  0.44,  0.45,  0.46,  0.47,  0.48,  0.49,  0.5 ],\n",
              "       [ 0.51,  0.52,  0.53,  0.54,  0.55,  0.56,  0.57,  0.58,  0.59,  0.6 ],\n",
              "       [ 0.61,  0.62,  0.63,  0.64,  0.65,  0.66,  0.67,  0.68,  0.69,  0.7 ],\n",
              "       [ 0.71,  0.72,  0.73,  0.74,  0.75,  0.76,  0.77,  0.78,  0.79,  0.8 ],\n",
              "       [ 0.81,  0.82,  0.83,  0.84,  0.85,  0.86,  0.87,  0.88,  0.89,  0.9 ],\n",
              "       [ 0.91,  0.92,  0.93,  0.94,  0.95,  0.96,  0.97,  0.98,  0.99,  1.  ]])"
            ]
          },
          "execution_count": 35,
          "metadata": {},
          "output_type": "execute_result"
        }
      ],
      "source": [
        ""
      ]
    },
    {
      "cell_type": "markdown",
      "metadata": {
        "id": "gS0iyP2aas0f"
      },
      "source": [
        "#### Create an array of 20 linearly spaced points between 0 and 1:"
      ]
    },
    {
      "cell_type": "code",
      "source": [
        "np.linspace(0,1,20) # Return evenly spaced numbers over 0 through 1 generating 30 samples "
      ],
      "metadata": {
        "id": "ym6r5zY4zHjp",
        "colab": {
          "base_uri": "https://localhost:8080/"
        },
        "outputId": "cbd01bb3-dfd8-46ca-8d9a-b2857f84eeca"
      },
      "execution_count": null,
      "outputs": [
        {
          "output_type": "execute_result",
          "data": {
            "text/plain": [
              "array([0.        , 0.05263158, 0.10526316, 0.15789474, 0.21052632,\n",
              "       0.26315789, 0.31578947, 0.36842105, 0.42105263, 0.47368421,\n",
              "       0.52631579, 0.57894737, 0.63157895, 0.68421053, 0.73684211,\n",
              "       0.78947368, 0.84210526, 0.89473684, 0.94736842, 1.        ])"
            ]
          },
          "metadata": {},
          "execution_count": 53
        }
      ]
    },
    {
      "cell_type": "code",
      "execution_count": null,
      "metadata": {
        "jupyter": {
          "outputs_hidden": false
        },
        "id": "nr7hkaklas0f",
        "outputId": "835c7b7b-c9e1-404a-e9ed-bdca25a1a19f"
      },
      "outputs": [
        {
          "data": {
            "text/plain": [
              "array([ 0.        ,  0.05263158,  0.10526316,  0.15789474,  0.21052632,\n",
              "        0.26315789,  0.31578947,  0.36842105,  0.42105263,  0.47368421,\n",
              "        0.52631579,  0.57894737,  0.63157895,  0.68421053,  0.73684211,\n",
              "        0.78947368,  0.84210526,  0.89473684,  0.94736842,  1.        ])"
            ]
          },
          "execution_count": 36,
          "metadata": {},
          "output_type": "execute_result"
        }
      ],
      "source": [
        ""
      ]
    },
    {
      "cell_type": "markdown",
      "metadata": {
        "id": "9Zmy-UYEas0f"
      },
      "source": [
        "## Numpy Indexing and Selection\n",
        "\n",
        "Now you will be given a few matrices, and be asked to replicate the resulting matrix outputs:"
      ]
    },
    {
      "cell_type": "code",
      "execution_count": null,
      "metadata": {
        "jupyter": {
          "outputs_hidden": false
        },
        "colab": {
          "base_uri": "https://localhost:8080/"
        },
        "id": "PJhLSqNEas0g",
        "outputId": "abece545-4fc6-41d1-bc98-a3d90d326b48"
      },
      "outputs": [
        {
          "output_type": "execute_result",
          "data": {
            "text/plain": [
              "array([[ 1,  2,  3],\n",
              "       [ 4,  5,  6],\n",
              "       [ 7,  8,  9],\n",
              "       [10, 11, 12],\n",
              "       [13, 14, 15],\n",
              "       [16, 17, 18],\n",
              "       [19, 20, 21],\n",
              "       [22, 23, 24],\n",
              "       [25, 26, 27]])"
            ]
          },
          "metadata": {},
          "execution_count": 17
        }
      ],
      "source": [
        "import numpy as np\n",
        "#mat = np.arange(1,27).reshape(5,5)\n",
        "mat = np.arange(1,28).reshape(9,3)\n",
        "mat"
      ]
    },
    {
      "cell_type": "code",
      "execution_count": null,
      "metadata": {
        "collapsed": true,
        "jupyter": {
          "outputs_hidden": true
        },
        "id": "860FVvAXas0g"
      },
      "outputs": [],
      "source": [
        "# WRITE CODE HERE THAT REPRODUCES THE OUTPUT OF THE CELL BELOW\n",
        "# BE CAREFUL NOT TO RUN THE CELL BELOW, OTHERWISE YOU WON'T\n",
        "# BE ABLE TO SEE THE OUTPUT ANY MORE"
      ]
    },
    {
      "cell_type": "code",
      "source": [
        "# used the documentation(https://numpy.org/doc/stable/reference/generated/numpy.concatenate.html) + https://pythonguides.com/python-concatenate-arrays/ to concatenate the arrays\n",
        "\n",
        "array1 = np.arange(12, 16) # returns evenly spaced values btw 12 and 16(exclusive)\n",
        "array2 = np.arange(17, 21) # returns evenly spaced values btw 17 and 21(exclusive)\n",
        "array3 = np.arange(22, 26) # returns evenly spaced values btw 22 and 26(exclusive)\n",
        "\n",
        "arr = np.concatenate([array1, array2, array3]) # join the sequence of arrays\n",
        "arr.reshape(3, 4) # reshape into 3 by 4"
      ],
      "metadata": {
        "colab": {
          "base_uri": "https://localhost:8080/"
        },
        "id": "-uDVIOdhhjTs",
        "outputId": "a36703e9-c0f8-445f-c439-e01ed854e3bd"
      },
      "execution_count": null,
      "outputs": [
        {
          "output_type": "execute_result",
          "data": {
            "text/plain": [
              "array([[12, 13, 14, 15],\n",
              "       [17, 18, 19, 20],\n",
              "       [22, 23, 24, 25]])"
            ]
          },
          "metadata": {},
          "execution_count": 31
        }
      ]
    },
    {
      "cell_type": "code",
      "execution_count": null,
      "metadata": {
        "jupyter": {
          "outputs_hidden": false
        },
        "id": "Z2BPhScfas0h",
        "outputId": "0945b2a8-ac7b-4592-b7b1-28e271d31d28"
      },
      "outputs": [
        {
          "data": {
            "text/plain": [
              "array([[12, 13, 14, 15],\n",
              "       [17, 18, 19, 20],\n",
              "       [22, 23, 24, 25]])"
            ]
          },
          "execution_count": 40,
          "metadata": {},
          "output_type": "execute_result"
        }
      ],
      "source": [
        ""
      ]
    },
    {
      "cell_type": "code",
      "execution_count": null,
      "metadata": {
        "collapsed": true,
        "jupyter": {
          "outputs_hidden": true
        },
        "id": "MY7UQFmPas0h"
      },
      "outputs": [],
      "source": [
        "# WRITE CODE HERE THAT REPRODUCES THE OUTPUT OF THE CELL BELOW\n",
        "# BE CAREFUL NOT TO RUN THE CELL BELOW, OTHERWISE YOU WON'T\n",
        "# BE ABLE TO SEE THE OUTPUT ANY MORE"
      ]
    },
    {
      "cell_type": "code",
      "source": [
        "mat[6][1] # returns the 6th row and 1st column "
      ],
      "metadata": {
        "colab": {
          "base_uri": "https://localhost:8080/"
        },
        "id": "fgCoViOthjzh",
        "outputId": "258d7d86-c4d6-465a-9bb7-d51fb12044ea"
      },
      "execution_count": null,
      "outputs": [
        {
          "output_type": "execute_result",
          "data": {
            "text/plain": [
              "20"
            ]
          },
          "metadata": {},
          "execution_count": 109
        }
      ]
    },
    {
      "cell_type": "code",
      "execution_count": null,
      "metadata": {
        "jupyter": {
          "outputs_hidden": false
        },
        "id": "QXmS9mXwas0h",
        "outputId": "5d588685-a9a8-4174-bf0f-6a2ad542f4ff"
      },
      "outputs": [
        {
          "data": {
            "text/plain": [
              "20"
            ]
          },
          "execution_count": 41,
          "metadata": {},
          "output_type": "execute_result"
        }
      ],
      "source": [
        ""
      ]
    },
    {
      "cell_type": "code",
      "execution_count": null,
      "metadata": {
        "collapsed": true,
        "jupyter": {
          "outputs_hidden": true
        },
        "id": "9fH3pOiSas0h"
      },
      "outputs": [],
      "source": [
        "# WRITE CODE HERE THAT REPRODUCES THE OUTPUT OF THE CELL BELOW\n",
        "# BE CAREFUL NOT TO RUN THE CELL BELOW, OTHERWISE YOU WON'T\n",
        "# BE ABLE TO SEE THE OUTPUT ANY MORE"
      ]
    },
    {
      "cell_type": "code",
      "source": [
        "arr = np.array([2, 7, 12]) # creating array containing 2,7,12\n",
        "arr.reshape(3, 1) #reshaping it to 3 by 1 matrix"
      ],
      "metadata": {
        "colab": {
          "base_uri": "https://localhost:8080/"
        },
        "id": "8IYP4YnMhkMB",
        "outputId": "34996e53-ceab-42ad-aa57-904a415a885d"
      },
      "execution_count": null,
      "outputs": [
        {
          "output_type": "execute_result",
          "data": {
            "text/plain": [
              "array([[ 2],\n",
              "       [ 7],\n",
              "       [12]])"
            ]
          },
          "metadata": {},
          "execution_count": 33
        }
      ]
    },
    {
      "cell_type": "code",
      "execution_count": null,
      "metadata": {
        "jupyter": {
          "outputs_hidden": false
        },
        "id": "RCho4MD9as0i",
        "outputId": "2cb01064-c68d-49f4-89f5-5a9b0164f83b"
      },
      "outputs": [
        {
          "data": {
            "text/plain": [
              "array([[ 2],\n",
              "       [ 7],\n",
              "       [12]])"
            ]
          },
          "execution_count": 42,
          "metadata": {},
          "output_type": "execute_result"
        }
      ],
      "source": [
        ""
      ]
    },
    {
      "cell_type": "code",
      "execution_count": null,
      "metadata": {
        "collapsed": true,
        "jupyter": {
          "outputs_hidden": true
        },
        "id": "45kKt5vnas0i"
      },
      "outputs": [],
      "source": [
        "# WRITE CODE HERE THAT REPRODUCES THE OUTPUT OF THE CELL BELOW\n",
        "# BE CAREFUL NOT TO RUN THE CELL BELOW, OTHERWISE YOU WON'T\n",
        "# BE ABLE TO SEE THE OUTPUT ANY MORE"
      ]
    },
    {
      "cell_type": "code",
      "source": [
        "np.arange(21, 26) #returns evenly spaced values btw 21 and 26(exclusive)"
      ],
      "metadata": {
        "colab": {
          "base_uri": "https://localhost:8080/"
        },
        "id": "Oty8hrAuhknc",
        "outputId": "a8a40efa-c747-45f0-fd32-7528fa9bc0e8"
      },
      "execution_count": null,
      "outputs": [
        {
          "output_type": "execute_result",
          "data": {
            "text/plain": [
              "array([21, 22, 23, 24, 25])"
            ]
          },
          "metadata": {},
          "execution_count": 37
        }
      ]
    },
    {
      "cell_type": "code",
      "execution_count": null,
      "metadata": {
        "jupyter": {
          "outputs_hidden": false
        },
        "id": "0Pm3b5E5as0i",
        "outputId": "bd6086f5-07e3-4c97-de11-2a8dfec2cb9c"
      },
      "outputs": [
        {
          "data": {
            "text/plain": [
              "array([21, 22, 23, 24, 25])"
            ]
          },
          "execution_count": 46,
          "metadata": {},
          "output_type": "execute_result"
        }
      ],
      "source": [
        ""
      ]
    },
    {
      "cell_type": "code",
      "execution_count": null,
      "metadata": {
        "collapsed": true,
        "jupyter": {
          "outputs_hidden": true
        },
        "id": "GTWArQWEas0i"
      },
      "outputs": [],
      "source": [
        "# WRITE CODE HERE THAT REPRODUCES THE OUTPUT OF THE CELL BELOW\n",
        "# BE CAREFUL NOT TO RUN THE CELL BELOW, OTHERWISE YOU WON'T\n",
        "# BE ABLE TO SEE THE OUTPUT ANY MORE"
      ]
    },
    {
      "cell_type": "code",
      "source": [
        "array1 = np.arange(16, 26) #returns evenly spaced values btw 21 and 26(exclusive)\n",
        "array1.reshape(2, 5) #reshaping it to 2 by 5 matrix"
      ],
      "metadata": {
        "colab": {
          "base_uri": "https://localhost:8080/"
        },
        "id": "j6TUK1GIhlD0",
        "outputId": "710369c3-cdf4-49bc-a82f-05af6ac98663"
      },
      "execution_count": null,
      "outputs": [
        {
          "output_type": "execute_result",
          "data": {
            "text/plain": [
              "array([[16, 17, 18, 19, 20],\n",
              "       [21, 22, 23, 24, 25]])"
            ]
          },
          "metadata": {},
          "execution_count": 39
        }
      ]
    },
    {
      "cell_type": "code",
      "execution_count": null,
      "metadata": {
        "jupyter": {
          "outputs_hidden": false
        },
        "id": "sLG8dGqhas0j",
        "outputId": "9dfe3c53-6b51-4d82-d398-b1c5107d02d6"
      },
      "outputs": [
        {
          "data": {
            "text/plain": [
              "array([[16, 17, 18, 19, 20],\n",
              "       [21, 22, 23, 24, 25]])"
            ]
          },
          "execution_count": 49,
          "metadata": {},
          "output_type": "execute_result"
        }
      ],
      "source": [
        ""
      ]
    },
    {
      "cell_type": "markdown",
      "metadata": {
        "id": "qypuNcQYas0j"
      },
      "source": [
        "### Now,"
      ]
    },
    {
      "cell_type": "markdown",
      "metadata": {
        "id": "ecX2S835as0j"
      },
      "source": [
        "#### Get the sum of all the values in mat"
      ]
    },
    {
      "cell_type": "code",
      "source": [
        "mat = np.arange(1,28).reshape(9,3) # returns evenly spaced values btw 1 and 28(exclusive) + reshapes it into 9 by 3 matrix\n",
        "mat"
      ],
      "metadata": {
        "colab": {
          "base_uri": "https://localhost:8080/"
        },
        "id": "nhEA3cpSc8aR",
        "outputId": "1fb40313-c138-405e-f7a6-141a4dc2e589"
      },
      "execution_count": 5,
      "outputs": [
        {
          "output_type": "execute_result",
          "data": {
            "text/plain": [
              "array([[ 1,  2,  3],\n",
              "       [ 4,  5,  6],\n",
              "       [ 7,  8,  9],\n",
              "       [10, 11, 12],\n",
              "       [13, 14, 15],\n",
              "       [16, 17, 18],\n",
              "       [19, 20, 21],\n",
              "       [22, 23, 24],\n",
              "       [25, 26, 27]])"
            ]
          },
          "metadata": {},
          "execution_count": 5
        }
      ]
    },
    {
      "cell_type": "code",
      "source": [
        "'''\n",
        "Sums of each colmumn \n",
        "1 + 2 + 3 =  6\n",
        "4 + 5 + 6 = 15\n",
        "7 + 8 + 9 =  24\n",
        "10 + 11 + 12 = 33\n",
        "13 + 14 + 15 = 42\n",
        "16 + 17 + 18 = 51\n",
        "19 + 20 + 21 = 60\n",
        "22 + 23 + 24 = 69\n",
        "25 + 26 + 27 = 78\n",
        "\n",
        "Total: 6+15+24+33+42+51+60+69+78 = 378\n",
        "'''"
      ],
      "metadata": {
        "id": "sVPDgKTkdCWG"
      },
      "execution_count": null,
      "outputs": []
    },
    {
      "cell_type": "code",
      "execution_count": 4,
      "metadata": {
        "jupyter": {
          "outputs_hidden": false
        },
        "id": "vVivJecsas0j",
        "outputId": "bc96934f-e2b2-4d8b-a8ca-63e074b7dda1",
        "colab": {
          "base_uri": "https://localhost:8080/"
        }
      },
      "outputs": [
        {
          "output_type": "execute_result",
          "data": {
            "text/plain": [
              "378"
            ]
          },
          "metadata": {},
          "execution_count": 4
        }
      ],
      "source": [
        "mat.sum() # sums up all the values in mat"
      ]
    },
    {
      "cell_type": "code",
      "execution_count": null,
      "metadata": {
        "jupyter": {
          "outputs_hidden": false
        },
        "outputId": "e68b4502-acaa-4226-d55b-5fb598acda1c",
        "id": "IH9rrpa3omN2"
      },
      "outputs": [
        {
          "data": {
            "text/plain": [
              "325"
            ]
          },
          "execution_count": 50,
          "metadata": {},
          "output_type": "execute_result"
        }
      ],
      "source": [
        ""
      ]
    },
    {
      "cell_type": "markdown",
      "metadata": {
        "id": "xR-d7uEWas0j"
      },
      "source": [
        "#### Get the standard deviation of the values in mat"
      ]
    },
    {
      "cell_type": "code",
      "source": [
        "mat.std() # computes the standard deviation "
      ],
      "metadata": {
        "colab": {
          "base_uri": "https://localhost:8080/"
        },
        "id": "xNdS4C59osJW",
        "outputId": "f79d8010-8ebf-40a6-e20d-3933be48cd6a"
      },
      "execution_count": null,
      "outputs": [
        {
          "output_type": "execute_result",
          "data": {
            "text/plain": [
              "7.788880963698615"
            ]
          },
          "metadata": {},
          "execution_count": 43
        }
      ]
    },
    {
      "cell_type": "code",
      "execution_count": null,
      "metadata": {
        "jupyter": {
          "outputs_hidden": false
        },
        "id": "SnMMOfETas0j",
        "outputId": "729d8cc1-fb70-4540-993c-4c902380180c"
      },
      "outputs": [
        {
          "data": {
            "text/plain": [
              "7.2111025509279782"
            ]
          },
          "execution_count": 51,
          "metadata": {},
          "output_type": "execute_result"
        }
      ],
      "source": [
        ""
      ]
    },
    {
      "cell_type": "markdown",
      "metadata": {
        "id": "8iZxd0r9as0j"
      },
      "source": [
        "#### Get the sum of all the columns in mat"
      ]
    },
    {
      "cell_type": "code",
      "source": [
        "mat.sum(axis=1) # sums up the columns since axis 1 represents colmns"
      ],
      "metadata": {
        "colab": {
          "base_uri": "https://localhost:8080/"
        },
        "id": "8OWOOebPotxv",
        "outputId": "70e5fb1d-188b-491d-b83e-58580f002929"
      },
      "execution_count": null,
      "outputs": [
        {
          "output_type": "execute_result",
          "data": {
            "text/plain": [
              "array([ 6, 15, 24, 33, 42, 51, 60, 69, 78])"
            ]
          },
          "metadata": {},
          "execution_count": 48
        }
      ]
    },
    {
      "cell_type": "code",
      "execution_count": null,
      "metadata": {
        "jupyter": {
          "outputs_hidden": false
        },
        "id": "lfg_4JZFas0k",
        "outputId": "1934f505-6078-479d-d2bd-7f7d5a1eeec8"
      },
      "outputs": [
        {
          "data": {
            "text/plain": [
              "array([55, 60, 65, 70, 75])"
            ]
          },
          "execution_count": 53,
          "metadata": {},
          "output_type": "execute_result"
        }
      ],
      "source": [
        ""
      ]
    },
    {
      "cell_type": "markdown",
      "metadata": {
        "id": "WMVTUj_yas0k"
      },
      "source": [
        "# Cheers!"
      ]
    }
  ],
  "metadata": {
    "kernelspec": {
      "display_name": "Python 3",
      "language": "python",
      "name": "python3"
    },
    "language_info": {
      "codemirror_mode": {
        "name": "ipython",
        "version": 3
      },
      "file_extension": ".py",
      "mimetype": "text/x-python",
      "name": "python",
      "nbconvert_exporter": "python",
      "pygments_lexer": "ipython3",
      "version": "3.7.3"
    },
    "colab": {
      "name": "Numpy Exercises.ipynb",
      "provenance": [],
      "collapsed_sections": [],
      "include_colab_link": true
    }
  },
  "nbformat": 4,
  "nbformat_minor": 0
}