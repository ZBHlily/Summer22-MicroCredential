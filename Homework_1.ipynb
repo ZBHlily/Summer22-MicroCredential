{
  "nbformat": 4,
  "nbformat_minor": 0,
  "metadata": {
    "colab": {
      "name": "Homework 1.ipynb",
      "provenance": [],
      "collapsed_sections": [],
      "include_colab_link": true
    },
    "kernelspec": {
      "name": "python3",
      "display_name": "Python 3"
    },
    "language_info": {
      "name": "python"
    }
  },
  "cells": [
    {
      "cell_type": "markdown",
      "metadata": {
        "id": "view-in-github",
        "colab_type": "text"
      },
      "source": [
        "<a href=\"https://colab.research.google.com/github/ZBHlily/Summer22-MicroCredential/blob/main/Homework_1.ipynb\" target=\"_parent\"><img src=\"https://colab.research.google.com/assets/colab-badge.svg\" alt=\"Open In Colab\"/></a>"
      ]
    },
    {
      "cell_type": "markdown",
      "source": [
        "# Answer all the questions!"
      ],
      "metadata": {
        "id": "FkJsXd8D06Rp"
      }
    },
    {
      "cell_type": "markdown",
      "source": [
        "##Write a Python program to get the volume of a sphere with radius 6"
      ],
      "metadata": {
        "id": "elOgKZR009ex"
      }
    },
    {
      "cell_type": "code",
      "source": [
        "import math # Import math Library to use pi\n",
        "radius = 6 # setting the radius to 6 \n",
        "volume = 4/3 * math.pi * radius**3 # calculating the volume of a sphere since v = 4/3*pi*r^3\n",
        "print(\"The volume of a sphere with a radius of\", radius, \"meters is\", volume, \"meters cubed\") # prints out what the volume of raidus 6 is "
      ],
      "metadata": {
        "colab": {
          "base_uri": "https://localhost:8080/"
        },
        "id": "1cFLyw8mJGYQ",
        "outputId": "d8f20132-336a-41f1-e58b-2af4dd39ed20"
      },
      "execution_count": 12,
      "outputs": [
        {
          "output_type": "stream",
          "name": "stdout",
          "text": [
            "The volume of a sphere with a radius of 6 meters is 904.7786842338603 meters cubed\n"
          ]
        }
      ]
    },
    {
      "cell_type": "markdown",
      "source": [
        "##Write a Python program to find whether a given number (accept from the user) is even or odd"
      ],
      "metadata": {
        "id": "OuX7aazu09X1"
      }
    },
    {
      "cell_type": "code",
      "source": [
        "num = int(input(\"Enter a number: \")) # num is set to get the user's number\n",
        "if num % 2 == 0: # checking if the remainder is 0\n",
        "  print(\"The number\", num, \"is even\") # if it is zero, it prints that num is an even number\n",
        "else:\n",
        "  print(\"The number\", num, \"is odd\") # if it is not zero, it prints that num is an even number"
      ],
      "metadata": {
        "id": "vcYhNNaU09Uz",
        "colab": {
          "base_uri": "https://localhost:8080/"
        },
        "outputId": "a45656b0-5f2b-4ddc-c319-7294c092bdb7"
      },
      "execution_count": 3,
      "outputs": [
        {
          "output_type": "stream",
          "name": "stdout",
          "text": [
            "Enter a number: 0\n",
            "The number 0 is even\n"
          ]
        }
      ]
    },
    {
      "cell_type": "markdown",
      "source": [
        "##Write a Python program to count the number 4 in a given list"
      ],
      "metadata": {
        "id": "NP5TZKqO09Rr"
      }
    },
    {
      "cell_type": "code",
      "source": [
        "list1 = [0, 1, 2, 3, 4, 5, 4, 3, 4, 1, 4] # creating a list with ints\n",
        "count = 0 # creating a variable to keep track of how many times 4 comes up\n",
        "for i in list1: # iterating through the list\n",
        "  if list1[i] == 4: # checking if there is a 4 in that specific index \n",
        "    count += 1 # increasing count by 1 if there is a 4 in that index\n",
        "\n",
        "print(\"The numbers of 4 in the list is\", count) # prints how many 4s are in the list"
      ],
      "metadata": {
        "id": "oWZ3vTfW09Oh",
        "colab": {
          "base_uri": "https://localhost:8080/"
        },
        "outputId": "35cd5a07-a015-4699-bb9b-be17e5455b60"
      },
      "execution_count": 6,
      "outputs": [
        {
          "output_type": "stream",
          "name": "stdout",
          "text": [
            "The numbers of 4 in the list is 4\n"
          ]
        }
      ]
    },
    {
      "cell_type": "markdown",
      "source": [
        "##Write a Python program that will accept the base and height of a triangle and compute the area"
      ],
      "metadata": {
        "id": "IK0FvUoa1MJG"
      }
    },
    {
      "cell_type": "code",
      "source": [
        "base = int(input(\"Enter a number for the base: \")) # get user's input for the base\n",
        "height = int(input(\"Enter a number for the height: \")) # get user's input for the height\n",
        "area_of_triangle = 1/2*base*height # calculating the area of a triangle since A = 1/2bh\n",
        "print(\"The area of a triangle with a base of\", base, \" cm and height of\", height, \"cm is\", area_of_triangle, \"cm squared\") # prints out what the area of triangle "
      ],
      "metadata": {
        "id": "G02dv4rh1MFs",
        "colab": {
          "base_uri": "https://localhost:8080/"
        },
        "outputId": "578e93af-f42d-4bf7-8265-282da1f6289d"
      },
      "execution_count": 13,
      "outputs": [
        {
          "output_type": "stream",
          "name": "stdout",
          "text": [
            "Enter a number for the base: 2\n",
            "Enter a number for the height: 3\n",
            "The area of a triangle with a base of 2  cm and height of 3 cm is 3.0 cm squared\n"
          ]
        }
      ]
    },
    {
      "cell_type": "markdown",
      "source": [
        "##Write a Python program to convert the distance (in feet) to inches, yards, and miles."
      ],
      "metadata": {
        "id": "sOkeycZk1L5-"
      }
    },
    {
      "cell_type": "code",
      "source": [
        "distance = 12 # setting the distance as 12 ft\n",
        "distance_to_inches = distance * 12 # converting the distance to inches by multiplying the distance by 12\n",
        "print(distance, \"ft is equal to\", distance_to_inches, \"inches\") # printing out what the distance converted to inches is "
      ],
      "metadata": {
        "id": "YtW-ZxqB1L2c",
        "colab": {
          "base_uri": "https://localhost:8080/"
        },
        "outputId": "345e7556-74a4-41a8-ccce-690d460616b5"
      },
      "execution_count": 18,
      "outputs": [
        {
          "output_type": "stream",
          "name": "stdout",
          "text": [
            "12 ft is equal to 144 inches\n"
          ]
        }
      ]
    },
    {
      "cell_type": "code",
      "source": [
        "distance = 12 # setting the distance as 12 ft\n",
        "distance_to_yards = distance / 3 # converting the distance to yards by dividing the distance by 3\n",
        "print(distance, \"ft is equal to\", distance_to_yards, \"yards\") # printing out what the distance converted to yards is "
      ],
      "metadata": {
        "colab": {
          "base_uri": "https://localhost:8080/"
        },
        "id": "tAuq2VnlcRnv",
        "outputId": "a757ac0a-5213-4e3f-8bef-106e5e9c7eeb"
      },
      "execution_count": 19,
      "outputs": [
        {
          "output_type": "stream",
          "name": "stdout",
          "text": [
            "12 ft is equal to 4.0 yards\n"
          ]
        }
      ]
    },
    {
      "cell_type": "code",
      "source": [
        "distance = 132 # setting the distance as 132 ft\n",
        "distance_to_miles = distance / 5280 # converting the distance to miles by dividing the distance by 5280 \n",
        "print(distance, \"ft is equal to\", distance_to_miles, \"miles\") # printing out what the distance converted to miles is "
      ],
      "metadata": {
        "colab": {
          "base_uri": "https://localhost:8080/"
        },
        "id": "gpqtO8EzcRa7",
        "outputId": "86e40665-5f30-4d28-cfd2-070e6adaff1b"
      },
      "execution_count": 20,
      "outputs": [
        {
          "output_type": "stream",
          "name": "stdout",
          "text": [
            "132 ft is equal to 0.025 miles\n"
          ]
        }
      ]
    }
  ]
}