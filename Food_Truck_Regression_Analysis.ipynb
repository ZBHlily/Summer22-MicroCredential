{
  "nbformat": 4,
  "nbformat_minor": 0,
  "metadata": {
    "colab": {
      "name": "Food Truck Regression Analysis.ipynb",
      "provenance": [],
      "collapsed_sections": [],
      "authorship_tag": "ABX9TyO9ET4mfST4eL+hGbMJAudf",
      "include_colab_link": true
    },
    "kernelspec": {
      "name": "python3",
      "display_name": "Python 3"
    },
    "language_info": {
      "name": "python"
    }
  },
  "cells": [
    {
      "cell_type": "markdown",
      "metadata": {
        "id": "view-in-github",
        "colab_type": "text"
      },
      "source": [
        "<a href=\"https://colab.research.google.com/github/ZBHlily/Summer22-MicroCredential/blob/main/Food_Truck_Regression_Analysis.ipynb\" target=\"_parent\"><img src=\"https://colab.research.google.com/assets/colab-badge.svg\" alt=\"Open In Colab\"/></a>"
      ]
    },
    {
      "cell_type": "markdown",
      "source": [
        "# Task 1: Identify the problem "
      ],
      "metadata": {
        "id": "Ih9NEKaF_zb6"
      }
    },
    {
      "cell_type": "markdown",
      "source": [
        "This analysis is to predict the projected profit of a foodtruck company on a specficed population area "
      ],
      "metadata": {
        "id": "dOFtzofVm0jB"
      }
    },
    {
      "cell_type": "markdown",
      "source": [
        "# Task 2: Load the Libraries"
      ],
      "metadata": {
        "id": "dToYu9_BAI6A"
      }
    },
    {
      "cell_type": "code",
      "source": [
        "import pandas as pd\n",
        "import numpy as np\n",
        "import seaborn as sns\n",
        "import matplotlib.pyplot as plt\n",
        "\n",
        "plt.style.use('ggplot')\n",
        "plt.rcParams['figure.figsize'] = (12,8)\n",
        "# from sklearn.linear_model import LinearRegression\n",
        "# from sklearn.model_selection import train_test_split"
      ],
      "metadata": {
        "id": "nl5k26emnAJ0"
      },
      "execution_count": null,
      "outputs": []
    },
    {
      "cell_type": "markdown",
      "source": [
        "# Task 3: Load the data"
      ],
      "metadata": {
        "id": "B1WbDGM_ANTg"
      }
    },
    {
      "cell_type": "code",
      "source": [
        "data = pd.read_csv(\"https://raw.githubusercontent.com/ZBHlily/Summer22-MicroCredential-Data/main/food_truck_data.txt\")"
      ],
      "metadata": {
        "id": "IWb1gG1km7lr"
      },
      "execution_count": null,
      "outputs": []
    },
    {
      "cell_type": "markdown",
      "source": [
        "# Task 4: EDA ( Exploratory Data Analysis )\n"
      ],
      "metadata": {
        "id": "ff1u9kYKARvx"
      }
    },
    {
      "cell_type": "code",
      "source": [
        "data.head()"
      ],
      "metadata": {
        "colab": {
          "base_uri": "https://localhost:8080/",
          "height": 206
        },
        "id": "C3cslR-QnbKZ",
        "outputId": "fb426db5-6e84-4919-fcf1-9d76dac82a1e"
      },
      "execution_count": null,
      "outputs": [
        {
          "output_type": "execute_result",
          "data": {
            "text/plain": [
              "   Population   Profit\n",
              "0      6.1101  17.5920\n",
              "1      5.5277   9.1302\n",
              "2      8.5186  13.6620\n",
              "3      7.0032  11.8540\n",
              "4      5.8598   6.8233"
            ],
            "text/html": [
              "\n",
              "  <div id=\"df-02db465b-4a95-4b25-90ca-c9b918c13505\">\n",
              "    <div class=\"colab-df-container\">\n",
              "      <div>\n",
              "<style scoped>\n",
              "    .dataframe tbody tr th:only-of-type {\n",
              "        vertical-align: middle;\n",
              "    }\n",
              "\n",
              "    .dataframe tbody tr th {\n",
              "        vertical-align: top;\n",
              "    }\n",
              "\n",
              "    .dataframe thead th {\n",
              "        text-align: right;\n",
              "    }\n",
              "</style>\n",
              "<table border=\"1\" class=\"dataframe\">\n",
              "  <thead>\n",
              "    <tr style=\"text-align: right;\">\n",
              "      <th></th>\n",
              "      <th>Population</th>\n",
              "      <th>Profit</th>\n",
              "    </tr>\n",
              "  </thead>\n",
              "  <tbody>\n",
              "    <tr>\n",
              "      <th>0</th>\n",
              "      <td>6.1101</td>\n",
              "      <td>17.5920</td>\n",
              "    </tr>\n",
              "    <tr>\n",
              "      <th>1</th>\n",
              "      <td>5.5277</td>\n",
              "      <td>9.1302</td>\n",
              "    </tr>\n",
              "    <tr>\n",
              "      <th>2</th>\n",
              "      <td>8.5186</td>\n",
              "      <td>13.6620</td>\n",
              "    </tr>\n",
              "    <tr>\n",
              "      <th>3</th>\n",
              "      <td>7.0032</td>\n",
              "      <td>11.8540</td>\n",
              "    </tr>\n",
              "    <tr>\n",
              "      <th>4</th>\n",
              "      <td>5.8598</td>\n",
              "      <td>6.8233</td>\n",
              "    </tr>\n",
              "  </tbody>\n",
              "</table>\n",
              "</div>\n",
              "      <button class=\"colab-df-convert\" onclick=\"convertToInteractive('df-02db465b-4a95-4b25-90ca-c9b918c13505')\"\n",
              "              title=\"Convert this dataframe to an interactive table.\"\n",
              "              style=\"display:none;\">\n",
              "        \n",
              "  <svg xmlns=\"http://www.w3.org/2000/svg\" height=\"24px\"viewBox=\"0 0 24 24\"\n",
              "       width=\"24px\">\n",
              "    <path d=\"M0 0h24v24H0V0z\" fill=\"none\"/>\n",
              "    <path d=\"M18.56 5.44l.94 2.06.94-2.06 2.06-.94-2.06-.94-.94-2.06-.94 2.06-2.06.94zm-11 1L8.5 8.5l.94-2.06 2.06-.94-2.06-.94L8.5 2.5l-.94 2.06-2.06.94zm10 10l.94 2.06.94-2.06 2.06-.94-2.06-.94-.94-2.06-.94 2.06-2.06.94z\"/><path d=\"M17.41 7.96l-1.37-1.37c-.4-.4-.92-.59-1.43-.59-.52 0-1.04.2-1.43.59L10.3 9.45l-7.72 7.72c-.78.78-.78 2.05 0 2.83L4 21.41c.39.39.9.59 1.41.59.51 0 1.02-.2 1.41-.59l7.78-7.78 2.81-2.81c.8-.78.8-2.07 0-2.86zM5.41 20L4 18.59l7.72-7.72 1.47 1.35L5.41 20z\"/>\n",
              "  </svg>\n",
              "      </button>\n",
              "      \n",
              "  <style>\n",
              "    .colab-df-container {\n",
              "      display:flex;\n",
              "      flex-wrap:wrap;\n",
              "      gap: 12px;\n",
              "    }\n",
              "\n",
              "    .colab-df-convert {\n",
              "      background-color: #E8F0FE;\n",
              "      border: none;\n",
              "      border-radius: 50%;\n",
              "      cursor: pointer;\n",
              "      display: none;\n",
              "      fill: #1967D2;\n",
              "      height: 32px;\n",
              "      padding: 0 0 0 0;\n",
              "      width: 32px;\n",
              "    }\n",
              "\n",
              "    .colab-df-convert:hover {\n",
              "      background-color: #E2EBFA;\n",
              "      box-shadow: 0px 1px 2px rgba(60, 64, 67, 0.3), 0px 1px 3px 1px rgba(60, 64, 67, 0.15);\n",
              "      fill: #174EA6;\n",
              "    }\n",
              "\n",
              "    [theme=dark] .colab-df-convert {\n",
              "      background-color: #3B4455;\n",
              "      fill: #D2E3FC;\n",
              "    }\n",
              "\n",
              "    [theme=dark] .colab-df-convert:hover {\n",
              "      background-color: #434B5C;\n",
              "      box-shadow: 0px 1px 3px 1px rgba(0, 0, 0, 0.15);\n",
              "      filter: drop-shadow(0px 1px 2px rgba(0, 0, 0, 0.3));\n",
              "      fill: #FFFFFF;\n",
              "    }\n",
              "  </style>\n",
              "\n",
              "      <script>\n",
              "        const buttonEl =\n",
              "          document.querySelector('#df-02db465b-4a95-4b25-90ca-c9b918c13505 button.colab-df-convert');\n",
              "        buttonEl.style.display =\n",
              "          google.colab.kernel.accessAllowed ? 'block' : 'none';\n",
              "\n",
              "        async function convertToInteractive(key) {\n",
              "          const element = document.querySelector('#df-02db465b-4a95-4b25-90ca-c9b918c13505');\n",
              "          const dataTable =\n",
              "            await google.colab.kernel.invokeFunction('convertToInteractive',\n",
              "                                                     [key], {});\n",
              "          if (!dataTable) return;\n",
              "\n",
              "          const docLinkHtml = 'Like what you see? Visit the ' +\n",
              "            '<a target=\"_blank\" href=https://colab.research.google.com/notebooks/data_table.ipynb>data table notebook</a>'\n",
              "            + ' to learn more about interactive tables.';\n",
              "          element.innerHTML = '';\n",
              "          dataTable['output_type'] = 'display_data';\n",
              "          await google.colab.output.renderOutput(dataTable, element);\n",
              "          const docLink = document.createElement('div');\n",
              "          docLink.innerHTML = docLinkHtml;\n",
              "          element.appendChild(docLink);\n",
              "        }\n",
              "      </script>\n",
              "    </div>\n",
              "  </div>\n",
              "  "
            ]
          },
          "metadata": {},
          "execution_count": 7
        }
      ]
    },
    {
      "cell_type": "code",
      "source": [
        "data.info"
      ],
      "metadata": {
        "colab": {
          "base_uri": "https://localhost:8080/"
        },
        "id": "EDRyDpUUnvIV",
        "outputId": "06e02d83-8291-40f3-acd4-fa99099dae6a"
      },
      "execution_count": null,
      "outputs": [
        {
          "output_type": "execute_result",
          "data": {
            "text/plain": [
              "<bound method DataFrame.info of     Population    Profit\n",
              "0       6.1101  17.59200\n",
              "1       5.5277   9.13020\n",
              "2       8.5186  13.66200\n",
              "3       7.0032  11.85400\n",
              "4       5.8598   6.82330\n",
              "..         ...       ...\n",
              "92      5.8707   7.20290\n",
              "93      5.3054   1.98690\n",
              "94      8.2934   0.14454\n",
              "95     13.3940   9.05510\n",
              "96      5.4369   0.61705\n",
              "\n",
              "[97 rows x 2 columns]>"
            ]
          },
          "metadata": {},
          "execution_count": 9
        }
      ]
    },
    {
      "cell_type": "code",
      "source": [
        "data.describe"
      ],
      "metadata": {
        "id": "6PC8Nfbsn3pN",
        "colab": {
          "base_uri": "https://localhost:8080/"
        },
        "outputId": "af3e149a-4b3b-4149-9170-21081e9e7ab4"
      },
      "execution_count": null,
      "outputs": [
        {
          "output_type": "execute_result",
          "data": {
            "text/plain": [
              "<bound method NDFrame.describe of     Population    Profit\n",
              "0       6.1101  17.59200\n",
              "1       5.5277   9.13020\n",
              "2       8.5186  13.66200\n",
              "3       7.0032  11.85400\n",
              "4       5.8598   6.82330\n",
              "..         ...       ...\n",
              "92      5.8707   7.20290\n",
              "93      5.3054   1.98690\n",
              "94      8.2934   0.14454\n",
              "95     13.3940   9.05510\n",
              "96      5.4369   0.61705\n",
              "\n",
              "[97 rows x 2 columns]>"
            ]
          },
          "metadata": {},
          "execution_count": 10
        }
      ]
    },
    {
      "cell_type": "code",
      "source": [
        "data.columns"
      ],
      "metadata": {
        "colab": {
          "base_uri": "https://localhost:8080/"
        },
        "id": "wc32hCKG25QB",
        "outputId": "e4ed6952-d06c-4a95-c261-cbbd4cb755f5"
      },
      "execution_count": null,
      "outputs": [
        {
          "output_type": "execute_result",
          "data": {
            "text/plain": [
              "Index(['Population', 'Profit'], dtype='object')"
            ]
          },
          "metadata": {},
          "execution_count": 11
        }
      ]
    },
    {
      "cell_type": "code",
      "source": [
        "data.isnull()"
      ],
      "metadata": {
        "colab": {
          "base_uri": "https://localhost:8080/",
          "height": 424
        },
        "id": "8FoKArCA2883",
        "outputId": "c50a3adf-20ff-43e4-80eb-5522b1a9ef75"
      },
      "execution_count": null,
      "outputs": [
        {
          "output_type": "execute_result",
          "data": {
            "text/plain": [
              "    Population  Profit\n",
              "0        False   False\n",
              "1        False   False\n",
              "2        False   False\n",
              "3        False   False\n",
              "4        False   False\n",
              "..         ...     ...\n",
              "92       False   False\n",
              "93       False   False\n",
              "94       False   False\n",
              "95       False   False\n",
              "96       False   False\n",
              "\n",
              "[97 rows x 2 columns]"
            ],
            "text/html": [
              "\n",
              "  <div id=\"df-8fc73cc7-b31d-4c03-b91e-08ea6e7ba522\">\n",
              "    <div class=\"colab-df-container\">\n",
              "      <div>\n",
              "<style scoped>\n",
              "    .dataframe tbody tr th:only-of-type {\n",
              "        vertical-align: middle;\n",
              "    }\n",
              "\n",
              "    .dataframe tbody tr th {\n",
              "        vertical-align: top;\n",
              "    }\n",
              "\n",
              "    .dataframe thead th {\n",
              "        text-align: right;\n",
              "    }\n",
              "</style>\n",
              "<table border=\"1\" class=\"dataframe\">\n",
              "  <thead>\n",
              "    <tr style=\"text-align: right;\">\n",
              "      <th></th>\n",
              "      <th>Population</th>\n",
              "      <th>Profit</th>\n",
              "    </tr>\n",
              "  </thead>\n",
              "  <tbody>\n",
              "    <tr>\n",
              "      <th>0</th>\n",
              "      <td>False</td>\n",
              "      <td>False</td>\n",
              "    </tr>\n",
              "    <tr>\n",
              "      <th>1</th>\n",
              "      <td>False</td>\n",
              "      <td>False</td>\n",
              "    </tr>\n",
              "    <tr>\n",
              "      <th>2</th>\n",
              "      <td>False</td>\n",
              "      <td>False</td>\n",
              "    </tr>\n",
              "    <tr>\n",
              "      <th>3</th>\n",
              "      <td>False</td>\n",
              "      <td>False</td>\n",
              "    </tr>\n",
              "    <tr>\n",
              "      <th>4</th>\n",
              "      <td>False</td>\n",
              "      <td>False</td>\n",
              "    </tr>\n",
              "    <tr>\n",
              "      <th>...</th>\n",
              "      <td>...</td>\n",
              "      <td>...</td>\n",
              "    </tr>\n",
              "    <tr>\n",
              "      <th>92</th>\n",
              "      <td>False</td>\n",
              "      <td>False</td>\n",
              "    </tr>\n",
              "    <tr>\n",
              "      <th>93</th>\n",
              "      <td>False</td>\n",
              "      <td>False</td>\n",
              "    </tr>\n",
              "    <tr>\n",
              "      <th>94</th>\n",
              "      <td>False</td>\n",
              "      <td>False</td>\n",
              "    </tr>\n",
              "    <tr>\n",
              "      <th>95</th>\n",
              "      <td>False</td>\n",
              "      <td>False</td>\n",
              "    </tr>\n",
              "    <tr>\n",
              "      <th>96</th>\n",
              "      <td>False</td>\n",
              "      <td>False</td>\n",
              "    </tr>\n",
              "  </tbody>\n",
              "</table>\n",
              "<p>97 rows × 2 columns</p>\n",
              "</div>\n",
              "      <button class=\"colab-df-convert\" onclick=\"convertToInteractive('df-8fc73cc7-b31d-4c03-b91e-08ea6e7ba522')\"\n",
              "              title=\"Convert this dataframe to an interactive table.\"\n",
              "              style=\"display:none;\">\n",
              "        \n",
              "  <svg xmlns=\"http://www.w3.org/2000/svg\" height=\"24px\"viewBox=\"0 0 24 24\"\n",
              "       width=\"24px\">\n",
              "    <path d=\"M0 0h24v24H0V0z\" fill=\"none\"/>\n",
              "    <path d=\"M18.56 5.44l.94 2.06.94-2.06 2.06-.94-2.06-.94-.94-2.06-.94 2.06-2.06.94zm-11 1L8.5 8.5l.94-2.06 2.06-.94-2.06-.94L8.5 2.5l-.94 2.06-2.06.94zm10 10l.94 2.06.94-2.06 2.06-.94-2.06-.94-.94-2.06-.94 2.06-2.06.94z\"/><path d=\"M17.41 7.96l-1.37-1.37c-.4-.4-.92-.59-1.43-.59-.52 0-1.04.2-1.43.59L10.3 9.45l-7.72 7.72c-.78.78-.78 2.05 0 2.83L4 21.41c.39.39.9.59 1.41.59.51 0 1.02-.2 1.41-.59l7.78-7.78 2.81-2.81c.8-.78.8-2.07 0-2.86zM5.41 20L4 18.59l7.72-7.72 1.47 1.35L5.41 20z\"/>\n",
              "  </svg>\n",
              "      </button>\n",
              "      \n",
              "  <style>\n",
              "    .colab-df-container {\n",
              "      display:flex;\n",
              "      flex-wrap:wrap;\n",
              "      gap: 12px;\n",
              "    }\n",
              "\n",
              "    .colab-df-convert {\n",
              "      background-color: #E8F0FE;\n",
              "      border: none;\n",
              "      border-radius: 50%;\n",
              "      cursor: pointer;\n",
              "      display: none;\n",
              "      fill: #1967D2;\n",
              "      height: 32px;\n",
              "      padding: 0 0 0 0;\n",
              "      width: 32px;\n",
              "    }\n",
              "\n",
              "    .colab-df-convert:hover {\n",
              "      background-color: #E2EBFA;\n",
              "      box-shadow: 0px 1px 2px rgba(60, 64, 67, 0.3), 0px 1px 3px 1px rgba(60, 64, 67, 0.15);\n",
              "      fill: #174EA6;\n",
              "    }\n",
              "\n",
              "    [theme=dark] .colab-df-convert {\n",
              "      background-color: #3B4455;\n",
              "      fill: #D2E3FC;\n",
              "    }\n",
              "\n",
              "    [theme=dark] .colab-df-convert:hover {\n",
              "      background-color: #434B5C;\n",
              "      box-shadow: 0px 1px 3px 1px rgba(0, 0, 0, 0.15);\n",
              "      filter: drop-shadow(0px 1px 2px rgba(0, 0, 0, 0.3));\n",
              "      fill: #FFFFFF;\n",
              "    }\n",
              "  </style>\n",
              "\n",
              "      <script>\n",
              "        const buttonEl =\n",
              "          document.querySelector('#df-8fc73cc7-b31d-4c03-b91e-08ea6e7ba522 button.colab-df-convert');\n",
              "        buttonEl.style.display =\n",
              "          google.colab.kernel.accessAllowed ? 'block' : 'none';\n",
              "\n",
              "        async function convertToInteractive(key) {\n",
              "          const element = document.querySelector('#df-8fc73cc7-b31d-4c03-b91e-08ea6e7ba522');\n",
              "          const dataTable =\n",
              "            await google.colab.kernel.invokeFunction('convertToInteractive',\n",
              "                                                     [key], {});\n",
              "          if (!dataTable) return;\n",
              "\n",
              "          const docLinkHtml = 'Like what you see? Visit the ' +\n",
              "            '<a target=\"_blank\" href=https://colab.research.google.com/notebooks/data_table.ipynb>data table notebook</a>'\n",
              "            + ' to learn more about interactive tables.';\n",
              "          element.innerHTML = '';\n",
              "          dataTable['output_type'] = 'display_data';\n",
              "          await google.colab.output.renderOutput(dataTable, element);\n",
              "          const docLink = document.createElement('div');\n",
              "          docLink.innerHTML = docLinkHtml;\n",
              "          element.appendChild(docLink);\n",
              "        }\n",
              "      </script>\n",
              "    </div>\n",
              "  </div>\n",
              "  "
            ]
          },
          "metadata": {},
          "execution_count": 12
        }
      ]
    },
    {
      "cell_type": "code",
      "source": [
        "data.isnull().value_counts()"
      ],
      "metadata": {
        "colab": {
          "base_uri": "https://localhost:8080/"
        },
        "id": "IbOpOmjE3CUQ",
        "outputId": "fdb2d993-39ab-4c6e-f290-286d216da657"
      },
      "execution_count": null,
      "outputs": [
        {
          "output_type": "execute_result",
          "data": {
            "text/plain": [
              "Population  Profit\n",
              "False       False     97\n",
              "dtype: int64"
            ]
          },
          "metadata": {},
          "execution_count": 13
        }
      ]
    },
    {
      "cell_type": "markdown",
      "source": [
        "# Task 5: Data Visualization"
      ],
      "metadata": {
        "id": "RqJhnp_hCTis"
      }
    },
    {
      "cell_type": "code",
      "source": [
        "ax = sns.scatterplot(x = 'Population', y = 'Profit', data = data)\n",
        "ax.set_title(\"Profit in $10000s vs City Population in 10000s\");"
      ],
      "metadata": {
        "colab": {
          "base_uri": "https://localhost:8080/",
          "height": 517
        },
        "id": "wzPvOTgF4Kjw",
        "outputId": "532feda7-a677-4df5-a1c5-81a1ee3b2c1a"
      },
      "execution_count": null,
      "outputs": [
        {
          "output_type": "display_data",
          "data": {
            "text/plain": [
              "<Figure size 864x576 with 1 Axes>"
            ],
            "image/png": "[encoded data removed]"
          },
          "metadata": {}
        }
      ]
    },
    {
      "cell_type": "markdown",
      "source": [
        "# Task 6: Compute the cost Function"
      ],
      "metadata": {
        "id": "9wqJyfqfCTZF"
      }
    },
    {
      "cell_type": "code",
      "source": [
        "def cost_function(X, y, theta):\n",
        "  m = len(y)\n",
        "  y_pred = X.dot(theta)\n",
        "  error = (y_pred - y)**2\n",
        "\n",
        "  return 1/ (2*m)*np.sum(error)\n",
        "\n",
        "#https://www.analyticsvidhya.com/blog/2021/02/cost-function-is-no-rocket-science/\n"
      ],
      "metadata": {
        "id": "j9pu1SNj4x5F"
      },
      "execution_count": null,
      "outputs": []
    },
    {
      "cell_type": "code",
      "source": [
        "data.head()"
      ],
      "metadata": {
        "colab": {
          "base_uri": "https://localhost:8080/",
          "height": 206
        },
        "id": "C1En72JI42-W",
        "outputId": "efc35558-cd04-404d-8e44-f51fec8b66a2"
      },
      "execution_count": null,
      "outputs": [
        {
          "output_type": "execute_result",
          "data": {
            "text/plain": [
              "   Population   Profit\n",
              "0      6.1101  17.5920\n",
              "1      5.5277   9.1302\n",
              "2      8.5186  13.6620\n",
              "3      7.0032  11.8540\n",
              "4      5.8598   6.8233"
            ],
            "text/html": [
              "\n",
              "  <div id=\"df-0c56980e-9203-46b3-a9f7-79d059f10bae\">\n",
              "    <div class=\"colab-df-container\">\n",
              "      <div>\n",
              "<style scoped>\n",
              "    .dataframe tbody tr th:only-of-type {\n",
              "        vertical-align: middle;\n",
              "    }\n",
              "\n",
              "    .dataframe tbody tr th {\n",
              "        vertical-align: top;\n",
              "    }\n",
              "\n",
              "    .dataframe thead th {\n",
              "        text-align: right;\n",
              "    }\n",
              "</style>\n",
              "<table border=\"1\" class=\"dataframe\">\n",
              "  <thead>\n",
              "    <tr style=\"text-align: right;\">\n",
              "      <th></th>\n",
              "      <th>Population</th>\n",
              "      <th>Profit</th>\n",
              "    </tr>\n",
              "  </thead>\n",
              "  <tbody>\n",
              "    <tr>\n",
              "      <th>0</th>\n",
              "      <td>6.1101</td>\n",
              "      <td>17.5920</td>\n",
              "    </tr>\n",
              "    <tr>\n",
              "      <th>1</th>\n",
              "      <td>5.5277</td>\n",
              "      <td>9.1302</td>\n",
              "    </tr>\n",
              "    <tr>\n",
              "      <th>2</th>\n",
              "      <td>8.5186</td>\n",
              "      <td>13.6620</td>\n",
              "    </tr>\n",
              "    <tr>\n",
              "      <th>3</th>\n",
              "      <td>7.0032</td>\n",
              "      <td>11.8540</td>\n",
              "    </tr>\n",
              "    <tr>\n",
              "      <th>4</th>\n",
              "      <td>5.8598</td>\n",
              "      <td>6.8233</td>\n",
              "    </tr>\n",
              "  </tbody>\n",
              "</table>\n",
              "</div>\n",
              "      <button class=\"colab-df-convert\" onclick=\"convertToInteractive('df-0c56980e-9203-46b3-a9f7-79d059f10bae')\"\n",
              "              title=\"Convert this dataframe to an interactive table.\"\n",
              "              style=\"display:none;\">\n",
              "        \n",
              "  <svg xmlns=\"http://www.w3.org/2000/svg\" height=\"24px\"viewBox=\"0 0 24 24\"\n",
              "       width=\"24px\">\n",
              "    <path d=\"M0 0h24v24H0V0z\" fill=\"none\"/>\n",
              "    <path d=\"M18.56 5.44l.94 2.06.94-2.06 2.06-.94-2.06-.94-.94-2.06-.94 2.06-2.06.94zm-11 1L8.5 8.5l.94-2.06 2.06-.94-2.06-.94L8.5 2.5l-.94 2.06-2.06.94zm10 10l.94 2.06.94-2.06 2.06-.94-2.06-.94-.94-2.06-.94 2.06-2.06.94z\"/><path d=\"M17.41 7.96l-1.37-1.37c-.4-.4-.92-.59-1.43-.59-.52 0-1.04.2-1.43.59L10.3 9.45l-7.72 7.72c-.78.78-.78 2.05 0 2.83L4 21.41c.39.39.9.59 1.41.59.51 0 1.02-.2 1.41-.59l7.78-7.78 2.81-2.81c.8-.78.8-2.07 0-2.86zM5.41 20L4 18.59l7.72-7.72 1.47 1.35L5.41 20z\"/>\n",
              "  </svg>\n",
              "      </button>\n",
              "      \n",
              "  <style>\n",
              "    .colab-df-container {\n",
              "      display:flex;\n",
              "      flex-wrap:wrap;\n",
              "      gap: 12px;\n",
              "    }\n",
              "\n",
              "    .colab-df-convert {\n",
              "      background-color: #E8F0FE;\n",
              "      border: none;\n",
              "      border-radius: 50%;\n",
              "      cursor: pointer;\n",
              "      display: none;\n",
              "      fill: #1967D2;\n",
              "      height: 32px;\n",
              "      padding: 0 0 0 0;\n",
              "      width: 32px;\n",
              "    }\n",
              "\n",
              "    .colab-df-convert:hover {\n",
              "      background-color: #E2EBFA;\n",
              "      box-shadow: 0px 1px 2px rgba(60, 64, 67, 0.3), 0px 1px 3px 1px rgba(60, 64, 67, 0.15);\n",
              "      fill: #174EA6;\n",
              "    }\n",
              "\n",
              "    [theme=dark] .colab-df-convert {\n",
              "      background-color: #3B4455;\n",
              "      fill: #D2E3FC;\n",
              "    }\n",
              "\n",
              "    [theme=dark] .colab-df-convert:hover {\n",
              "      background-color: #434B5C;\n",
              "      box-shadow: 0px 1px 3px 1px rgba(0, 0, 0, 0.15);\n",
              "      filter: drop-shadow(0px 1px 2px rgba(0, 0, 0, 0.3));\n",
              "      fill: #FFFFFF;\n",
              "    }\n",
              "  </style>\n",
              "\n",
              "      <script>\n",
              "        const buttonEl =\n",
              "          document.querySelector('#df-0c56980e-9203-46b3-a9f7-79d059f10bae button.colab-df-convert');\n",
              "        buttonEl.style.display =\n",
              "          google.colab.kernel.accessAllowed ? 'block' : 'none';\n",
              "\n",
              "        async function convertToInteractive(key) {\n",
              "          const element = document.querySelector('#df-0c56980e-9203-46b3-a9f7-79d059f10bae');\n",
              "          const dataTable =\n",
              "            await google.colab.kernel.invokeFunction('convertToInteractive',\n",
              "                                                     [key], {});\n",
              "          if (!dataTable) return;\n",
              "\n",
              "          const docLinkHtml = 'Like what you see? Visit the ' +\n",
              "            '<a target=\"_blank\" href=https://colab.research.google.com/notebooks/data_table.ipynb>data table notebook</a>'\n",
              "            + ' to learn more about interactive tables.';\n",
              "          element.innerHTML = '';\n",
              "          dataTable['output_type'] = 'display_data';\n",
              "          await google.colab.output.renderOutput(dataTable, element);\n",
              "          const docLink = document.createElement('div');\n",
              "          docLink.innerHTML = docLinkHtml;\n",
              "          element.appendChild(docLink);\n",
              "        }\n",
              "      </script>\n",
              "    </div>\n",
              "  </div>\n",
              "  "
            ]
          },
          "metadata": {},
          "execution_count": 18
        }
      ]
    },
    {
      "cell_type": "code",
      "source": [
        "data.Population"
      ],
      "metadata": {
        "colab": {
          "base_uri": "https://localhost:8080/"
        },
        "id": "BfC8AuNC422G",
        "outputId": "c4b02023-9a77-4835-afa2-8cbde98bf70a"
      },
      "execution_count": null,
      "outputs": [
        {
          "output_type": "execute_result",
          "data": {
            "text/plain": [
              "0      6.1101\n",
              "1      5.5277\n",
              "2      8.5186\n",
              "3      7.0032\n",
              "4      5.8598\n",
              "       ...   \n",
              "92     5.8707\n",
              "93     5.3054\n",
              "94     8.2934\n",
              "95    13.3940\n",
              "96     5.4369\n",
              "Name: Population, Length: 97, dtype: float64"
            ]
          },
          "metadata": {},
          "execution_count": 19
        }
      ]
    },
    {
      "cell_type": "code",
      "source": [
        "data.Population.values"
      ],
      "metadata": {
        "colab": {
          "base_uri": "https://localhost:8080/"
        },
        "id": "6x79ns9_48uk",
        "outputId": "8d7ef880-6a9b-46a4-a7aa-8a948eeebb4f"
      },
      "execution_count": null,
      "outputs": [
        {
          "output_type": "execute_result",
          "data": {
            "text/plain": [
              "array([ 6.1101,  5.5277,  8.5186,  7.0032,  5.8598,  8.3829,  7.4764,\n",
              "        8.5781,  6.4862,  5.0546,  5.7107, 14.164 ,  5.734 ,  8.4084,\n",
              "        5.6407,  5.3794,  6.3654,  5.1301,  6.4296,  7.0708,  6.1891,\n",
              "       20.27  ,  5.4901,  6.3261,  5.5649, 18.945 , 12.828 , 10.957 ,\n",
              "       13.176 , 22.203 ,  5.2524,  6.5894,  9.2482,  5.8918,  8.2111,\n",
              "        7.9334,  8.0959,  5.6063, 12.836 ,  6.3534,  5.4069,  6.8825,\n",
              "       11.708 ,  5.7737,  7.8247,  7.0931,  5.0702,  5.8014, 11.7   ,\n",
              "        5.5416,  7.5402,  5.3077,  7.4239,  7.6031,  6.3328,  6.3589,\n",
              "        6.2742,  5.6397,  9.3102,  9.4536,  8.8254,  5.1793, 21.279 ,\n",
              "       14.908 , 18.959 ,  7.2182,  8.2951, 10.236 ,  5.4994, 20.341 ,\n",
              "       10.136 ,  7.3345,  6.0062,  7.2259,  5.0269,  6.5479,  7.5386,\n",
              "        5.0365, 10.274 ,  5.1077,  5.7292,  5.1884,  6.3557,  9.7687,\n",
              "        6.5159,  8.5172,  9.1802,  6.002 ,  5.5204,  5.0594,  5.7077,\n",
              "        7.6366,  5.8707,  5.3054,  8.2934, 13.394 ,  5.4369])"
            ]
          },
          "metadata": {},
          "execution_count": 20
        }
      ]
    },
    {
      "cell_type": "code",
      "source": [
        "data.Population.values.size"
      ],
      "metadata": {
        "colab": {
          "base_uri": "https://localhost:8080/"
        },
        "id": "xMnbULqs48rR",
        "outputId": "da1e6145-a5df-4f3e-cf6e-306db50aad80"
      },
      "execution_count": null,
      "outputs": [
        {
          "output_type": "execute_result",
          "data": {
            "text/plain": [
              "97"
            ]
          },
          "metadata": {},
          "execution_count": 21
        }
      ]
    },
    {
      "cell_type": "code",
      "source": [
        "m = data.Population.values.size"
      ],
      "metadata": {
        "id": "S9iQgpWD48kG"
      },
      "execution_count": null,
      "outputs": []
    },
    {
      "cell_type": "code",
      "source": [
        "# add another dimension to accomodate teh intercept term and set it to all ones\n",
        "X = np.append(np.ones((m, 1)), data.Population.values.reshape(m, 1), axis = 1)\n",
        "y = data.Profit.values.reshape(m, 1)"
      ],
      "metadata": {
        "id": "DlFtcVC05Zoc"
      },
      "execution_count": null,
      "outputs": []
    },
    {
      "cell_type": "code",
      "source": [
        "X"
      ],
      "metadata": {
        "colab": {
          "base_uri": "https://localhost:8080/"
        },
        "id": "YxlloCPb5Zl4",
        "outputId": "534bfa6c-1f32-4d79-b8f1-daac9a8837e5"
      },
      "execution_count": null,
      "outputs": [
        {
          "output_type": "execute_result",
          "data": {
            "text/plain": [
              "array([[ 1.    ,  6.1101],\n",
              "       [ 1.    ,  5.5277],\n",
              "       [ 1.    ,  8.5186],\n",
              "       [ 1.    ,  7.0032],\n",
              "       [ 1.    ,  5.8598],\n",
              "       [ 1.    ,  8.3829],\n",
              "       [ 1.    ,  7.4764],\n",
              "       [ 1.    ,  8.5781],\n",
              "       [ 1.    ,  6.4862],\n",
              "       [ 1.    ,  5.0546],\n",
              "       [ 1.    ,  5.7107],\n",
              "       [ 1.    , 14.164 ],\n",
              "       [ 1.    ,  5.734 ],\n",
              "       [ 1.    ,  8.4084],\n",
              "       [ 1.    ,  5.6407],\n",
              "       [ 1.    ,  5.3794],\n",
              "       [ 1.    ,  6.3654],\n",
              "       [ 1.    ,  5.1301],\n",
              "       [ 1.    ,  6.4296],\n",
              "       [ 1.    ,  7.0708],\n",
              "       [ 1.    ,  6.1891],\n",
              "       [ 1.    , 20.27  ],\n",
              "       [ 1.    ,  5.4901],\n",
              "       [ 1.    ,  6.3261],\n",
              "       [ 1.    ,  5.5649],\n",
              "       [ 1.    , 18.945 ],\n",
              "       [ 1.    , 12.828 ],\n",
              "       [ 1.    , 10.957 ],\n",
              "       [ 1.    , 13.176 ],\n",
              "       [ 1.    , 22.203 ],\n",
              "       [ 1.    ,  5.2524],\n",
              "       [ 1.    ,  6.5894],\n",
              "       [ 1.    ,  9.2482],\n",
              "       [ 1.    ,  5.8918],\n",
              "       [ 1.    ,  8.2111],\n",
              "       [ 1.    ,  7.9334],\n",
              "       [ 1.    ,  8.0959],\n",
              "       [ 1.    ,  5.6063],\n",
              "       [ 1.    , 12.836 ],\n",
              "       [ 1.    ,  6.3534],\n",
              "       [ 1.    ,  5.4069],\n",
              "       [ 1.    ,  6.8825],\n",
              "       [ 1.    , 11.708 ],\n",
              "       [ 1.    ,  5.7737],\n",
              "       [ 1.    ,  7.8247],\n",
              "       [ 1.    ,  7.0931],\n",
              "       [ 1.    ,  5.0702],\n",
              "       [ 1.    ,  5.8014],\n",
              "       [ 1.    , 11.7   ],\n",
              "       [ 1.    ,  5.5416],\n",
              "       [ 1.    ,  7.5402],\n",
              "       [ 1.    ,  5.3077],\n",
              "       [ 1.    ,  7.4239],\n",
              "       [ 1.    ,  7.6031],\n",
              "       [ 1.    ,  6.3328],\n",
              "       [ 1.    ,  6.3589],\n",
              "       [ 1.    ,  6.2742],\n",
              "       [ 1.    ,  5.6397],\n",
              "       [ 1.    ,  9.3102],\n",
              "       [ 1.    ,  9.4536],\n",
              "       [ 1.    ,  8.8254],\n",
              "       [ 1.    ,  5.1793],\n",
              "       [ 1.    , 21.279 ],\n",
              "       [ 1.    , 14.908 ],\n",
              "       [ 1.    , 18.959 ],\n",
              "       [ 1.    ,  7.2182],\n",
              "       [ 1.    ,  8.2951],\n",
              "       [ 1.    , 10.236 ],\n",
              "       [ 1.    ,  5.4994],\n",
              "       [ 1.    , 20.341 ],\n",
              "       [ 1.    , 10.136 ],\n",
              "       [ 1.    ,  7.3345],\n",
              "       [ 1.    ,  6.0062],\n",
              "       [ 1.    ,  7.2259],\n",
              "       [ 1.    ,  5.0269],\n",
              "       [ 1.    ,  6.5479],\n",
              "       [ 1.    ,  7.5386],\n",
              "       [ 1.    ,  5.0365],\n",
              "       [ 1.    , 10.274 ],\n",
              "       [ 1.    ,  5.1077],\n",
              "       [ 1.    ,  5.7292],\n",
              "       [ 1.    ,  5.1884],\n",
              "       [ 1.    ,  6.3557],\n",
              "       [ 1.    ,  9.7687],\n",
              "       [ 1.    ,  6.5159],\n",
              "       [ 1.    ,  8.5172],\n",
              "       [ 1.    ,  9.1802],\n",
              "       [ 1.    ,  6.002 ],\n",
              "       [ 1.    ,  5.5204],\n",
              "       [ 1.    ,  5.0594],\n",
              "       [ 1.    ,  5.7077],\n",
              "       [ 1.    ,  7.6366],\n",
              "       [ 1.    ,  5.8707],\n",
              "       [ 1.    ,  5.3054],\n",
              "       [ 1.    ,  8.2934],\n",
              "       [ 1.    , 13.394 ],\n",
              "       [ 1.    ,  5.4369]])"
            ]
          },
          "metadata": {},
          "execution_count": 29
        }
      ]
    },
    {
      "cell_type": "code",
      "source": [
        "theta = np.zeros((2,1))"
      ],
      "metadata": {
        "id": "KPNZAeuu5ZeH"
      },
      "execution_count": null,
      "outputs": []
    },
    {
      "cell_type": "code",
      "source": [
        "theta"
      ],
      "metadata": {
        "colab": {
          "base_uri": "https://localhost:8080/"
        },
        "id": "Jr2VD3Yy6yvB",
        "outputId": "bdfd2395-1714-4cd1-b5f9-7d885ec0138c"
      },
      "execution_count": null,
      "outputs": [
        {
          "output_type": "execute_result",
          "data": {
            "text/plain": [
              "array([[0.],\n",
              "       [0.]])"
            ]
          },
          "metadata": {},
          "execution_count": 31
        }
      ]
    },
    {
      "cell_type": "code",
      "source": [
        "cost_function(X,y, theta)"
      ],
      "metadata": {
        "colab": {
          "base_uri": "https://localhost:8080/"
        },
        "id": "bImK9y2S6ysr",
        "outputId": "c1e519f4-6d86-40fa-a083-0e21a621969b"
      },
      "execution_count": null,
      "outputs": [
        {
          "output_type": "execute_result",
          "data": {
            "text/plain": [
              "32.072733877455676"
            ]
          },
          "metadata": {},
          "execution_count": 32
        }
      ]
    },
    {
      "cell_type": "markdown",
      "source": [
        "# Task 7: Compute the Gradient Descent"
      ],
      "metadata": {
        "id": "cVYnnKQHCTKs"
      }
    },
    {
      "cell_type": "code",
      "source": [
        "from pandas.core.reshape.pivot import crosstab\n",
        "# https://en.wikipedia.org/wiki/Gradient_descent\n",
        "# https://towardsdatascience.com/gradient-descent-algorithm-a-deep-dive-cf04e8115f21\n",
        "# https://towardsdatascience.com/gradient-descent-in-python-a0d07285742f\n",
        "\n",
        "def gradient_descent(X, y, theta, alpha, iterations):\n",
        "  m = len(y)\n",
        "  costs = []\n",
        "  for i in range(iterations):\n",
        "    y_pred = X.dot(theta)\n",
        "    error = np.dot(X.transpose(), (y_pred - y))\n",
        "    theta -= alpha * 1/m * error #x-=1 is the same as x = x-1 || x+= 1 is the same as x = x+1\n",
        "    costs.append(cost_function(x,y, theta))\n",
        "\n",
        "  return theta, costs"
      ],
      "metadata": {
        "id": "OT8eEa8J6yqV"
      },
      "execution_count": null,
      "outputs": []
    },
    {
      "cell_type": "code",
      "source": [
        "theta, costs = gradient_descent(x, y, theta, alpha = 0.01, iterations = 1000)\n",
        "\n",
        "print(\"h(x) = {} + {}x1\".format(str(round(theta[0, 0], 2)), str(round(theta[1, 0], 2))))\n"
      ],
      "metadata": {
        "colab": {
          "base_uri": "https://localhost:8080/"
        },
        "id": "LDQ9Ra-P6ymi",
        "outputId": "e4f8b23a-2c4b-4ecf-f4e1-0046808fee00"
      },
      "execution_count": null,
      "outputs": [
        {
          "output_type": "stream",
          "name": "stdout",
          "text": [
            "h(x) = -3.24 + 1.13x1\n"
          ]
        }
      ]
    },
    {
      "cell_type": "code",
      "source": [
        "costs[899]"
      ],
      "metadata": {
        "colab": {
          "base_uri": "https://localhost:8080/"
        },
        "id": "IkZyupZN7F3S",
        "outputId": "a9d4594c-3cdf-411f-a712-176a031009ca"
      },
      "execution_count": null,
      "outputs": [
        {
          "output_type": "execute_result",
          "data": {
            "text/plain": [
              "4.532895679657962"
            ]
          },
          "metadata": {},
          "execution_count": 35
        }
      ]
    },
    {
      "cell_type": "markdown",
      "source": [
        "# Task 8: Visualizing the Cost Function"
      ],
      "metadata": {
        "id": "tTG75y8LDcav"
      }
    },
    {
      "cell_type": "code",
      "source": [
        "from mpl_toolkits.mplot3d import Axes3D"
      ],
      "metadata": {
        "id": "tD0h6bz07SzG"
      },
      "execution_count": null,
      "outputs": []
    },
    {
      "cell_type": "code",
      "source": [
        "theta_0 = np.linspace(-10, 10, 100)\n",
        "theta_1 = np.linspace(-1, 4, 100)\n",
        "\n",
        "cost_values = np.zeros((len(theta_0), len(theta_1)))\n",
        "\n",
        "for i in range(len(theta_0)):\n",
        "  for j in range(len(theta_1)):\n",
        "    t = np.array([theta_0[i], theta_1[i]])\n",
        "    cost_values[i, j] = cost_function(x, y, t)"
      ],
      "metadata": {
        "id": "BXdQzdhX7SsV"
      },
      "execution_count": null,
      "outputs": []
    },
    {
      "cell_type": "code",
      "source": [
        "fig = plt.figure(figsize = (12, 8))\n",
        "ax = fig.gca(projection = '3d')\n",
        "\n",
        "surf = ax.plot_surface(theta_0, theta_1, cost_values, cmap = 'viridis', linewidth = 0.2)\n",
        "fig.colorbar(surf, shrink = 0.5, aspect = 5)\n",
        "\n",
        "plt.xlabel(\"$\\Theta_04\")\n",
        "plt.ylabel(\"$\\Theta_1$\")\n",
        "ax.set_xlabel(\"%J(\\Theta)$\")\n",
        "ax.set_title(\"Cost Surface\")\n",
        "ax.view_init(30, 330)"
      ],
      "metadata": {
        "colab": {
          "base_uri": "https://localhost:8080/",
          "height": 466
        },
        "id": "NexLptKU7dAi",
        "outputId": "03e3bb6e-4af6-4eb8-affd-6f071da8bd10"
      },
      "execution_count": null,
      "outputs": [
        {
          "output_type": "display_data",
          "data": {
            "text/plain": [
              "<Figure size 864x576 with 2 Axes>"
            ],
            "image/png": "[encoded data removed]"
          },
          "metadata": {}
        }
      ]
    },
    {
      "cell_type": "markdown",
      "source": [
        "# Task 9: Conduct the linear regression on the data"
      ],
      "metadata": {
        "id": "2_It2IQtDnQt"
      }
    },
    {
      "cell_type": "code",
      "source": [
        "theta = np.squeeze(theta)\n",
        "sns.scatterplot(x=\"Population\", y = \"Profit\", data = data)\n",
        "\n",
        "x_value = [x for x in range(5, 25)]\n",
        "y_value= [(x*theta[1]+theta[0]) for x in x_value]\n",
        "sns.lineplot(x_value, y_value)\n",
        "\n",
        "plt.xlabel(\"population\")\n",
        "plt.ylabel(\"profit\")\n",
        "plt.title(\"linear regression\")"
      ],
      "metadata": {
        "colab": {
          "base_uri": "https://localhost:8080/",
          "height": 591
        },
        "id": "RGWEsi688lGr",
        "outputId": "88958ee9-4ce4-45fa-94d8-933430d02188"
      },
      "execution_count": null,
      "outputs": [
        {
          "output_type": "stream",
          "name": "stderr",
          "text": [
            "/usr/local/lib/python3.7/dist-packages/seaborn/_decorators.py:43: FutureWarning: Pass the following variables as keyword args: x, y. From version 0.12, the only valid positional argument will be `data`, and passing other arguments without an explicit keyword will result in an error or misinterpretation.\n",
            "  FutureWarning\n"
          ]
        },
        {
          "output_type": "execute_result",
          "data": {
            "text/plain": [
              "Text(0.5, 1.0, 'linear regression')"
            ]
          },
          "metadata": {},
          "execution_count": 40
        },
        {
          "output_type": "display_data",
          "data": {
            "text/plain": [
              "<Figure size 864x576 with 1 Axes>"
            ],
            "image/png": "[encoded data removed]"
          },
          "metadata": {}
        }
      ]
    },
    {
      "cell_type": "markdown",
      "source": [
        "# Task 10: Making Predictions"
      ],
      "metadata": {
        "id": "mQRinAQaDsK3"
      }
    },
    {
      "cell_type": "code",
      "source": [
        "def predict(x, theta):\n",
        "  y_pred = np.dot(theta.transpose(), x)\n",
        "  return y_pred"
      ],
      "metadata": {
        "id": "B18q3eQ0807q"
      },
      "execution_count": null,
      "outputs": []
    },
    {
      "cell_type": "code",
      "source": [
        "pop = int(input('What is the size of the population: '))\n"
      ],
      "metadata": {
        "colab": {
          "base_uri": "https://localhost:8080/"
        },
        "id": "RLRnHKP181N5",
        "outputId": "f8a15c29-e714-4604-fbf7-9127b246e4a1"
      },
      "execution_count": null,
      "outputs": [
        {
          "name": "stdout",
          "output_type": "stream",
          "text": [
            "What is the size of the population: 8500\n"
          ]
        }
      ]
    },
    {
      "cell_type": "code",
      "source": [
        "y_pred = predict(np.array([1, 8.5]), theta)*10000\n",
        "print(\"For a population of 85,000, the model predicts a profit of $\" + str(round(y_pred, 0)))"
      ],
      "metadata": {
        "colab": {
          "base_uri": "https://localhost:8080/"
        },
        "id": "sIX7J_Si82xX",
        "outputId": "0d326102-b7e5-41d3-b4ee-edc56424057e"
      },
      "execution_count": null,
      "outputs": [
        {
          "output_type": "stream",
          "name": "stdout",
          "text": [
            "For a population of 85,000, the model predicts a profit of $63406.0\n"
          ]
        }
      ]
    },
    {
      "cell_type": "code",
      "source": [
        ""
      ],
      "metadata": {
        "id": "r3atXKzv84bL"
      },
      "execution_count": null,
      "outputs": []
    }
  ]
}