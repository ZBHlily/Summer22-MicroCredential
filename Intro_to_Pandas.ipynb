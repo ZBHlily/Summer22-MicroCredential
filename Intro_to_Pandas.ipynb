{
  "nbformat": 4,
  "nbformat_minor": 0,
  "metadata": {
    "anaconda-cloud": {},
    "kernelspec": {
      "display_name": "Python [conda root]",
      "language": "python",
      "name": "conda-root-py"
    },
    "language_info": {
      "codemirror_mode": {
        "name": "ipython",
        "version": 2
      },
      "file_extension": ".py",
      "mimetype": "text/x-python",
      "name": "python",
      "nbconvert_exporter": "python",
      "pygments_lexer": "ipython2",
      "version": "2.7.12"
    },
    "colab": {
      "name": "Intro to Pandas.ipynb",
      "provenance": [],
      "collapsed_sections": [
        "jpFgzqrxGXLk",
        "5RiPg_fEGXLl",
        "cJp629OVGXLm",
        "TTbts7PlGXLn",
        "Ij0KhZeZGXLn",
        "qo2KzRYwGXLq",
        "3pnKVbZ5GXLv",
        "FKFNX3HXGXLw",
        "X-uZ2JDRGXLx",
        "58E58r5YGXLz",
        "a3UffWq5GXL0",
        "PRwWg_lxGXL1",
        "4QfcBZHrGXL1",
        "jzC270YsGXL2",
        "uyqNkbHWGXL5",
        "MMfQrQRFGXL7",
        "5fIVT5ReGXL7",
        "9XxqTidbGXL9",
        "N8c-xK24jt3R"
      ],
      "include_colab_link": true
    }
  },
  "cells": [
    {
      "cell_type": "markdown",
      "metadata": {
        "id": "view-in-github",
        "colab_type": "text"
      },
      "source": [
        "<a href=\"https://colab.research.google.com/github/ZBHlily/Summer22-MicroCredential/blob/main/Intro_to_Pandas.ipynb\" target=\"_parent\"><img src=\"https://colab.research.google.com/assets/colab-badge.svg\" alt=\"Open In Colab\"/></a>"
      ]
    },
    {
      "cell_type": "markdown",
      "source": [
        "# Intro to Pandas\n",
        "\n",
        "pandas is a fast, powerful, flexible and easy to use open source data analysis and manipulation tool,\n",
        "built on top of the Python programming language."
      ],
      "metadata": {
        "id": "dAEyv8FWXHjO"
      }
    },
    {
      "cell_type": "code",
      "metadata": {
        "collapsed": true,
        "id": "BHQ57hXxGXLc"
      },
      "source": [
        "import pandas as pd"
      ],
      "execution_count": null,
      "outputs": []
    },
    {
      "cell_type": "code",
      "source": [
        "google = pd.read_csv('https://raw.githubusercontent.com/ZBHlily/Summer22-MicroCredential-Data/main/google_stock_price.csv', squeeze = True) \n",
        "pokemon = pd.read_csv('https://raw.githubusercontent.com/ZBHlily/Summer22-MicroCredential-Data/main/pokemon.csv', usecols = [\"Pokemon\"], squeeze = True)"
      ],
      "metadata": {
        "id": "uSbTHYuWbNs9"
      },
      "execution_count": 4,
      "outputs": []
    },
    {
      "cell_type": "code",
      "source": [
        "google.head()"
      ],
      "metadata": {
        "colab": {
          "base_uri": "https://localhost:8080/",
          "height": 206
        },
        "id": "pSNwOnY-b4fd",
        "outputId": "4c8c3dd9-0b90-434b-ad20-da9719d09193"
      },
      "execution_count": null,
      "outputs": [
        {
          "output_type": "execute_result",
          "data": {
            "text/plain": [
              "   Stock Price\n",
              "0        50.12\n",
              "1        54.10\n",
              "2        54.65\n",
              "3        52.38\n",
              "4        52.95"
            ],
            "text/html": [
              "\n",
              "  <div id=\"df-38ee1cbf-f49c-45e5-83b4-bf780e49b013\">\n",
              "    <div class=\"colab-df-container\">\n",
              "      <div>\n",
              "<style scoped>\n",
              "    .dataframe tbody tr th:only-of-type {\n",
              "        vertical-align: middle;\n",
              "    }\n",
              "\n",
              "    .dataframe tbody tr th {\n",
              "        vertical-align: top;\n",
              "    }\n",
              "\n",
              "    .dataframe thead th {\n",
              "        text-align: right;\n",
              "    }\n",
              "</style>\n",
              "<table border=\"1\" class=\"dataframe\">\n",
              "  <thead>\n",
              "    <tr style=\"text-align: right;\">\n",
              "      <th></th>\n",
              "      <th>Stock Price</th>\n",
              "    </tr>\n",
              "  </thead>\n",
              "  <tbody>\n",
              "    <tr>\n",
              "      <th>0</th>\n",
              "      <td>50.12</td>\n",
              "    </tr>\n",
              "    <tr>\n",
              "      <th>1</th>\n",
              "      <td>54.10</td>\n",
              "    </tr>\n",
              "    <tr>\n",
              "      <th>2</th>\n",
              "      <td>54.65</td>\n",
              "    </tr>\n",
              "    <tr>\n",
              "      <th>3</th>\n",
              "      <td>52.38</td>\n",
              "    </tr>\n",
              "    <tr>\n",
              "      <th>4</th>\n",
              "      <td>52.95</td>\n",
              "    </tr>\n",
              "  </tbody>\n",
              "</table>\n",
              "</div>\n",
              "      <button class=\"colab-df-convert\" onclick=\"convertToInteractive('df-38ee1cbf-f49c-45e5-83b4-bf780e49b013')\"\n",
              "              title=\"Convert this dataframe to an interactive table.\"\n",
              "              style=\"display:none;\">\n",
              "        \n",
              "  <svg xmlns=\"http://www.w3.org/2000/svg\" height=\"24px\"viewBox=\"0 0 24 24\"\n",
              "       width=\"24px\">\n",
              "    <path d=\"M0 0h24v24H0V0z\" fill=\"none\"/>\n",
              "    <path d=\"M18.56 5.44l.94 2.06.94-2.06 2.06-.94-2.06-.94-.94-2.06-.94 2.06-2.06.94zm-11 1L8.5 8.5l.94-2.06 2.06-.94-2.06-.94L8.5 2.5l-.94 2.06-2.06.94zm10 10l.94 2.06.94-2.06 2.06-.94-2.06-.94-.94-2.06-.94 2.06-2.06.94z\"/><path d=\"M17.41 7.96l-1.37-1.37c-.4-.4-.92-.59-1.43-.59-.52 0-1.04.2-1.43.59L10.3 9.45l-7.72 7.72c-.78.78-.78 2.05 0 2.83L4 21.41c.39.39.9.59 1.41.59.51 0 1.02-.2 1.41-.59l7.78-7.78 2.81-2.81c.8-.78.8-2.07 0-2.86zM5.41 20L4 18.59l7.72-7.72 1.47 1.35L5.41 20z\"/>\n",
              "  </svg>\n",
              "      </button>\n",
              "      \n",
              "  <style>\n",
              "    .colab-df-container {\n",
              "      display:flex;\n",
              "      flex-wrap:wrap;\n",
              "      gap: 12px;\n",
              "    }\n",
              "\n",
              "    .colab-df-convert {\n",
              "      background-color: #E8F0FE;\n",
              "      border: none;\n",
              "      border-radius: 50%;\n",
              "      cursor: pointer;\n",
              "      display: none;\n",
              "      fill: #1967D2;\n",
              "      height: 32px;\n",
              "      padding: 0 0 0 0;\n",
              "      width: 32px;\n",
              "    }\n",
              "\n",
              "    .colab-df-convert:hover {\n",
              "      background-color: #E2EBFA;\n",
              "      box-shadow: 0px 1px 2px rgba(60, 64, 67, 0.3), 0px 1px 3px 1px rgba(60, 64, 67, 0.15);\n",
              "      fill: #174EA6;\n",
              "    }\n",
              "\n",
              "    [theme=dark] .colab-df-convert {\n",
              "      background-color: #3B4455;\n",
              "      fill: #D2E3FC;\n",
              "    }\n",
              "\n",
              "    [theme=dark] .colab-df-convert:hover {\n",
              "      background-color: #434B5C;\n",
              "      box-shadow: 0px 1px 3px 1px rgba(0, 0, 0, 0.15);\n",
              "      filter: drop-shadow(0px 1px 2px rgba(0, 0, 0, 0.3));\n",
              "      fill: #FFFFFF;\n",
              "    }\n",
              "  </style>\n",
              "\n",
              "      <script>\n",
              "        const buttonEl =\n",
              "          document.querySelector('#df-38ee1cbf-f49c-45e5-83b4-bf780e49b013 button.colab-df-convert');\n",
              "        buttonEl.style.display =\n",
              "          google.colab.kernel.accessAllowed ? 'block' : 'none';\n",
              "\n",
              "        async function convertToInteractive(key) {\n",
              "          const element = document.querySelector('#df-38ee1cbf-f49c-45e5-83b4-bf780e49b013');\n",
              "          const dataTable =\n",
              "            await google.colab.kernel.invokeFunction('convertToInteractive',\n",
              "                                                     [key], {});\n",
              "          if (!dataTable) return;\n",
              "\n",
              "          const docLinkHtml = 'Like what you see? Visit the ' +\n",
              "            '<a target=\"_blank\" href=https://colab.research.google.com/notebooks/data_table.ipynb>data table notebook</a>'\n",
              "            + ' to learn more about interactive tables.';\n",
              "          element.innerHTML = '';\n",
              "          dataTable['output_type'] = 'display_data';\n",
              "          await google.colab.output.renderOutput(dataTable, element);\n",
              "          const docLink = document.createElement('div');\n",
              "          docLink.innerHTML = docLinkHtml;\n",
              "          element.appendChild(docLink);\n",
              "        }\n",
              "      </script>\n",
              "    </div>\n",
              "  </div>\n",
              "  "
            ]
          },
          "metadata": {},
          "execution_count": 52
        }
      ]
    },
    {
      "cell_type": "code",
      "source": [
        "pokemon.head()"
      ],
      "metadata": {
        "colab": {
          "base_uri": "https://localhost:8080/",
          "height": 206
        },
        "id": "cSSPA6gjb4cB",
        "outputId": "5fcce0a4-8f25-47be-f455-b52fc5c01f3c"
      },
      "execution_count": null,
      "outputs": [
        {
          "output_type": "execute_result",
          "data": {
            "text/plain": [
              "      Pokemon   Type\n",
              "0   Bulbasaur  Grass\n",
              "1     Ivysaur  Grass\n",
              "2    Venusaur  Grass\n",
              "3  Charmander   Fire\n",
              "4  Charmeleon   Fire"
            ],
            "text/html": [
              "\n",
              "  <div id=\"df-e5b5adff-22d7-4237-8136-f27d0ea93b80\">\n",
              "    <div class=\"colab-df-container\">\n",
              "      <div>\n",
              "<style scoped>\n",
              "    .dataframe tbody tr th:only-of-type {\n",
              "        vertical-align: middle;\n",
              "    }\n",
              "\n",
              "    .dataframe tbody tr th {\n",
              "        vertical-align: top;\n",
              "    }\n",
              "\n",
              "    .dataframe thead th {\n",
              "        text-align: right;\n",
              "    }\n",
              "</style>\n",
              "<table border=\"1\" class=\"dataframe\">\n",
              "  <thead>\n",
              "    <tr style=\"text-align: right;\">\n",
              "      <th></th>\n",
              "      <th>Pokemon</th>\n",
              "      <th>Type</th>\n",
              "    </tr>\n",
              "  </thead>\n",
              "  <tbody>\n",
              "    <tr>\n",
              "      <th>0</th>\n",
              "      <td>Bulbasaur</td>\n",
              "      <td>Grass</td>\n",
              "    </tr>\n",
              "    <tr>\n",
              "      <th>1</th>\n",
              "      <td>Ivysaur</td>\n",
              "      <td>Grass</td>\n",
              "    </tr>\n",
              "    <tr>\n",
              "      <th>2</th>\n",
              "      <td>Venusaur</td>\n",
              "      <td>Grass</td>\n",
              "    </tr>\n",
              "    <tr>\n",
              "      <th>3</th>\n",
              "      <td>Charmander</td>\n",
              "      <td>Fire</td>\n",
              "    </tr>\n",
              "    <tr>\n",
              "      <th>4</th>\n",
              "      <td>Charmeleon</td>\n",
              "      <td>Fire</td>\n",
              "    </tr>\n",
              "  </tbody>\n",
              "</table>\n",
              "</div>\n",
              "      <button class=\"colab-df-convert\" onclick=\"convertToInteractive('df-e5b5adff-22d7-4237-8136-f27d0ea93b80')\"\n",
              "              title=\"Convert this dataframe to an interactive table.\"\n",
              "              style=\"display:none;\">\n",
              "        \n",
              "  <svg xmlns=\"http://www.w3.org/2000/svg\" height=\"24px\"viewBox=\"0 0 24 24\"\n",
              "       width=\"24px\">\n",
              "    <path d=\"M0 0h24v24H0V0z\" fill=\"none\"/>\n",
              "    <path d=\"M18.56 5.44l.94 2.06.94-2.06 2.06-.94-2.06-.94-.94-2.06-.94 2.06-2.06.94zm-11 1L8.5 8.5l.94-2.06 2.06-.94-2.06-.94L8.5 2.5l-.94 2.06-2.06.94zm10 10l.94 2.06.94-2.06 2.06-.94-2.06-.94-.94-2.06-.94 2.06-2.06.94z\"/><path d=\"M17.41 7.96l-1.37-1.37c-.4-.4-.92-.59-1.43-.59-.52 0-1.04.2-1.43.59L10.3 9.45l-7.72 7.72c-.78.78-.78 2.05 0 2.83L4 21.41c.39.39.9.59 1.41.59.51 0 1.02-.2 1.41-.59l7.78-7.78 2.81-2.81c.8-.78.8-2.07 0-2.86zM5.41 20L4 18.59l7.72-7.72 1.47 1.35L5.41 20z\"/>\n",
              "  </svg>\n",
              "      </button>\n",
              "      \n",
              "  <style>\n",
              "    .colab-df-container {\n",
              "      display:flex;\n",
              "      flex-wrap:wrap;\n",
              "      gap: 12px;\n",
              "    }\n",
              "\n",
              "    .colab-df-convert {\n",
              "      background-color: #E8F0FE;\n",
              "      border: none;\n",
              "      border-radius: 50%;\n",
              "      cursor: pointer;\n",
              "      display: none;\n",
              "      fill: #1967D2;\n",
              "      height: 32px;\n",
              "      padding: 0 0 0 0;\n",
              "      width: 32px;\n",
              "    }\n",
              "\n",
              "    .colab-df-convert:hover {\n",
              "      background-color: #E2EBFA;\n",
              "      box-shadow: 0px 1px 2px rgba(60, 64, 67, 0.3), 0px 1px 3px 1px rgba(60, 64, 67, 0.15);\n",
              "      fill: #174EA6;\n",
              "    }\n",
              "\n",
              "    [theme=dark] .colab-df-convert {\n",
              "      background-color: #3B4455;\n",
              "      fill: #D2E3FC;\n",
              "    }\n",
              "\n",
              "    [theme=dark] .colab-df-convert:hover {\n",
              "      background-color: #434B5C;\n",
              "      box-shadow: 0px 1px 3px 1px rgba(0, 0, 0, 0.15);\n",
              "      filter: drop-shadow(0px 1px 2px rgba(0, 0, 0, 0.3));\n",
              "      fill: #FFFFFF;\n",
              "    }\n",
              "  </style>\n",
              "\n",
              "      <script>\n",
              "        const buttonEl =\n",
              "          document.querySelector('#df-e5b5adff-22d7-4237-8136-f27d0ea93b80 button.colab-df-convert');\n",
              "        buttonEl.style.display =\n",
              "          google.colab.kernel.accessAllowed ? 'block' : 'none';\n",
              "\n",
              "        async function convertToInteractive(key) {\n",
              "          const element = document.querySelector('#df-e5b5adff-22d7-4237-8136-f27d0ea93b80');\n",
              "          const dataTable =\n",
              "            await google.colab.kernel.invokeFunction('convertToInteractive',\n",
              "                                                     [key], {});\n",
              "          if (!dataTable) return;\n",
              "\n",
              "          const docLinkHtml = 'Like what you see? Visit the ' +\n",
              "            '<a target=\"_blank\" href=https://colab.research.google.com/notebooks/data_table.ipynb>data table notebook</a>'\n",
              "            + ' to learn more about interactive tables.';\n",
              "          element.innerHTML = '';\n",
              "          dataTable['output_type'] = 'display_data';\n",
              "          await google.colab.output.renderOutput(dataTable, element);\n",
              "          const docLink = document.createElement('div');\n",
              "          docLink.innerHTML = docLinkHtml;\n",
              "          element.appendChild(docLink);\n",
              "        }\n",
              "      </script>\n",
              "    </div>\n",
              "  </div>\n",
              "  "
            ]
          },
          "metadata": {},
          "execution_count": 53
        }
      ]
    },
    {
      "cell_type": "markdown",
      "metadata": {
        "id": "FA5XRSW0GXLe"
      },
      "source": [
        "## Create A `Series` Object from A Python List"
      ]
    },
    {
      "cell_type": "code",
      "metadata": {
        "colab": {
          "base_uri": "https://localhost:8080/"
        },
        "id": "AtWQpFwwGXLf",
        "outputId": "c1d65718-67f1-4ed2-a07c-275dabd0be09"
      },
      "source": [
        "ice_cream = [\"Chocolate\", \"Vanilla\", \"Strawberry\", \"Rum Raisin\"]\n",
        "\n",
        "pd.Series(ice_cream)"
      ],
      "execution_count": null,
      "outputs": [
        {
          "output_type": "execute_result",
          "data": {
            "text/plain": [
              "0     Chocolate\n",
              "1       Vanilla\n",
              "2    Strawberry\n",
              "3    Rum Raisin\n",
              "dtype: object"
            ]
          },
          "metadata": {},
          "execution_count": 54
        }
      ]
    },
    {
      "cell_type": "code",
      "metadata": {
        "colab": {
          "base_uri": "https://localhost:8080/"
        },
        "id": "quS0ENzTGXLg",
        "outputId": "b3044fa7-86b3-4903-897c-6a8e243dfedb"
      },
      "source": [
        "lottery = [4, 8, 15, 16, 23, 42]\n",
        "\n",
        "pd.Series(lottery)"
      ],
      "execution_count": null,
      "outputs": [
        {
          "output_type": "execute_result",
          "data": {
            "text/plain": [
              "0     4\n",
              "1     8\n",
              "2    15\n",
              "3    16\n",
              "4    23\n",
              "5    42\n",
              "dtype: int64"
            ]
          },
          "metadata": {},
          "execution_count": 55
        }
      ]
    },
    {
      "cell_type": "code",
      "metadata": {
        "colab": {
          "base_uri": "https://localhost:8080/"
        },
        "id": "I27ADXlmGXLg",
        "outputId": "e2240c83-d432-4dda-8569-0bd589488f83"
      },
      "source": [
        "registrations = [True, False, False, False, True]\n",
        "\n",
        "pd.Series(registrations)"
      ],
      "execution_count": null,
      "outputs": [
        {
          "output_type": "execute_result",
          "data": {
            "text/plain": [
              "0     True\n",
              "1    False\n",
              "2    False\n",
              "3    False\n",
              "4     True\n",
              "dtype: bool"
            ]
          },
          "metadata": {},
          "execution_count": 56
        }
      ]
    },
    {
      "cell_type": "markdown",
      "metadata": {
        "id": "JNUFbhoTGXLi"
      },
      "source": [
        "## Create A `Series` Object from a Dictionary"
      ]
    },
    {
      "cell_type": "code",
      "metadata": {
        "colab": {
          "base_uri": "https://localhost:8080/"
        },
        "id": "d8gL-xGTGXLi",
        "outputId": "bf1138d0-09a3-4e2c-dfa6-08f1f3335dfb"
      },
      "source": [
        "webster = {\"Aardvark\" : \"An animal\",\"Banana\" : \"A delicious fruit\",\"Cyan\" : \"A color\"}\n",
        "\n",
        "pd.Series(webster)"
      ],
      "execution_count": null,
      "outputs": [
        {
          "output_type": "execute_result",
          "data": {
            "text/plain": [
              "Aardvark            An animal\n",
              "Banana      A delicious fruit\n",
              "Cyan                  A color\n",
              "dtype: object"
            ]
          },
          "metadata": {},
          "execution_count": 57
        }
      ]
    },
    {
      "cell_type": "markdown",
      "metadata": {
        "id": "Ll2HCZ3LGXLj"
      },
      "source": [
        "## Intro to Attributes"
      ]
    },
    {
      "cell_type": "code",
      "metadata": {
        "colab": {
          "base_uri": "https://localhost:8080/"
        },
        "id": "EKQY0RL3GXLj",
        "outputId": "10104bcb-a616-4025-9016-af204cc9028f"
      },
      "source": [
        "about_me = [\"Smart\", \"Handsome\", \"Charming\", \"Brilliant\", \"Humble\"]\n",
        "s = pd.Series(about_me)\n",
        "s"
      ],
      "execution_count": null,
      "outputs": [
        {
          "output_type": "execute_result",
          "data": {
            "text/plain": [
              "0        Smart\n",
              "1     Handsome\n",
              "2     Charming\n",
              "3    Brilliant\n",
              "4       Humble\n",
              "dtype: object"
            ]
          },
          "metadata": {},
          "execution_count": 58
        }
      ]
    },
    {
      "cell_type": "code",
      "metadata": {
        "colab": {
          "base_uri": "https://localhost:8080/"
        },
        "id": "ALpepqReGXLj",
        "outputId": "a439a25b-12ee-4e1b-ca12-7b47cd80f747"
      },
      "source": [
        "s.values"
      ],
      "execution_count": null,
      "outputs": [
        {
          "output_type": "execute_result",
          "data": {
            "text/plain": [
              "array(['Smart', 'Handsome', 'Charming', 'Brilliant', 'Humble'],\n",
              "      dtype=object)"
            ]
          },
          "metadata": {},
          "execution_count": 59
        }
      ]
    },
    {
      "cell_type": "code",
      "metadata": {
        "colab": {
          "base_uri": "https://localhost:8080/"
        },
        "id": "GYdxC34BGXLk",
        "outputId": "df553f23-8ad1-4c33-adf7-6a840052ae7d"
      },
      "source": [
        "s.index"
      ],
      "execution_count": null,
      "outputs": [
        {
          "output_type": "execute_result",
          "data": {
            "text/plain": [
              "RangeIndex(start=0, stop=5, step=1)"
            ]
          },
          "metadata": {},
          "execution_count": 60
        }
      ]
    },
    {
      "cell_type": "code",
      "metadata": {
        "colab": {
          "base_uri": "https://localhost:8080/"
        },
        "id": "m4LuE-J6GXLk",
        "outputId": "0fefbc41-f216-45ae-85a8-a6419f90d5a6"
      },
      "source": [
        "s.dtype"
      ],
      "execution_count": null,
      "outputs": [
        {
          "output_type": "execute_result",
          "data": {
            "text/plain": [
              "dtype('O')"
            ]
          },
          "metadata": {},
          "execution_count": 61
        }
      ]
    },
    {
      "cell_type": "markdown",
      "metadata": {
        "id": "jpFgzqrxGXLk"
      },
      "source": [
        "## Intro to Methods"
      ]
    },
    {
      "cell_type": "code",
      "metadata": {
        "colab": {
          "base_uri": "https://localhost:8080/"
        },
        "id": "oQOkvs4uGXLk",
        "outputId": "883a4708-4b65-4f99-f145-c0b731e1f8d0"
      },
      "source": [
        "prices = [2.99, 4.45, 1.36]\n",
        "s = pd.Series(prices)\n",
        "s"
      ],
      "execution_count": null,
      "outputs": [
        {
          "output_type": "execute_result",
          "data": {
            "text/plain": [
              "0    2.99\n",
              "1    4.45\n",
              "2    1.36\n",
              "dtype: float64"
            ]
          },
          "metadata": {},
          "execution_count": 62
        }
      ]
    },
    {
      "cell_type": "code",
      "metadata": {
        "colab": {
          "base_uri": "https://localhost:8080/"
        },
        "id": "rAEpaHwNGXLk",
        "outputId": "da3ca75f-f03f-409a-ac43-2962eb792889"
      },
      "source": [
        "s.sum()"
      ],
      "execution_count": null,
      "outputs": [
        {
          "output_type": "execute_result",
          "data": {
            "text/plain": [
              "8.8"
            ]
          },
          "metadata": {},
          "execution_count": 63
        }
      ]
    },
    {
      "cell_type": "code",
      "metadata": {
        "colab": {
          "base_uri": "https://localhost:8080/"
        },
        "id": "rvk-1jVLGXLl",
        "outputId": "11aa5c1a-fc21-4e82-8957-1584d6c220d4"
      },
      "source": [
        "s.product()"
      ],
      "execution_count": null,
      "outputs": [
        {
          "output_type": "execute_result",
          "data": {
            "text/plain": [
              "18.095480000000006"
            ]
          },
          "metadata": {},
          "execution_count": 64
        }
      ]
    },
    {
      "cell_type": "code",
      "metadata": {
        "colab": {
          "base_uri": "https://localhost:8080/"
        },
        "id": "rYwRn7CqGXLl",
        "outputId": "bffa776f-df90-423e-fee8-a1beeced8376"
      },
      "source": [
        "s.mean()"
      ],
      "execution_count": null,
      "outputs": [
        {
          "output_type": "execute_result",
          "data": {
            "text/plain": [
              "2.9333333333333336"
            ]
          },
          "metadata": {},
          "execution_count": 65
        }
      ]
    },
    {
      "cell_type": "markdown",
      "metadata": {
        "id": "5RiPg_fEGXLl"
      },
      "source": [
        "## Parameters and Arguments"
      ]
    },
    {
      "cell_type": "code",
      "metadata": {
        "collapsed": true,
        "id": "Nm27Sr6cGXLl"
      },
      "source": [
        "# Difficulty - Easy, Medium, Hard\n",
        "# Volume - 1 through 10\n",
        "# Subtitles - True / False"
      ],
      "execution_count": null,
      "outputs": []
    },
    {
      "cell_type": "code",
      "metadata": {
        "colab": {
          "base_uri": "https://localhost:8080/"
        },
        "id": "YmzYBGVBGXLm",
        "outputId": "fb565719-dd1b-44b9-d75b-6b5ebad2d93f"
      },
      "source": [
        "fruits = [\"Apple\", \"Orange\", \"Plum\", \"Grape\", \"Blueberry\"]\n",
        "weekdays = [\"Monday\", \"Tuesday\", \"Wednesday\", \"Thursday\", \"Friday\"]\n",
        "\n",
        "pd.Series(fruits, weekdays)\n",
        "pd.Series(data = fruits, index = weekdays)\n",
        "pd.Series(fruits, index = weekdays)"
      ],
      "execution_count": null,
      "outputs": [
        {
          "output_type": "execute_result",
          "data": {
            "text/plain": [
              "Monday           Apple\n",
              "Tuesday         Orange\n",
              "Wednesday         Plum\n",
              "Thursday         Grape\n",
              "Friday       Blueberry\n",
              "dtype: object"
            ]
          },
          "metadata": {},
          "execution_count": 67
        }
      ]
    },
    {
      "cell_type": "code",
      "metadata": {
        "colab": {
          "base_uri": "https://localhost:8080/"
        },
        "id": "OVqv90Y6GXLm",
        "outputId": "30026d42-1f75-4215-92eb-d20dea3b3d97"
      },
      "source": [
        "fruits = [\"Apple\", \"Orange\", \"Plum\", \"Grape\", \"Blueberry\", \"Watermelon\"]\n",
        "weekdays = [\"Monday\", \"Tuesday\", \"Wednesday\", \"Thursday\", \"Friday\", \"Monday\"]\n",
        "\n",
        "pd.Series(data = fruits, index = weekdays)"
      ],
      "execution_count": null,
      "outputs": [
        {
          "output_type": "execute_result",
          "data": {
            "text/plain": [
              "Monday            Apple\n",
              "Tuesday          Orange\n",
              "Wednesday          Plum\n",
              "Thursday          Grape\n",
              "Friday        Blueberry\n",
              "Monday       Watermelon\n",
              "dtype: object"
            ]
          },
          "metadata": {},
          "execution_count": 68
        }
      ]
    },
    {
      "cell_type": "markdown",
      "metadata": {
        "id": "cJp629OVGXLm"
      },
      "source": [
        "## Import `Series` with the `read_csv` Method"
      ]
    },
    {
      "cell_type": "markdown",
      "metadata": {
        "id": "TTbts7PlGXLn"
      },
      "source": [
        "## The `.head()` and `.tail()` Methods"
      ]
    },
    {
      "cell_type": "code",
      "metadata": {
        "id": "r4OBidHFGXLn",
        "colab": {
          "base_uri": "https://localhost:8080/",
          "height": 81
        },
        "outputId": "4b09d8d4-190e-4b31-8cff-8b84bd7cf887"
      },
      "source": [
        "pokemon.head(1)"
      ],
      "execution_count": null,
      "outputs": [
        {
          "output_type": "execute_result",
          "data": {
            "text/plain": [
              "     Pokemon   Type\n",
              "0  Bulbasaur  Grass"
            ],
            "text/html": [
              "\n",
              "  <div id=\"df-6386fb8b-dcf1-4b63-a72d-09447a573b89\">\n",
              "    <div class=\"colab-df-container\">\n",
              "      <div>\n",
              "<style scoped>\n",
              "    .dataframe tbody tr th:only-of-type {\n",
              "        vertical-align: middle;\n",
              "    }\n",
              "\n",
              "    .dataframe tbody tr th {\n",
              "        vertical-align: top;\n",
              "    }\n",
              "\n",
              "    .dataframe thead th {\n",
              "        text-align: right;\n",
              "    }\n",
              "</style>\n",
              "<table border=\"1\" class=\"dataframe\">\n",
              "  <thead>\n",
              "    <tr style=\"text-align: right;\">\n",
              "      <th></th>\n",
              "      <th>Pokemon</th>\n",
              "      <th>Type</th>\n",
              "    </tr>\n",
              "  </thead>\n",
              "  <tbody>\n",
              "    <tr>\n",
              "      <th>0</th>\n",
              "      <td>Bulbasaur</td>\n",
              "      <td>Grass</td>\n",
              "    </tr>\n",
              "  </tbody>\n",
              "</table>\n",
              "</div>\n",
              "      <button class=\"colab-df-convert\" onclick=\"convertToInteractive('df-6386fb8b-dcf1-4b63-a72d-09447a573b89')\"\n",
              "              title=\"Convert this dataframe to an interactive table.\"\n",
              "              style=\"display:none;\">\n",
              "        \n",
              "  <svg xmlns=\"http://www.w3.org/2000/svg\" height=\"24px\"viewBox=\"0 0 24 24\"\n",
              "       width=\"24px\">\n",
              "    <path d=\"M0 0h24v24H0V0z\" fill=\"none\"/>\n",
              "    <path d=\"M18.56 5.44l.94 2.06.94-2.06 2.06-.94-2.06-.94-.94-2.06-.94 2.06-2.06.94zm-11 1L8.5 8.5l.94-2.06 2.06-.94-2.06-.94L8.5 2.5l-.94 2.06-2.06.94zm10 10l.94 2.06.94-2.06 2.06-.94-2.06-.94-.94-2.06-.94 2.06-2.06.94z\"/><path d=\"M17.41 7.96l-1.37-1.37c-.4-.4-.92-.59-1.43-.59-.52 0-1.04.2-1.43.59L10.3 9.45l-7.72 7.72c-.78.78-.78 2.05 0 2.83L4 21.41c.39.39.9.59 1.41.59.51 0 1.02-.2 1.41-.59l7.78-7.78 2.81-2.81c.8-.78.8-2.07 0-2.86zM5.41 20L4 18.59l7.72-7.72 1.47 1.35L5.41 20z\"/>\n",
              "  </svg>\n",
              "      </button>\n",
              "      \n",
              "  <style>\n",
              "    .colab-df-container {\n",
              "      display:flex;\n",
              "      flex-wrap:wrap;\n",
              "      gap: 12px;\n",
              "    }\n",
              "\n",
              "    .colab-df-convert {\n",
              "      background-color: #E8F0FE;\n",
              "      border: none;\n",
              "      border-radius: 50%;\n",
              "      cursor: pointer;\n",
              "      display: none;\n",
              "      fill: #1967D2;\n",
              "      height: 32px;\n",
              "      padding: 0 0 0 0;\n",
              "      width: 32px;\n",
              "    }\n",
              "\n",
              "    .colab-df-convert:hover {\n",
              "      background-color: #E2EBFA;\n",
              "      box-shadow: 0px 1px 2px rgba(60, 64, 67, 0.3), 0px 1px 3px 1px rgba(60, 64, 67, 0.15);\n",
              "      fill: #174EA6;\n",
              "    }\n",
              "\n",
              "    [theme=dark] .colab-df-convert {\n",
              "      background-color: #3B4455;\n",
              "      fill: #D2E3FC;\n",
              "    }\n",
              "\n",
              "    [theme=dark] .colab-df-convert:hover {\n",
              "      background-color: #434B5C;\n",
              "      box-shadow: 0px 1px 3px 1px rgba(0, 0, 0, 0.15);\n",
              "      filter: drop-shadow(0px 1px 2px rgba(0, 0, 0, 0.3));\n",
              "      fill: #FFFFFF;\n",
              "    }\n",
              "  </style>\n",
              "\n",
              "      <script>\n",
              "        const buttonEl =\n",
              "          document.querySelector('#df-6386fb8b-dcf1-4b63-a72d-09447a573b89 button.colab-df-convert');\n",
              "        buttonEl.style.display =\n",
              "          google.colab.kernel.accessAllowed ? 'block' : 'none';\n",
              "\n",
              "        async function convertToInteractive(key) {\n",
              "          const element = document.querySelector('#df-6386fb8b-dcf1-4b63-a72d-09447a573b89');\n",
              "          const dataTable =\n",
              "            await google.colab.kernel.invokeFunction('convertToInteractive',\n",
              "                                                     [key], {});\n",
              "          if (!dataTable) return;\n",
              "\n",
              "          const docLinkHtml = 'Like what you see? Visit the ' +\n",
              "            '<a target=\"_blank\" href=https://colab.research.google.com/notebooks/data_table.ipynb>data table notebook</a>'\n",
              "            + ' to learn more about interactive tables.';\n",
              "          element.innerHTML = '';\n",
              "          dataTable['output_type'] = 'display_data';\n",
              "          await google.colab.output.renderOutput(dataTable, element);\n",
              "          const docLink = document.createElement('div');\n",
              "          docLink.innerHTML = docLinkHtml;\n",
              "          element.appendChild(docLink);\n",
              "        }\n",
              "      </script>\n",
              "    </div>\n",
              "  </div>\n",
              "  "
            ]
          },
          "metadata": {},
          "execution_count": 72
        }
      ]
    },
    {
      "cell_type": "code",
      "metadata": {
        "id": "DxvZeOGVGXLn",
        "colab": {
          "base_uri": "https://localhost:8080/",
          "height": 81
        },
        "outputId": "f22bb895-a0b7-4992-9250-a7c75e68a532"
      },
      "source": [
        "google.tail(1)"
      ],
      "execution_count": null,
      "outputs": [
        {
          "output_type": "execute_result",
          "data": {
            "text/plain": [
              "      Stock Price\n",
              "3011       782.22"
            ],
            "text/html": [
              "\n",
              "  <div id=\"df-208000dd-5cf4-4164-a234-50fd44515c1f\">\n",
              "    <div class=\"colab-df-container\">\n",
              "      <div>\n",
              "<style scoped>\n",
              "    .dataframe tbody tr th:only-of-type {\n",
              "        vertical-align: middle;\n",
              "    }\n",
              "\n",
              "    .dataframe tbody tr th {\n",
              "        vertical-align: top;\n",
              "    }\n",
              "\n",
              "    .dataframe thead th {\n",
              "        text-align: right;\n",
              "    }\n",
              "</style>\n",
              "<table border=\"1\" class=\"dataframe\">\n",
              "  <thead>\n",
              "    <tr style=\"text-align: right;\">\n",
              "      <th></th>\n",
              "      <th>Stock Price</th>\n",
              "    </tr>\n",
              "  </thead>\n",
              "  <tbody>\n",
              "    <tr>\n",
              "      <th>3011</th>\n",
              "      <td>782.22</td>\n",
              "    </tr>\n",
              "  </tbody>\n",
              "</table>\n",
              "</div>\n",
              "      <button class=\"colab-df-convert\" onclick=\"convertToInteractive('df-208000dd-5cf4-4164-a234-50fd44515c1f')\"\n",
              "              title=\"Convert this dataframe to an interactive table.\"\n",
              "              style=\"display:none;\">\n",
              "        \n",
              "  <svg xmlns=\"http://www.w3.org/2000/svg\" height=\"24px\"viewBox=\"0 0 24 24\"\n",
              "       width=\"24px\">\n",
              "    <path d=\"M0 0h24v24H0V0z\" fill=\"none\"/>\n",
              "    <path d=\"M18.56 5.44l.94 2.06.94-2.06 2.06-.94-2.06-.94-.94-2.06-.94 2.06-2.06.94zm-11 1L8.5 8.5l.94-2.06 2.06-.94-2.06-.94L8.5 2.5l-.94 2.06-2.06.94zm10 10l.94 2.06.94-2.06 2.06-.94-2.06-.94-.94-2.06-.94 2.06-2.06.94z\"/><path d=\"M17.41 7.96l-1.37-1.37c-.4-.4-.92-.59-1.43-.59-.52 0-1.04.2-1.43.59L10.3 9.45l-7.72 7.72c-.78.78-.78 2.05 0 2.83L4 21.41c.39.39.9.59 1.41.59.51 0 1.02-.2 1.41-.59l7.78-7.78 2.81-2.81c.8-.78.8-2.07 0-2.86zM5.41 20L4 18.59l7.72-7.72 1.47 1.35L5.41 20z\"/>\n",
              "  </svg>\n",
              "      </button>\n",
              "      \n",
              "  <style>\n",
              "    .colab-df-container {\n",
              "      display:flex;\n",
              "      flex-wrap:wrap;\n",
              "      gap: 12px;\n",
              "    }\n",
              "\n",
              "    .colab-df-convert {\n",
              "      background-color: #E8F0FE;\n",
              "      border: none;\n",
              "      border-radius: 50%;\n",
              "      cursor: pointer;\n",
              "      display: none;\n",
              "      fill: #1967D2;\n",
              "      height: 32px;\n",
              "      padding: 0 0 0 0;\n",
              "      width: 32px;\n",
              "    }\n",
              "\n",
              "    .colab-df-convert:hover {\n",
              "      background-color: #E2EBFA;\n",
              "      box-shadow: 0px 1px 2px rgba(60, 64, 67, 0.3), 0px 1px 3px 1px rgba(60, 64, 67, 0.15);\n",
              "      fill: #174EA6;\n",
              "    }\n",
              "\n",
              "    [theme=dark] .colab-df-convert {\n",
              "      background-color: #3B4455;\n",
              "      fill: #D2E3FC;\n",
              "    }\n",
              "\n",
              "    [theme=dark] .colab-df-convert:hover {\n",
              "      background-color: #434B5C;\n",
              "      box-shadow: 0px 1px 3px 1px rgba(0, 0, 0, 0.15);\n",
              "      filter: drop-shadow(0px 1px 2px rgba(0, 0, 0, 0.3));\n",
              "      fill: #FFFFFF;\n",
              "    }\n",
              "  </style>\n",
              "\n",
              "      <script>\n",
              "        const buttonEl =\n",
              "          document.querySelector('#df-208000dd-5cf4-4164-a234-50fd44515c1f button.colab-df-convert');\n",
              "        buttonEl.style.display =\n",
              "          google.colab.kernel.accessAllowed ? 'block' : 'none';\n",
              "\n",
              "        async function convertToInteractive(key) {\n",
              "          const element = document.querySelector('#df-208000dd-5cf4-4164-a234-50fd44515c1f');\n",
              "          const dataTable =\n",
              "            await google.colab.kernel.invokeFunction('convertToInteractive',\n",
              "                                                     [key], {});\n",
              "          if (!dataTable) return;\n",
              "\n",
              "          const docLinkHtml = 'Like what you see? Visit the ' +\n",
              "            '<a target=\"_blank\" href=https://colab.research.google.com/notebooks/data_table.ipynb>data table notebook</a>'\n",
              "            + ' to learn more about interactive tables.';\n",
              "          element.innerHTML = '';\n",
              "          dataTable['output_type'] = 'display_data';\n",
              "          await google.colab.output.renderOutput(dataTable, element);\n",
              "          const docLink = document.createElement('div');\n",
              "          docLink.innerHTML = docLinkHtml;\n",
              "          element.appendChild(docLink);\n",
              "        }\n",
              "      </script>\n",
              "    </div>\n",
              "  </div>\n",
              "  "
            ]
          },
          "metadata": {},
          "execution_count": 73
        }
      ]
    },
    {
      "cell_type": "markdown",
      "metadata": {
        "id": "Ij0KhZeZGXLn"
      },
      "source": [
        "## Python Built-In Functions"
      ]
    },
    {
      "cell_type": "code",
      "metadata": {
        "collapsed": true,
        "id": "X9XySfEnGXLo"
      },
      "source": [
        "# pokemon = pd.read_csv(\"/content/drive/MyDrive/Colab Notebooks/Data Analysis with Pandas/data/pokemon.csv\", usecols = [\"Pokemon\"], squeeze = True)\n",
        "# google = pd.read_csv(\"/content/drive/MyDrive/Colab Notebooks/Data Analysis with Pandas/data/google_stock_price.csv\", squeeze = True)"
      ],
      "execution_count": null,
      "outputs": []
    },
    {
      "cell_type": "code",
      "metadata": {
        "colab": {
          "base_uri": "https://localhost:8080/"
        },
        "id": "k4VzG64dGXLo",
        "outputId": "5e309aa8-f1a5-444e-d1b1-3c28db0216b6"
      },
      "source": [
        "len(pokemon)\n",
        "len(google)"
      ],
      "execution_count": null,
      "outputs": [
        {
          "output_type": "execute_result",
          "data": {
            "text/plain": [
              "3012"
            ]
          },
          "metadata": {},
          "execution_count": 75
        }
      ]
    },
    {
      "cell_type": "code",
      "metadata": {
        "colab": {
          "base_uri": "https://localhost:8080/"
        },
        "id": "gkgN6vrMGXLo",
        "outputId": "6ca69088-3e79-4467-e5a6-2b2699adbd08"
      },
      "source": [
        "type(pokemon)"
      ],
      "execution_count": null,
      "outputs": [
        {
          "output_type": "execute_result",
          "data": {
            "text/plain": [
              "pandas.core.frame.DataFrame"
            ]
          },
          "metadata": {},
          "execution_count": 76
        }
      ]
    },
    {
      "cell_type": "code",
      "metadata": {
        "colab": {
          "base_uri": "https://localhost:8080/"
        },
        "id": "VfDdszcIGXLo",
        "outputId": "19a4336f-b505-4401-aa79-1ad80783daad"
      },
      "source": [
        "dir(pokemon)"
      ],
      "execution_count": null,
      "outputs": [
        {
          "output_type": "execute_result",
          "data": {
            "text/plain": [
              "['Pokemon',\n",
              " 'T',\n",
              " 'Type',\n",
              " '_AXIS_LEN',\n",
              " '_AXIS_ORDERS',\n",
              " '_AXIS_REVERSED',\n",
              " '_AXIS_TO_AXIS_NUMBER',\n",
              " '_HANDLED_TYPES',\n",
              " '__abs__',\n",
              " '__add__',\n",
              " '__and__',\n",
              " '__annotations__',\n",
              " '__array__',\n",
              " '__array_priority__',\n",
              " '__array_ufunc__',\n",
              " '__array_wrap__',\n",
              " '__bool__',\n",
              " '__class__',\n",
              " '__contains__',\n",
              " '__copy__',\n",
              " '__deepcopy__',\n",
              " '__delattr__',\n",
              " '__delitem__',\n",
              " '__dict__',\n",
              " '__dir__',\n",
              " '__divmod__',\n",
              " '__doc__',\n",
              " '__eq__',\n",
              " '__finalize__',\n",
              " '__floordiv__',\n",
              " '__format__',\n",
              " '__ge__',\n",
              " '__getattr__',\n",
              " '__getattribute__',\n",
              " '__getitem__',\n",
              " '__getstate__',\n",
              " '__gt__',\n",
              " '__hash__',\n",
              " '__iadd__',\n",
              " '__iand__',\n",
              " '__ifloordiv__',\n",
              " '__imod__',\n",
              " '__imul__',\n",
              " '__init__',\n",
              " '__init_subclass__',\n",
              " '__invert__',\n",
              " '__ior__',\n",
              " '__ipow__',\n",
              " '__isub__',\n",
              " '__iter__',\n",
              " '__itruediv__',\n",
              " '__ixor__',\n",
              " '__le__',\n",
              " '__len__',\n",
              " '__lt__',\n",
              " '__matmul__',\n",
              " '__mod__',\n",
              " '__module__',\n",
              " '__mul__',\n",
              " '__ne__',\n",
              " '__neg__',\n",
              " '__new__',\n",
              " '__nonzero__',\n",
              " '__or__',\n",
              " '__pos__',\n",
              " '__pow__',\n",
              " '__radd__',\n",
              " '__rand__',\n",
              " '__rdivmod__',\n",
              " '__reduce__',\n",
              " '__reduce_ex__',\n",
              " '__repr__',\n",
              " '__rfloordiv__',\n",
              " '__rmatmul__',\n",
              " '__rmod__',\n",
              " '__rmul__',\n",
              " '__ror__',\n",
              " '__round__',\n",
              " '__rpow__',\n",
              " '__rsub__',\n",
              " '__rtruediv__',\n",
              " '__rxor__',\n",
              " '__setattr__',\n",
              " '__setitem__',\n",
              " '__setstate__',\n",
              " '__sizeof__',\n",
              " '__str__',\n",
              " '__sub__',\n",
              " '__subclasshook__',\n",
              " '__truediv__',\n",
              " '__weakref__',\n",
              " '__xor__',\n",
              " '_accessors',\n",
              " '_accum_func',\n",
              " '_add_numeric_operations',\n",
              " '_agg_by_level',\n",
              " '_agg_examples_doc',\n",
              " '_agg_summary_and_see_also_doc',\n",
              " '_align_frame',\n",
              " '_align_series',\n",
              " '_arith_method',\n",
              " '_as_manager',\n",
              " '_attrs',\n",
              " '_box_col_values',\n",
              " '_can_fast_transpose',\n",
              " '_check_inplace_and_allows_duplicate_labels',\n",
              " '_check_inplace_setting',\n",
              " '_check_is_chained_assignment_possible',\n",
              " '_check_label_or_level_ambiguity',\n",
              " '_check_setitem_copy',\n",
              " '_clear_item_cache',\n",
              " '_clip_with_one_bound',\n",
              " '_clip_with_scalar',\n",
              " '_cmp_method',\n",
              " '_combine_frame',\n",
              " '_consolidate',\n",
              " '_consolidate_inplace',\n",
              " '_construct_axes_dict',\n",
              " '_construct_axes_from_arguments',\n",
              " '_construct_result',\n",
              " '_constructor',\n",
              " '_constructor_sliced',\n",
              " '_convert',\n",
              " '_count_level',\n",
              " '_data',\n",
              " '_dir_additions',\n",
              " '_dir_deletions',\n",
              " '_dispatch_frame_op',\n",
              " '_drop_axis',\n",
              " '_drop_labels_or_levels',\n",
              " '_ensure_valid_index',\n",
              " '_find_valid_index',\n",
              " '_flags',\n",
              " '_from_arrays',\n",
              " '_from_mgr',\n",
              " '_get_agg_axis',\n",
              " '_get_axis',\n",
              " '_get_axis_name',\n",
              " '_get_axis_number',\n",
              " '_get_axis_resolvers',\n",
              " '_get_block_manager_axis',\n",
              " '_get_bool_data',\n",
              " '_get_cleaned_column_resolvers',\n",
              " '_get_column_array',\n",
              " '_get_index_resolvers',\n",
              " '_get_item_cache',\n",
              " '_get_label_or_level_values',\n",
              " '_get_numeric_data',\n",
              " '_get_value',\n",
              " '_getitem_bool_array',\n",
              " '_getitem_multilevel',\n",
              " '_gotitem',\n",
              " '_hidden_attrs',\n",
              " '_indexed_same',\n",
              " '_info_axis',\n",
              " '_info_axis_name',\n",
              " '_info_axis_number',\n",
              " '_info_repr',\n",
              " '_init_mgr',\n",
              " '_inplace_method',\n",
              " '_internal_names',\n",
              " '_internal_names_set',\n",
              " '_is_copy',\n",
              " '_is_homogeneous_type',\n",
              " '_is_label_or_level_reference',\n",
              " '_is_label_reference',\n",
              " '_is_level_reference',\n",
              " '_is_mixed_type',\n",
              " '_is_view',\n",
              " '_iset_item',\n",
              " '_iset_item_mgr',\n",
              " '_iset_not_inplace',\n",
              " '_item_cache',\n",
              " '_iter_column_arrays',\n",
              " '_ixs',\n",
              " '_join_compat',\n",
              " '_logical_func',\n",
              " '_logical_method',\n",
              " '_maybe_cache_changed',\n",
              " '_maybe_update_cacher',\n",
              " '_metadata',\n",
              " '_mgr',\n",
              " '_min_count_stat_function',\n",
              " '_needs_reindex_multi',\n",
              " '_protect_consolidate',\n",
              " '_reduce',\n",
              " '_reindex_axes',\n",
              " '_reindex_columns',\n",
              " '_reindex_index',\n",
              " '_reindex_multi',\n",
              " '_reindex_with_indexers',\n",
              " '_replace_columnwise',\n",
              " '_repr_data_resource_',\n",
              " '_repr_fits_horizontal_',\n",
              " '_repr_fits_vertical_',\n",
              " '_repr_html_',\n",
              " '_repr_latex_',\n",
              " '_reset_cache',\n",
              " '_reset_cacher',\n",
              " '_sanitize_column',\n",
              " '_series',\n",
              " '_set_axis',\n",
              " '_set_axis_name',\n",
              " '_set_axis_nocheck',\n",
              " '_set_is_copy',\n",
              " '_set_item',\n",
              " '_set_item_frame_value',\n",
              " '_set_item_mgr',\n",
              " '_set_value',\n",
              " '_setitem_array',\n",
              " '_setitem_frame',\n",
              " '_setitem_slice',\n",
              " '_slice',\n",
              " '_stat_axis',\n",
              " '_stat_axis_name',\n",
              " '_stat_axis_number',\n",
              " '_stat_function',\n",
              " '_stat_function_ddof',\n",
              " '_take_with_is_copy',\n",
              " '_to_dict_of_blocks',\n",
              " '_typ',\n",
              " '_update_inplace',\n",
              " '_validate_dtype',\n",
              " '_values',\n",
              " '_where',\n",
              " 'abs',\n",
              " 'add',\n",
              " 'add_prefix',\n",
              " 'add_suffix',\n",
              " 'agg',\n",
              " 'aggregate',\n",
              " 'align',\n",
              " 'all',\n",
              " 'any',\n",
              " 'append',\n",
              " 'apply',\n",
              " 'applymap',\n",
              " 'asfreq',\n",
              " 'asof',\n",
              " 'assign',\n",
              " 'astype',\n",
              " 'at',\n",
              " 'at_time',\n",
              " 'attrs',\n",
              " 'axes',\n",
              " 'backfill',\n",
              " 'between_time',\n",
              " 'bfill',\n",
              " 'bool',\n",
              " 'boxplot',\n",
              " 'clip',\n",
              " 'columns',\n",
              " 'combine',\n",
              " 'combine_first',\n",
              " 'compare',\n",
              " 'convert_dtypes',\n",
              " 'copy',\n",
              " 'corr',\n",
              " 'corrwith',\n",
              " 'count',\n",
              " 'cov',\n",
              " 'cummax',\n",
              " 'cummin',\n",
              " 'cumprod',\n",
              " 'cumsum',\n",
              " 'describe',\n",
              " 'diff',\n",
              " 'div',\n",
              " 'divide',\n",
              " 'dot',\n",
              " 'drop',\n",
              " 'drop_duplicates',\n",
              " 'droplevel',\n",
              " 'dropna',\n",
              " 'dtypes',\n",
              " 'duplicated',\n",
              " 'empty',\n",
              " 'eq',\n",
              " 'equals',\n",
              " 'eval',\n",
              " 'ewm',\n",
              " 'expanding',\n",
              " 'explode',\n",
              " 'ffill',\n",
              " 'fillna',\n",
              " 'filter',\n",
              " 'first',\n",
              " 'first_valid_index',\n",
              " 'flags',\n",
              " 'floordiv',\n",
              " 'from_dict',\n",
              " 'from_records',\n",
              " 'ge',\n",
              " 'get',\n",
              " 'groupby',\n",
              " 'gt',\n",
              " 'head',\n",
              " 'hist',\n",
              " 'iat',\n",
              " 'idxmax',\n",
              " 'idxmin',\n",
              " 'iloc',\n",
              " 'index',\n",
              " 'infer_objects',\n",
              " 'info',\n",
              " 'insert',\n",
              " 'interpolate',\n",
              " 'isin',\n",
              " 'isna',\n",
              " 'isnull',\n",
              " 'items',\n",
              " 'iteritems',\n",
              " 'iterrows',\n",
              " 'itertuples',\n",
              " 'join',\n",
              " 'keys',\n",
              " 'kurt',\n",
              " 'kurtosis',\n",
              " 'last',\n",
              " 'last_valid_index',\n",
              " 'le',\n",
              " 'loc',\n",
              " 'lookup',\n",
              " 'lt',\n",
              " 'mad',\n",
              " 'mask',\n",
              " 'max',\n",
              " 'mean',\n",
              " 'median',\n",
              " 'melt',\n",
              " 'memory_usage',\n",
              " 'merge',\n",
              " 'min',\n",
              " 'mod',\n",
              " 'mode',\n",
              " 'mul',\n",
              " 'multiply',\n",
              " 'ndim',\n",
              " 'ne',\n",
              " 'nlargest',\n",
              " 'notna',\n",
              " 'notnull',\n",
              " 'nsmallest',\n",
              " 'nunique',\n",
              " 'pad',\n",
              " 'pct_change',\n",
              " 'pipe',\n",
              " 'pivot',\n",
              " 'pivot_table',\n",
              " 'plot',\n",
              " 'pop',\n",
              " 'pow',\n",
              " 'prod',\n",
              " 'product',\n",
              " 'quantile',\n",
              " 'query',\n",
              " 'radd',\n",
              " 'rank',\n",
              " 'rdiv',\n",
              " 'reindex',\n",
              " 'reindex_like',\n",
              " 'rename',\n",
              " 'rename_axis',\n",
              " 'reorder_levels',\n",
              " 'replace',\n",
              " 'resample',\n",
              " 'reset_index',\n",
              " 'rfloordiv',\n",
              " 'rmod',\n",
              " 'rmul',\n",
              " 'rolling',\n",
              " 'round',\n",
              " 'rpow',\n",
              " 'rsub',\n",
              " 'rtruediv',\n",
              " 'sample',\n",
              " 'select_dtypes',\n",
              " 'sem',\n",
              " 'set_axis',\n",
              " 'set_flags',\n",
              " 'set_index',\n",
              " 'shape',\n",
              " 'shift',\n",
              " 'size',\n",
              " 'skew',\n",
              " 'slice_shift',\n",
              " 'sort_index',\n",
              " 'sort_values',\n",
              " 'squeeze',\n",
              " 'stack',\n",
              " 'std',\n",
              " 'style',\n",
              " 'sub',\n",
              " 'subtract',\n",
              " 'sum',\n",
              " 'swapaxes',\n",
              " 'swaplevel',\n",
              " 'tail',\n",
              " 'take',\n",
              " 'to_clipboard',\n",
              " 'to_csv',\n",
              " 'to_dict',\n",
              " 'to_excel',\n",
              " 'to_feather',\n",
              " 'to_gbq',\n",
              " 'to_hdf',\n",
              " 'to_html',\n",
              " 'to_json',\n",
              " 'to_latex',\n",
              " 'to_markdown',\n",
              " 'to_numpy',\n",
              " 'to_parquet',\n",
              " 'to_period',\n",
              " 'to_pickle',\n",
              " 'to_records',\n",
              " 'to_sql',\n",
              " 'to_stata',\n",
              " 'to_string',\n",
              " 'to_timestamp',\n",
              " 'to_xarray',\n",
              " 'to_xml',\n",
              " 'transform',\n",
              " 'transpose',\n",
              " 'truediv',\n",
              " 'truncate',\n",
              " 'tz_convert',\n",
              " 'tz_localize',\n",
              " 'unstack',\n",
              " 'update',\n",
              " 'value_counts',\n",
              " 'values',\n",
              " 'var',\n",
              " 'where',\n",
              " 'xs']"
            ]
          },
          "metadata": {},
          "execution_count": 77
        }
      ]
    },
    {
      "cell_type": "code",
      "metadata": {
        "colab": {
          "base_uri": "https://localhost:8080/"
        },
        "id": "O3zOLtThGXLo",
        "outputId": "ee56da0b-5b72-463f-d911-bcc7c1b1eec0"
      },
      "source": [
        "sorted(pokemon)\n",
        "sorted(google)"
      ],
      "execution_count": null,
      "outputs": [
        {
          "output_type": "execute_result",
          "data": {
            "text/plain": [
              "['Stock Price']"
            ]
          },
          "metadata": {},
          "execution_count": 78
        }
      ]
    },
    {
      "cell_type": "code",
      "metadata": {
        "collapsed": true,
        "colab": {
          "base_uri": "https://localhost:8080/"
        },
        "id": "UqgAucOHGXLo",
        "outputId": "202254c4-53b7-49fb-ebf8-960042e432e7"
      },
      "source": [
        "list(pokemon)"
      ],
      "execution_count": null,
      "outputs": [
        {
          "output_type": "execute_result",
          "data": {
            "text/plain": [
              "['Pokemon', 'Type']"
            ]
          },
          "metadata": {},
          "execution_count": 79
        }
      ]
    },
    {
      "cell_type": "code",
      "metadata": {
        "colab": {
          "base_uri": "https://localhost:8080/"
        },
        "id": "nPOSlv9xGXLp",
        "outputId": "92a4375a-05c2-41b5-9596-075942aa5f70"
      },
      "source": [
        "dict(google)"
      ],
      "execution_count": null,
      "outputs": [
        {
          "output_type": "execute_result",
          "data": {
            "text/plain": [
              "{'Stock Price': 0        50.12\n",
              " 1        54.10\n",
              " 2        54.65\n",
              " 3        52.38\n",
              " 4        52.95\n",
              "          ...  \n",
              " 3007    772.88\n",
              " 3008    771.07\n",
              " 3009    773.18\n",
              " 3010    771.61\n",
              " 3011    782.22\n",
              " Name: Stock Price, Length: 3012, dtype: float64}"
            ]
          },
          "metadata": {},
          "execution_count": 80
        }
      ]
    },
    {
      "cell_type": "code",
      "metadata": {
        "colab": {
          "base_uri": "https://localhost:8080/",
          "height": 36
        },
        "id": "Qtgm2vUOGXLp",
        "outputId": "2e2246ba-fe8a-4d26-9e1d-247b3ab4828b"
      },
      "source": [
        "max(pokemon)\n",
        "min(pokemon)"
      ],
      "execution_count": null,
      "outputs": [
        {
          "output_type": "execute_result",
          "data": {
            "text/plain": [
              "'Pokemon'"
            ],
            "application/vnd.google.colaboratory.intrinsic+json": {
              "type": "string"
            }
          },
          "metadata": {},
          "execution_count": 81
        }
      ]
    },
    {
      "cell_type": "code",
      "metadata": {
        "colab": {
          "base_uri": "https://localhost:8080/",
          "height": 36
        },
        "id": "sTMsx1h2GXLp",
        "outputId": "4f02f8ac-939d-4eda-db11-bb5bec2a3573"
      },
      "source": [
        "max(google)"
      ],
      "execution_count": null,
      "outputs": [
        {
          "output_type": "execute_result",
          "data": {
            "text/plain": [
              "'Stock Price'"
            ],
            "application/vnd.google.colaboratory.intrinsic+json": {
              "type": "string"
            }
          },
          "metadata": {},
          "execution_count": 82
        }
      ]
    },
    {
      "cell_type": "code",
      "metadata": {
        "colab": {
          "base_uri": "https://localhost:8080/",
          "height": 36
        },
        "id": "Z7u8ATSLGXLp",
        "outputId": "a2b91ab6-161c-4c95-f2ab-424527d599cb"
      },
      "source": [
        "min(google)"
      ],
      "execution_count": null,
      "outputs": [
        {
          "output_type": "execute_result",
          "data": {
            "text/plain": [
              "'Stock Price'"
            ],
            "application/vnd.google.colaboratory.intrinsic+json": {
              "type": "string"
            }
          },
          "metadata": {},
          "execution_count": 83
        }
      ]
    },
    {
      "cell_type": "markdown",
      "metadata": {
        "id": "qo2KzRYwGXLq"
      },
      "source": [
        "## More `Series` Attributes"
      ]
    },
    {
      "cell_type": "code",
      "metadata": {
        "collapsed": true,
        "id": "TR6jRrGmGXLq"
      },
      "source": [
        "# pokemon = pd.read_csv(\"pokemon.csv\", usecols = [\"Pokemon\"], squeeze = True)\n",
        "# google = pd.read_csv(\"google_stock_price.csv\", squeeze = True)"
      ],
      "execution_count": null,
      "outputs": []
    },
    {
      "cell_type": "code",
      "metadata": {
        "colab": {
          "base_uri": "https://localhost:8080/"
        },
        "id": "7P_1DWiEGXLq",
        "outputId": "9aee73ef-b9a6-4a75-d9fc-f52f1b881cce"
      },
      "source": [
        "pokemon.values\n",
        "#google.values"
      ],
      "execution_count": null,
      "outputs": [
        {
          "output_type": "execute_result",
          "data": {
            "text/plain": [
              "array([['Bulbasaur', 'Grass'],\n",
              "       ['Ivysaur', 'Grass'],\n",
              "       ['Venusaur', 'Grass'],\n",
              "       ...,\n",
              "       ['Diancie', 'Rock'],\n",
              "       ['Hoopa', 'Psychic'],\n",
              "       ['Volcanion', 'Fire']], dtype=object)"
            ]
          },
          "metadata": {},
          "execution_count": 85
        }
      ]
    },
    {
      "cell_type": "code",
      "metadata": {
        "colab": {
          "base_uri": "https://localhost:8080/"
        },
        "id": "du-PmkaRGXLq",
        "outputId": "fcabf681-2efc-4e6d-8b64-521532d2b3fe"
      },
      "source": [
        "pokemon.index\n",
        "#google.index"
      ],
      "execution_count": null,
      "outputs": [
        {
          "output_type": "execute_result",
          "data": {
            "text/plain": [
              "RangeIndex(start=0, stop=721, step=1)"
            ]
          },
          "metadata": {},
          "execution_count": 91
        }
      ]
    },
    {
      "cell_type": "code",
      "metadata": {
        "id": "ov7JKkfmGXLq"
      },
      "source": [
        "# pokemon.dtype\n",
        "# google.dtype"
      ],
      "execution_count": null,
      "outputs": []
    },
    {
      "cell_type": "code",
      "metadata": {
        "colab": {
          "base_uri": "https://localhost:8080/"
        },
        "id": "l3sEGjBNGXLr",
        "outputId": "60ca78ec-0dee-47d0-8ba9-87b94f73951b"
      },
      "source": [
        "pokemon.is_unique\n",
        "google.is_unique"
      ],
      "execution_count": null,
      "outputs": [
        {
          "output_type": "execute_result",
          "data": {
            "text/plain": [
              "False"
            ]
          },
          "metadata": {},
          "execution_count": 93
        }
      ]
    },
    {
      "cell_type": "code",
      "metadata": {
        "colab": {
          "base_uri": "https://localhost:8080/"
        },
        "id": "ppxejw81GXLu",
        "outputId": "411505c9-a871-49c5-c39f-4a5ff07f495b"
      },
      "source": [
        "pokemon.ndim\n",
        "google.ndim"
      ],
      "execution_count": null,
      "outputs": [
        {
          "output_type": "execute_result",
          "data": {
            "text/plain": [
              "1"
            ]
          },
          "metadata": {},
          "execution_count": 94
        }
      ]
    },
    {
      "cell_type": "code",
      "metadata": {
        "colab": {
          "base_uri": "https://localhost:8080/"
        },
        "id": "tlHaMbhKGXLu",
        "outputId": "03807a4a-2608-497d-957d-0c259793ba28"
      },
      "source": [
        "pokemon.shape\n",
        "google.shape"
      ],
      "execution_count": null,
      "outputs": [
        {
          "output_type": "execute_result",
          "data": {
            "text/plain": [
              "(3012,)"
            ]
          },
          "metadata": {},
          "execution_count": 95
        }
      ]
    },
    {
      "cell_type": "code",
      "metadata": {
        "colab": {
          "base_uri": "https://localhost:8080/"
        },
        "id": "bYt42cx_GXLv",
        "outputId": "6102b0ac-0c68-4086-ee22-ba607da29cf9"
      },
      "source": [
        "pokemon.size\n",
        "google.size"
      ],
      "execution_count": null,
      "outputs": [
        {
          "output_type": "execute_result",
          "data": {
            "text/plain": [
              "3012"
            ]
          },
          "metadata": {},
          "execution_count": 96
        }
      ]
    },
    {
      "cell_type": "code",
      "metadata": {
        "id": "tKBriGNcGXLv"
      },
      "source": [
        "pokemon.name = \"Pocket Monsters\""
      ],
      "execution_count": null,
      "outputs": []
    },
    {
      "cell_type": "code",
      "metadata": {
        "colab": {
          "base_uri": "https://localhost:8080/"
        },
        "id": "UDKY7WAZGXLv",
        "outputId": "a2742e10-c5a9-4ddf-9b93-0f5444d0d364"
      },
      "source": [
        "pokemon.head()"
      ],
      "execution_count": null,
      "outputs": [
        {
          "output_type": "execute_result",
          "data": {
            "text/plain": [
              "0     Bulbasaur\n",
              "1       Ivysaur\n",
              "2      Venusaur\n",
              "3    Charmander\n",
              "4    Charmeleon\n",
              "Name: Pocket Monsters, dtype: object"
            ]
          },
          "metadata": {},
          "execution_count": 98
        }
      ]
    },
    {
      "cell_type": "markdown",
      "metadata": {
        "id": "3pnKVbZ5GXLv"
      },
      "source": [
        "## The `.sort_values()` Method"
      ]
    },
    {
      "cell_type": "code",
      "metadata": {
        "collapsed": true,
        "id": "TeIcrxRdGXLv"
      },
      "source": [
        "# pokemon = pd.read_csv(\"pokemon.csv\", usecols = [\"Pokemon\"], squeeze = True)\n",
        "# google = pd.read_csv(\"google_stock_price.csv\", squeeze = True)"
      ],
      "execution_count": null,
      "outputs": []
    },
    {
      "cell_type": "code",
      "metadata": {
        "colab": {
          "base_uri": "https://localhost:8080/"
        },
        "id": "LU0T2xnwGXLv",
        "outputId": "d9bbb3cf-7a23-45bf-e11b-8919248ab4f0"
      },
      "source": [
        "pokemon.sort_values().head()"
      ],
      "execution_count": null,
      "outputs": [
        {
          "output_type": "execute_result",
          "data": {
            "text/plain": [
              "459    Abomasnow\n",
              "62          Abra\n",
              "358        Absol\n",
              "616     Accelgor\n",
              "680    Aegislash\n",
              "Name: Pocket Monsters, dtype: object"
            ]
          },
          "metadata": {},
          "execution_count": 100
        }
      ]
    },
    {
      "cell_type": "code",
      "metadata": {
        "colab": {
          "base_uri": "https://localhost:8080/"
        },
        "id": "4Ra6JC14GXLw",
        "outputId": "9fa6ac96-2575-4858-fde5-184c529d902f"
      },
      "source": [
        "pokemon.sort_values(ascending = False).tail()"
      ],
      "execution_count": null,
      "outputs": [
        {
          "output_type": "execute_result",
          "data": {
            "text/plain": [
              "680    Aegislash\n",
              "616     Accelgor\n",
              "358        Absol\n",
              "62          Abra\n",
              "459    Abomasnow\n",
              "Name: Pocket Monsters, dtype: object"
            ]
          },
          "metadata": {},
          "execution_count": 101
        }
      ]
    },
    {
      "cell_type": "code",
      "metadata": {
        "colab": {
          "base_uri": "https://localhost:8080/"
        },
        "id": "6dXi_d3sGXLw",
        "outputId": "835e35fd-d920-4078-807c-ca07666504dc"
      },
      "source": [
        "google.sort_values(ascending = False).head(1)"
      ],
      "execution_count": null,
      "outputs": [
        {
          "output_type": "execute_result",
          "data": {
            "text/plain": [
              "3011    782.22\n",
              "Name: Stock Price, dtype: float64"
            ]
          },
          "metadata": {},
          "execution_count": 102
        }
      ]
    },
    {
      "cell_type": "code",
      "metadata": {
        "colab": {
          "base_uri": "https://localhost:8080/"
        },
        "id": "4qIQjsYdGXLw",
        "outputId": "ef74ec7d-49c2-49a2-8b30-c5e395029a69"
      },
      "source": [
        "google"
      ],
      "execution_count": null,
      "outputs": [
        {
          "output_type": "execute_result",
          "data": {
            "text/plain": [
              "0        50.12\n",
              "1        54.10\n",
              "2        54.65\n",
              "3        52.38\n",
              "4        52.95\n",
              "         ...  \n",
              "3007    772.88\n",
              "3008    771.07\n",
              "3009    773.18\n",
              "3010    771.61\n",
              "3011    782.22\n",
              "Name: Stock Price, Length: 3012, dtype: float64"
            ]
          },
          "metadata": {},
          "execution_count": 103
        }
      ]
    },
    {
      "cell_type": "markdown",
      "metadata": {
        "id": "FKFNX3HXGXLw"
      },
      "source": [
        "## The `inplace` Parameter"
      ]
    },
    {
      "cell_type": "code",
      "metadata": {
        "collapsed": true,
        "id": "xvhAbW4EGXLw"
      },
      "source": [
        "# pokemon = pd.read_csv(\"pokemon.csv\", usecols = [\"Pokemon\"], squeeze = True)\n",
        "# google = pd.read_csv(\"google_stock_price.csv\", squeeze = True)"
      ],
      "execution_count": null,
      "outputs": []
    },
    {
      "cell_type": "code",
      "metadata": {
        "colab": {
          "base_uri": "https://localhost:8080/"
        },
        "id": "EVTDAzquGXLx",
        "outputId": "b6335250-d45b-453b-a0cb-dda69526b032"
      },
      "source": [
        "google.head(3)"
      ],
      "execution_count": null,
      "outputs": [
        {
          "output_type": "execute_result",
          "data": {
            "text/plain": [
              "0    50.12\n",
              "1    54.10\n",
              "2    54.65\n",
              "Name: Stock Price, dtype: float64"
            ]
          },
          "metadata": {},
          "execution_count": 105
        }
      ]
    },
    {
      "cell_type": "code",
      "metadata": {
        "id": "8gjAeb4uGXLx"
      },
      "source": [
        "google = google.sort_values()"
      ],
      "execution_count": null,
      "outputs": []
    },
    {
      "cell_type": "code",
      "metadata": {
        "colab": {
          "base_uri": "https://localhost:8080/"
        },
        "id": "S6NvkE1ZGXLx",
        "outputId": "5e0b3e93-f90b-44cb-d8fe-9c5a66d93d3f"
      },
      "source": [
        "google.head(3)"
      ],
      "execution_count": null,
      "outputs": [
        {
          "output_type": "execute_result",
          "data": {
            "text/plain": [
              "11    49.95\n",
              "9     50.07\n",
              "0     50.12\n",
              "Name: Stock Price, dtype: float64"
            ]
          },
          "metadata": {},
          "execution_count": 107
        }
      ]
    },
    {
      "cell_type": "code",
      "metadata": {
        "id": "juQsu6bpGXLx"
      },
      "source": [
        "google.sort_values(ascending = False, inplace = True)"
      ],
      "execution_count": null,
      "outputs": []
    },
    {
      "cell_type": "code",
      "metadata": {
        "colab": {
          "base_uri": "https://localhost:8080/"
        },
        "id": "W38a_iK7GXLx",
        "outputId": "4850f7a2-da09-4be0-c360-864c0d74dce9"
      },
      "source": [
        "google.head(3)"
      ],
      "execution_count": null,
      "outputs": [
        {
          "output_type": "execute_result",
          "data": {
            "text/plain": [
              "3011    782.22\n",
              "2859    776.60\n",
              "3009    773.18\n",
              "Name: Stock Price, dtype: float64"
            ]
          },
          "metadata": {},
          "execution_count": 109
        }
      ]
    },
    {
      "cell_type": "markdown",
      "metadata": {
        "id": "X-uZ2JDRGXLx"
      },
      "source": [
        "## The `.sort_index()` Method"
      ]
    },
    {
      "cell_type": "code",
      "metadata": {
        "collapsed": true,
        "id": "dPyTxe8aGXLy"
      },
      "source": [
        "# pokemon = pd.read_csv(\"pokemon.csv\", usecols = [\"Pokemon\"], squeeze = True)\n",
        "# google = pd.read_csv(\"google_stock_price.csv\", squeeze = True)"
      ],
      "execution_count": null,
      "outputs": []
    },
    {
      "cell_type": "code",
      "metadata": {
        "id": "f17WGpr0GXLy"
      },
      "source": [
        "pokemon.sort_values(ascending = False, inplace = True)"
      ],
      "execution_count": null,
      "outputs": []
    },
    {
      "cell_type": "code",
      "metadata": {
        "colab": {
          "base_uri": "https://localhost:8080/"
        },
        "id": "9fbCpbyiGXLy",
        "outputId": "58898e55-75b6-45cd-e6f9-726847041ef2"
      },
      "source": [
        "pokemon.head(3)"
      ],
      "execution_count": null,
      "outputs": [
        {
          "output_type": "execute_result",
          "data": {
            "text/plain": [
              "717     Zygarde\n",
              "633    Zweilous\n",
              "40        Zubat\n",
              "Name: Pocket Monsters, dtype: object"
            ]
          },
          "metadata": {},
          "execution_count": 112
        }
      ]
    },
    {
      "cell_type": "code",
      "metadata": {
        "id": "q0aXrbJ9GXLy"
      },
      "source": [
        "pokemon.sort_index(ascending = True, inplace = True)"
      ],
      "execution_count": null,
      "outputs": []
    },
    {
      "cell_type": "markdown",
      "metadata": {
        "id": "58E58r5YGXLz"
      },
      "source": [
        "## Python's `in` Keyword"
      ]
    },
    {
      "cell_type": "code",
      "metadata": {
        "collapsed": true,
        "id": "_Zw3iXoNGXLz"
      },
      "source": [
        "# pokemon = pd.read_csv(\"pokemon.csv\", usecols = [\"Pokemon\"], squeeze = True)\n",
        "# google = pd.read_csv(\"google_stock_price.csv\", squeeze = True)"
      ],
      "execution_count": null,
      "outputs": []
    },
    {
      "cell_type": "code",
      "metadata": {
        "id": "kZD-ArAmGXLz",
        "colab": {
          "base_uri": "https://localhost:8080/"
        },
        "outputId": "59237c92-89a1-421a-a179-9ae9f4ae19ba"
      },
      "source": [
        "100 in [1, 2, 3, 4, 5]"
      ],
      "execution_count": null,
      "outputs": [
        {
          "output_type": "execute_result",
          "data": {
            "text/plain": [
              "False"
            ]
          },
          "metadata": {},
          "execution_count": 115
        }
      ]
    },
    {
      "cell_type": "code",
      "metadata": {
        "id": "89GK-KmvGXLz",
        "colab": {
          "base_uri": "https://localhost:8080/"
        },
        "outputId": "ab9535f0-d1e6-4d9c-bb19-cec88560da3d"
      },
      "source": [
        "pokemon.head(3)"
      ],
      "execution_count": null,
      "outputs": [
        {
          "output_type": "execute_result",
          "data": {
            "text/plain": [
              "0    Bulbasaur\n",
              "1      Ivysaur\n",
              "2     Venusaur\n",
              "Name: Pocket Monsters, dtype: object"
            ]
          },
          "metadata": {},
          "execution_count": 116
        }
      ]
    },
    {
      "cell_type": "code",
      "metadata": {
        "id": "UQgsNSspGXLz",
        "colab": {
          "base_uri": "https://localhost:8080/"
        },
        "outputId": "574063f3-6b7c-4741-99d8-e329891cd9cc"
      },
      "source": [
        "100 in pokemon\n",
        "100 in pokemon.index"
      ],
      "execution_count": null,
      "outputs": [
        {
          "output_type": "execute_result",
          "data": {
            "text/plain": [
              "True"
            ]
          },
          "metadata": {},
          "execution_count": 117
        }
      ]
    },
    {
      "cell_type": "code",
      "metadata": {
        "id": "HJGPx3uqGXLz",
        "colab": {
          "base_uri": "https://localhost:8080/"
        },
        "outputId": "a1381fbd-74fa-46cb-f5a5-71ed1148fe1c"
      },
      "source": [
        "pokemon.index"
      ],
      "execution_count": null,
      "outputs": [
        {
          "output_type": "execute_result",
          "data": {
            "text/plain": [
              "Int64Index([  0,   1,   2,   3,   4,   5,   6,   7,   8,   9,\n",
              "            ...\n",
              "            711, 712, 713, 714, 715, 716, 717, 718, 719, 720],\n",
              "           dtype='int64', length=721)"
            ]
          },
          "metadata": {},
          "execution_count": 118
        }
      ]
    },
    {
      "cell_type": "code",
      "metadata": {
        "id": "EvLBQhJZGXL0",
        "colab": {
          "base_uri": "https://localhost:8080/"
        },
        "outputId": "d901e9e6-ff78-4636-9185-d3e95c00d287"
      },
      "source": [
        "\"Digimon\" in pokemon.values"
      ],
      "execution_count": null,
      "outputs": [
        {
          "output_type": "execute_result",
          "data": {
            "text/plain": [
              "False"
            ]
          },
          "metadata": {},
          "execution_count": 119
        }
      ]
    },
    {
      "cell_type": "markdown",
      "metadata": {
        "id": "a3UffWq5GXL0"
      },
      "source": [
        "## Extract Values by Index Position"
      ]
    },
    {
      "cell_type": "code",
      "metadata": {
        "collapsed": true,
        "id": "GrvcT_K2GXL0"
      },
      "source": [
        "# pokemon = pd.read_csv(\"pokemon.csv\", usecols = [\"Pokemon\"], squeeze = True)\n",
        "# google = pd.read_csv(\"google_stock_price.csv\", squeeze = True)"
      ],
      "execution_count": null,
      "outputs": []
    },
    {
      "cell_type": "code",
      "metadata": {
        "id": "pXXm98TtGXL0",
        "colab": {
          "base_uri": "https://localhost:8080/"
        },
        "outputId": "27c65533-de5f-452a-971b-dca692306e8e"
      },
      "source": [
        "pokemon.head(3)"
      ],
      "execution_count": null,
      "outputs": [
        {
          "output_type": "execute_result",
          "data": {
            "text/plain": [
              "0    Bulbasaur\n",
              "1      Ivysaur\n",
              "2     Venusaur\n",
              "Name: Pocket Monsters, dtype: object"
            ]
          },
          "metadata": {},
          "execution_count": 121
        }
      ]
    },
    {
      "cell_type": "code",
      "metadata": {
        "collapsed": true,
        "id": "aQsqA1ObGXL0",
        "colab": {
          "base_uri": "https://localhost:8080/"
        },
        "outputId": "296652c2-7a66-4dfe-b44d-3a89d982e9a2"
      },
      "source": [
        "pokemon[1]\n",
        "\n",
        "pokemon[[100, 200, 300]]\n",
        "\n",
        "pokemon[50:101]\n",
        "\n",
        "pokemon[:50]\n",
        "\n",
        "pokemon[-30:]\n",
        "\n",
        "pokemon[-30 : -10]"
      ],
      "execution_count": null,
      "outputs": [
        {
          "output_type": "execute_result",
          "data": {
            "text/plain": [
              "691     Clauncher\n",
              "692     Clawitzer\n",
              "693    Helioptile\n",
              "694     Heliolisk\n",
              "695        Tyrunt\n",
              "696     Tyrantrum\n",
              "697        Amaura\n",
              "698       Aurorus\n",
              "699       Sylveon\n",
              "700      Hawlucha\n",
              "701       Dedenne\n",
              "702       Carbink\n",
              "703         Goomy\n",
              "704       Sliggoo\n",
              "705        Goodra\n",
              "706        Klefki\n",
              "707      Phantump\n",
              "708     Trevenant\n",
              "709     Pumpkaboo\n",
              "710     Gourgeist\n",
              "Name: Pocket Monsters, dtype: object"
            ]
          },
          "metadata": {},
          "execution_count": 122
        }
      ]
    },
    {
      "cell_type": "markdown",
      "metadata": {
        "id": "PRwWg_lxGXL1"
      },
      "source": [
        "## Extract Values by Index Label"
      ]
    },
    {
      "cell_type": "code",
      "metadata": {
        "id": "cuyIkFGYGXL1"
      },
      "source": [
        "# pokemon = pd.read_csv(\"pokemon.csv\", index_col = \"Pokemon\", squeeze = True)\n",
        "# pokemon.head(3)"
      ],
      "execution_count": null,
      "outputs": []
    },
    {
      "cell_type": "code",
      "metadata": {
        "id": "qHW7REh_GXL1",
        "colab": {
          "base_uri": "https://localhost:8080/"
        },
        "outputId": "f9c8b10a-0f78-49fb-a9d3-e7ce27922b99"
      },
      "source": [
        "pokemon[[100, 134]]"
      ],
      "execution_count": null,
      "outputs": [
        {
          "output_type": "execute_result",
          "data": {
            "text/plain": [
              "100    Electrode\n",
              "134      Jolteon\n",
              "Name: Pocket Monsters, dtype: object"
            ]
          },
          "metadata": {},
          "execution_count": 124
        }
      ]
    },
    {
      "cell_type": "code",
      "metadata": {
        "id": "LiQGBL54GXL1"
      },
      "source": [
        "# pokemon[\"Bulbasaur\"]\n",
        "# pokemon[\"Ditto\"]\n",
        "# pokemon[[\"Charizard\", \"Jolteon\"]]\n",
        "# pokemon[[\"Blastoise\", \"Venusaur\", \"Meowth\"]]\n",
        "\n",
        "# pokemon[[\"Pikachu\", \"Digimon\"]]\n",
        "\n",
        "# pokemon[\"Bulbasaur\" : \"Pikachu\"]"
      ],
      "execution_count": null,
      "outputs": []
    },
    {
      "cell_type": "markdown",
      "metadata": {
        "id": "4QfcBZHrGXL1"
      },
      "source": [
        "## The `.get()` Method on a `Series`"
      ]
    },
    {
      "cell_type": "code",
      "metadata": {
        "id": "AJAdiDeJGXL1",
        "outputId": "157e1715-1a4c-4a53-b44d-3025616c1f5b",
        "colab": {
          "base_uri": "https://localhost:8080/"
        }
      },
      "source": [
        "# pokemon = pd.read_csv(\"pokemon.csv\", index_col = \"Pokemon\", squeeze = True)\n",
        "pokemon.sort_index(inplace = True)\n",
        "pokemon.head(3)"
      ],
      "execution_count": null,
      "outputs": [
        {
          "output_type": "execute_result",
          "data": {
            "text/plain": [
              "0    Bulbasaur\n",
              "1      Ivysaur\n",
              "2     Venusaur\n",
              "Name: Pocket Monsters, dtype: object"
            ]
          },
          "metadata": {},
          "execution_count": 128
        }
      ]
    },
    {
      "cell_type": "code",
      "metadata": {
        "id": "LPcKv67IGXL2"
      },
      "source": [
        "pokemon.get(key = [\"Moltres\", \"Meowth\"])"
      ],
      "execution_count": null,
      "outputs": []
    },
    {
      "cell_type": "code",
      "metadata": {
        "id": "bcGuZfKwGXL2",
        "outputId": "1dfeb646-441a-4ec0-84d1-498584bd71a9",
        "colab": {
          "base_uri": "https://localhost:8080/",
          "height": 36
        }
      },
      "source": [
        "pokemon.get(key = \"Charizard\", default = \"This is not a Pokemon\")"
      ],
      "execution_count": null,
      "outputs": [
        {
          "output_type": "execute_result",
          "data": {
            "text/plain": [
              "'This is not a Pokemon'"
            ],
            "application/vnd.google.colaboratory.intrinsic+json": {
              "type": "string"
            }
          },
          "metadata": {},
          "execution_count": 130
        }
      ]
    },
    {
      "cell_type": "code",
      "metadata": {
        "id": "GO_zWP57GXL2",
        "outputId": "b3b6b85b-d9d5-4dfb-c4a3-6540c3d7455a",
        "colab": {
          "base_uri": "https://localhost:8080/",
          "height": 36
        }
      },
      "source": [
        "pokemon.get(key = \"jksajk\", default = \"This is not a Pokemon\")"
      ],
      "execution_count": null,
      "outputs": [
        {
          "output_type": "execute_result",
          "data": {
            "text/plain": [
              "'This is not a Pokemon'"
            ],
            "application/vnd.google.colaboratory.intrinsic+json": {
              "type": "string"
            }
          },
          "metadata": {},
          "execution_count": 131
        }
      ]
    },
    {
      "cell_type": "markdown",
      "metadata": {
        "id": "jzC270YsGXL2"
      },
      "source": [
        "## Math Methods on `Series` Objects"
      ]
    },
    {
      "cell_type": "code",
      "metadata": {
        "id": "w5KvO8reGXL2",
        "outputId": "b4667461-c6c8-4f32-e840-18379e908162",
        "colab": {
          "base_uri": "https://localhost:8080/"
        }
      },
      "source": [
        "# google = pd.read_csv(\"google_stock_price.csv\", squeeze = True)\n",
        "google.head(3)"
      ],
      "execution_count": null,
      "outputs": [
        {
          "output_type": "execute_result",
          "data": {
            "text/plain": [
              "3011    782.22\n",
              "2859    776.60\n",
              "3009    773.18\n",
              "Name: Stock Price, dtype: float64"
            ]
          },
          "metadata": {},
          "execution_count": 133
        }
      ]
    },
    {
      "cell_type": "code",
      "metadata": {
        "id": "UQKuCedgGXL3",
        "outputId": "2f324574-4b08-4962-88bf-d67eac46abf7",
        "colab": {
          "base_uri": "https://localhost:8080/"
        }
      },
      "source": [
        "google.count()"
      ],
      "execution_count": null,
      "outputs": [
        {
          "output_type": "execute_result",
          "data": {
            "text/plain": [
              "3012"
            ]
          },
          "metadata": {},
          "execution_count": 134
        }
      ]
    },
    {
      "cell_type": "code",
      "metadata": {
        "id": "-NO9jVfGGXL3",
        "outputId": "5a35527f-1a20-4551-d7ae-dec2cf1284db",
        "colab": {
          "base_uri": "https://localhost:8080/"
        }
      },
      "source": [
        "len(google)"
      ],
      "execution_count": null,
      "outputs": [
        {
          "output_type": "execute_result",
          "data": {
            "text/plain": [
              "3012"
            ]
          },
          "metadata": {},
          "execution_count": 135
        }
      ]
    },
    {
      "cell_type": "code",
      "metadata": {
        "id": "L8Ss3_4WGXL3",
        "outputId": "e10ca2d4-7cd6-4a2d-f157-54ec9be755f9",
        "colab": {
          "base_uri": "https://localhost:8080/"
        }
      },
      "source": [
        "google.sum()"
      ],
      "execution_count": null,
      "outputs": [
        {
          "output_type": "execute_result",
          "data": {
            "text/plain": [
              "1006942.0000000001"
            ]
          },
          "metadata": {},
          "execution_count": 136
        }
      ]
    },
    {
      "cell_type": "code",
      "metadata": {
        "id": "H--hYonUGXL3",
        "outputId": "6b70baf1-8cdb-468c-f7e5-25bdaeccf7a0",
        "colab": {
          "base_uri": "https://localhost:8080/"
        }
      },
      "source": [
        "google.mean()"
      ],
      "execution_count": null,
      "outputs": [
        {
          "output_type": "execute_result",
          "data": {
            "text/plain": [
              "334.31009296148744"
            ]
          },
          "metadata": {},
          "execution_count": 137
        }
      ]
    },
    {
      "cell_type": "code",
      "metadata": {
        "id": "w39hieKnGXL3",
        "outputId": "5740e905-6893-4568-9af9-6b23503df996",
        "colab": {
          "base_uri": "https://localhost:8080/"
        }
      },
      "source": [
        "google.sum() / google.count()"
      ],
      "execution_count": null,
      "outputs": [
        {
          "output_type": "execute_result",
          "data": {
            "text/plain": [
              "334.31009296148744"
            ]
          },
          "metadata": {},
          "execution_count": 138
        }
      ]
    },
    {
      "cell_type": "code",
      "metadata": {
        "id": "g03wO64fGXL4",
        "outputId": "cb6f8c37-bd47-4885-a59c-3c23411e88e1",
        "colab": {
          "base_uri": "https://localhost:8080/"
        }
      },
      "source": [
        "google.std()"
      ],
      "execution_count": null,
      "outputs": [
        {
          "output_type": "execute_result",
          "data": {
            "text/plain": [
              "173.18720477113115"
            ]
          },
          "metadata": {},
          "execution_count": 139
        }
      ]
    },
    {
      "cell_type": "code",
      "metadata": {
        "id": "mvpzyAnFGXL4",
        "outputId": "2a2e0e64-bb61-4f53-b565-416408b73a28",
        "colab": {
          "base_uri": "https://localhost:8080/"
        }
      },
      "source": [
        "google.min()"
      ],
      "execution_count": null,
      "outputs": [
        {
          "output_type": "execute_result",
          "data": {
            "text/plain": [
              "49.95"
            ]
          },
          "metadata": {},
          "execution_count": 140
        }
      ]
    },
    {
      "cell_type": "code",
      "metadata": {
        "id": "6OmOAVNWGXL4",
        "outputId": "ecd659d6-e321-4052-e534-7a56925bc4e8",
        "colab": {
          "base_uri": "https://localhost:8080/"
        }
      },
      "source": [
        "google.max()"
      ],
      "execution_count": null,
      "outputs": [
        {
          "output_type": "execute_result",
          "data": {
            "text/plain": [
              "782.22"
            ]
          },
          "metadata": {},
          "execution_count": 141
        }
      ]
    },
    {
      "cell_type": "code",
      "metadata": {
        "id": "ULDc0Yy9GXL4",
        "outputId": "96d653d1-f6b0-41a7-deec-6a38c891594c",
        "colab": {
          "base_uri": "https://localhost:8080/"
        }
      },
      "source": [
        "google.median()"
      ],
      "execution_count": null,
      "outputs": [
        {
          "output_type": "execute_result",
          "data": {
            "text/plain": [
              "283.315"
            ]
          },
          "metadata": {},
          "execution_count": 142
        }
      ]
    },
    {
      "cell_type": "code",
      "metadata": {
        "id": "v2XDgvszGXL4",
        "outputId": "2361755c-0148-40db-9934-3821192c8365",
        "colab": {
          "base_uri": "https://localhost:8080/"
        }
      },
      "source": [
        "google.mode()"
      ],
      "execution_count": null,
      "outputs": [
        {
          "output_type": "execute_result",
          "data": {
            "text/plain": [
              "0    291.21\n",
              "dtype: float64"
            ]
          },
          "metadata": {},
          "execution_count": 143
        }
      ]
    },
    {
      "cell_type": "code",
      "metadata": {
        "id": "5aIoL-hIGXL4",
        "outputId": "2e23dfbb-fa9c-47f9-a456-4e9d35f29fa6",
        "colab": {
          "base_uri": "https://localhost:8080/"
        }
      },
      "source": [
        "google.describe()"
      ],
      "execution_count": null,
      "outputs": [
        {
          "output_type": "execute_result",
          "data": {
            "text/plain": [
              "count    3012.000000\n",
              "mean      334.310093\n",
              "std       173.187205\n",
              "min        49.950000\n",
              "25%       218.045000\n",
              "50%       283.315000\n",
              "75%       443.000000\n",
              "max       782.220000\n",
              "Name: Stock Price, dtype: float64"
            ]
          },
          "metadata": {},
          "execution_count": 144
        }
      ]
    },
    {
      "cell_type": "markdown",
      "metadata": {
        "id": "uyqNkbHWGXL5"
      },
      "source": [
        "## The `.idxmax()` and `.idxmin()` Methods"
      ]
    },
    {
      "cell_type": "code",
      "metadata": {
        "collapsed": true,
        "id": "Z1v-_3DqGXL5"
      },
      "source": [
        "# google = pd.read_csv(\"google_stock_price.csv\", squeeze = True)"
      ],
      "execution_count": null,
      "outputs": []
    },
    {
      "cell_type": "code",
      "metadata": {
        "id": "xpXBcF3vGXL5",
        "outputId": "0ef9b7e8-0e55-455b-f06d-28a08889731a",
        "colab": {
          "base_uri": "https://localhost:8080/"
        }
      },
      "source": [
        "google.max()"
      ],
      "execution_count": null,
      "outputs": [
        {
          "output_type": "execute_result",
          "data": {
            "text/plain": [
              "782.22"
            ]
          },
          "metadata": {},
          "execution_count": 146
        }
      ]
    },
    {
      "cell_type": "code",
      "metadata": {
        "id": "yuNhoVKuGXL5",
        "outputId": "2339b9c2-2df8-4714-cd3e-fde142acaf74",
        "colab": {
          "base_uri": "https://localhost:8080/"
        }
      },
      "source": [
        "google.min()"
      ],
      "execution_count": null,
      "outputs": [
        {
          "output_type": "execute_result",
          "data": {
            "text/plain": [
              "49.95"
            ]
          },
          "metadata": {},
          "execution_count": 147
        }
      ]
    },
    {
      "cell_type": "code",
      "metadata": {
        "id": "aeuBw5TYGXL5",
        "outputId": "e4bec2b1-a85f-4153-fd66-7bf3a061f008",
        "colab": {
          "base_uri": "https://localhost:8080/"
        }
      },
      "source": [
        "google.idxmax()"
      ],
      "execution_count": null,
      "outputs": [
        {
          "output_type": "execute_result",
          "data": {
            "text/plain": [
              "3011"
            ]
          },
          "metadata": {},
          "execution_count": 148
        }
      ]
    },
    {
      "cell_type": "code",
      "metadata": {
        "id": "pH2YvJjMGXL6",
        "outputId": "a1513023-bcb2-40dd-c1bb-232ef8d99eca",
        "colab": {
          "base_uri": "https://localhost:8080/"
        }
      },
      "source": [
        "google[3011]"
      ],
      "execution_count": null,
      "outputs": [
        {
          "output_type": "execute_result",
          "data": {
            "text/plain": [
              "782.22"
            ]
          },
          "metadata": {},
          "execution_count": 149
        }
      ]
    },
    {
      "cell_type": "code",
      "metadata": {
        "id": "7u5TFg5FGXL6",
        "outputId": "fe089f79-3bbf-49d2-f852-3194b5ff8b73",
        "colab": {
          "base_uri": "https://localhost:8080/"
        }
      },
      "source": [
        "google.idxmin()"
      ],
      "execution_count": null,
      "outputs": [
        {
          "output_type": "execute_result",
          "data": {
            "text/plain": [
              "11"
            ]
          },
          "metadata": {},
          "execution_count": 150
        }
      ]
    },
    {
      "cell_type": "code",
      "metadata": {
        "id": "0BRVjVy-GXL6",
        "outputId": "7a9a1e86-5bee-45b0-c1d1-0f6978a56fe7",
        "colab": {
          "base_uri": "https://localhost:8080/"
        }
      },
      "source": [
        "google[11]"
      ],
      "execution_count": null,
      "outputs": [
        {
          "output_type": "execute_result",
          "data": {
            "text/plain": [
              "49.95"
            ]
          },
          "metadata": {},
          "execution_count": 151
        }
      ]
    },
    {
      "cell_type": "code",
      "metadata": {
        "id": "hk64tYWQGXL6",
        "outputId": "1804ff17-1fca-4071-c8c7-25264052d2ce",
        "colab": {
          "base_uri": "https://localhost:8080/"
        }
      },
      "source": [
        "google[google.idxmin()]"
      ],
      "execution_count": null,
      "outputs": [
        {
          "output_type": "execute_result",
          "data": {
            "text/plain": [
              "49.95"
            ]
          },
          "metadata": {},
          "execution_count": 152
        }
      ]
    },
    {
      "cell_type": "markdown",
      "metadata": {
        "id": "MMfQrQRFGXL7"
      },
      "source": [
        "## The `.value_counts()` Method"
      ]
    },
    {
      "cell_type": "code",
      "metadata": {
        "id": "xcAlUtdjGXL7",
        "outputId": "175f87ed-a75a-4307-9f53-d4a513bcff60",
        "colab": {
          "base_uri": "https://localhost:8080/"
        }
      },
      "source": [
        "# pokemon = pd.read_csv(\"pokemon.csv\", index_col = \"Pokemon\", squeeze = True)\n",
        "pokemon.head(3)"
      ],
      "execution_count": null,
      "outputs": [
        {
          "output_type": "execute_result",
          "data": {
            "text/plain": [
              "0    Bulbasaur\n",
              "1      Ivysaur\n",
              "2     Venusaur\n",
              "Name: Pocket Monsters, dtype: object"
            ]
          },
          "metadata": {},
          "execution_count": 154
        }
      ]
    },
    {
      "cell_type": "code",
      "metadata": {
        "id": "H8fxrq23GXL7",
        "outputId": "3c01d070-c9b5-4ca1-f742-f85d13943845",
        "colab": {
          "base_uri": "https://localhost:8080/"
        }
      },
      "source": [
        "pokemon.value_counts().sum()"
      ],
      "execution_count": null,
      "outputs": [
        {
          "output_type": "execute_result",
          "data": {
            "text/plain": [
              "721"
            ]
          },
          "metadata": {},
          "execution_count": 155
        }
      ]
    },
    {
      "cell_type": "code",
      "metadata": {
        "id": "k2aW9sEoGXL7",
        "outputId": "a440f6e5-b2f7-487c-df88-d781c26df385",
        "colab": {
          "base_uri": "https://localhost:8080/"
        }
      },
      "source": [
        "pokemon.count()"
      ],
      "execution_count": null,
      "outputs": [
        {
          "output_type": "execute_result",
          "data": {
            "text/plain": [
              "721"
            ]
          },
          "metadata": {},
          "execution_count": 156
        }
      ]
    },
    {
      "cell_type": "code",
      "metadata": {
        "id": "ox8SPX8hGXL7",
        "outputId": "61291c49-72ab-46a3-a467-4b2aad0547b1",
        "colab": {
          "base_uri": "https://localhost:8080/"
        }
      },
      "source": [
        "pokemon.value_counts(ascending = True)"
      ],
      "execution_count": null,
      "outputs": [
        {
          "output_type": "execute_result",
          "data": {
            "text/plain": [
              "Bulbasaur    1\n",
              "Probopass    1\n",
              "Dusknoir     1\n",
              "Froslass     1\n",
              "Rotom        1\n",
              "            ..\n",
              "Raikou       1\n",
              "Entei        1\n",
              "Suicune      1\n",
              "Pupitar      1\n",
              "Volcanion    1\n",
              "Name: Pocket Monsters, Length: 721, dtype: int64"
            ]
          },
          "metadata": {},
          "execution_count": 157
        }
      ]
    },
    {
      "cell_type": "markdown",
      "metadata": {
        "id": "5fIVT5ReGXL7"
      },
      "source": [
        "## The `.apply()` Method"
      ]
    },
    {
      "cell_type": "code",
      "metadata": {
        "id": "8Z-q56ITGXL8",
        "outputId": "53e761ca-d550-4f50-ba48-fc863d54e7ca",
        "colab": {
          "base_uri": "https://localhost:8080/"
        }
      },
      "source": [
        "# google = pd.read_csv(\"google_stock_price.csv\", squeeze = True)\n",
        "google.head(6)"
      ],
      "execution_count": null,
      "outputs": [
        {
          "output_type": "execute_result",
          "data": {
            "text/plain": [
              "3011    782.22\n",
              "2859    776.60\n",
              "3009    773.18\n",
              "3007    772.88\n",
              "3010    771.61\n",
              "3008    771.07\n",
              "Name: Stock Price, dtype: float64"
            ]
          },
          "metadata": {},
          "execution_count": 158
        }
      ]
    },
    {
      "cell_type": "code",
      "metadata": {
        "collapsed": true,
        "id": "e0g1adukGXL8"
      },
      "source": [
        "def classify_performance(number):\n",
        "    if number < 300:\n",
        "        return \"OK\"\n",
        "    elif number >= 300 and number < 650:\n",
        "        return \"Satisfactory\"\n",
        "    else:\n",
        "        return \"Incredible!\""
      ],
      "execution_count": null,
      "outputs": []
    },
    {
      "cell_type": "code",
      "metadata": {
        "id": "dy9YrlT1GXL8",
        "outputId": "2e503258-1f35-45e9-b176-47daea742808",
        "colab": {
          "base_uri": "https://localhost:8080/"
        }
      },
      "source": [
        "google.apply(classify_performance).tail()"
      ],
      "execution_count": null,
      "outputs": [
        {
          "output_type": "execute_result",
          "data": {
            "text/plain": [
              "12    OK\n",
              "10    OK\n",
              "0     OK\n",
              "9     OK\n",
              "11    OK\n",
              "Name: Stock Price, dtype: object"
            ]
          },
          "metadata": {},
          "execution_count": 160
        }
      ]
    },
    {
      "cell_type": "code",
      "metadata": {
        "id": "d6lsiBadGXL8",
        "outputId": "ceb1563c-ee48-4dc7-8c42-620d1c916321",
        "colab": {
          "base_uri": "https://localhost:8080/"
        }
      },
      "source": [
        "google.head(6)"
      ],
      "execution_count": null,
      "outputs": [
        {
          "output_type": "execute_result",
          "data": {
            "text/plain": [
              "3011    782.22\n",
              "2859    776.60\n",
              "3009    773.18\n",
              "3007    772.88\n",
              "3010    771.61\n",
              "3008    771.07\n",
              "Name: Stock Price, dtype: float64"
            ]
          },
          "metadata": {},
          "execution_count": 161
        }
      ]
    },
    {
      "cell_type": "code",
      "metadata": {
        "id": "QUP6LhaOGXL8",
        "outputId": "224260f7-2dad-4876-9b3f-589edd8ee5df",
        "colab": {
          "base_uri": "https://localhost:8080/"
        }
      },
      "source": [
        "google.apply(lambda stock_price : stock_price + 1)"
      ],
      "execution_count": null,
      "outputs": [
        {
          "output_type": "execute_result",
          "data": {
            "text/plain": [
              "3011    783.22\n",
              "2859    777.60\n",
              "3009    774.18\n",
              "3007    773.88\n",
              "3010    772.61\n",
              "         ...  \n",
              "12       51.74\n",
              "10       51.70\n",
              "0        51.12\n",
              "9        51.07\n",
              "11       50.95\n",
              "Name: Stock Price, Length: 3012, dtype: float64"
            ]
          },
          "metadata": {},
          "execution_count": 162
        }
      ]
    },
    {
      "cell_type": "markdown",
      "metadata": {
        "id": "9XxqTidbGXL9"
      },
      "source": [
        "## The `.map()` Method"
      ]
    },
    {
      "cell_type": "code",
      "metadata": {
        "id": "tnzCl9TLGXL9",
        "outputId": "6e5fc4f9-424f-436b-8240-a3dfc9db9e06",
        "colab": {
          "base_uri": "https://localhost:8080/"
        }
      },
      "source": [
        "pokemon_names = pd.read_csv('https://raw.githubusercontent.com/glopez21/ML-Data/main/pokemon.csv', usecols = [\"Pokemon\"], squeeze = True)\n",
        "pokemon_names.head(3)"
      ],
      "execution_count": null,
      "outputs": [
        {
          "output_type": "execute_result",
          "data": {
            "text/plain": [
              "0    Bulbasaur\n",
              "1      Ivysaur\n",
              "2     Venusaur\n",
              "Name: Pokemon, dtype: object"
            ]
          },
          "metadata": {},
          "execution_count": 164
        }
      ]
    },
    {
      "cell_type": "code",
      "metadata": {
        "id": "qo0vvVfzGXL9",
        "outputId": "1755b5f9-129a-49dc-91fc-aedf5289efd2",
        "colab": {
          "base_uri": "https://localhost:8080/"
        }
      },
      "source": [
        "pokemon_types = pd.read_csv('https://raw.githubusercontent.com/glopez21/ML-Data/main/pokemon.csv', index_col = \"Pokemon\", squeeze = True)\n",
        "pokemon_types.head(3)"
      ],
      "execution_count": null,
      "outputs": [
        {
          "output_type": "execute_result",
          "data": {
            "text/plain": [
              "Pokemon\n",
              "Bulbasaur    Grass\n",
              "Ivysaur      Grass\n",
              "Venusaur     Grass\n",
              "Name: Type, dtype: object"
            ]
          },
          "metadata": {},
          "execution_count": 165
        }
      ]
    },
    {
      "cell_type": "code",
      "metadata": {
        "collapsed": true,
        "id": "ThqqnydkGXL9",
        "outputId": "d2b4dbe9-bea9-45c8-baf9-2e4f1be5edec",
        "colab": {
          "base_uri": "https://localhost:8080/"
        }
      },
      "source": [
        "pokemon_names.map(pokemon_types)"
      ],
      "execution_count": null,
      "outputs": [
        {
          "output_type": "execute_result",
          "data": {
            "text/plain": [
              "0        Grass\n",
              "1        Grass\n",
              "2        Grass\n",
              "3         Fire\n",
              "4         Fire\n",
              "        ...   \n",
              "716       Dark\n",
              "717     Dragon\n",
              "718       Rock\n",
              "719    Psychic\n",
              "720       Fire\n",
              "Name: Pokemon, Length: 721, dtype: object"
            ]
          },
          "metadata": {},
          "execution_count": 166
        }
      ]
    },
    {
      "cell_type": "code",
      "metadata": {
        "collapsed": true,
        "id": "WuRaDyhRGXL-"
      },
      "source": [
        "pokemon_names = pd.read_csv('https://raw.githubusercontent.com/glopez21/ML-Data/main/pokemon.csv', usecols = [\"Pokemon\"], squeeze = True)\n",
        "pokemon_types = pd.read_csv('https://raw.githubusercontent.com/glopez21/ML-Data/main/pokemon.csv', index_col = \"Pokemon\", squeeze = True).to_dict()"
      ],
      "execution_count": null,
      "outputs": []
    },
    {
      "cell_type": "code",
      "metadata": {
        "id": "krNPT0txGXL-",
        "outputId": "2ca99ac7-cacd-414b-efb8-142f29a7c04f",
        "colab": {
          "base_uri": "https://localhost:8080/"
        }
      },
      "source": [
        "pokemon_names.head()"
      ],
      "execution_count": null,
      "outputs": [
        {
          "output_type": "execute_result",
          "data": {
            "text/plain": [
              "0     Bulbasaur\n",
              "1       Ivysaur\n",
              "2      Venusaur\n",
              "3    Charmander\n",
              "4    Charmeleon\n",
              "Name: Pokemon, dtype: object"
            ]
          },
          "metadata": {},
          "execution_count": 168
        }
      ]
    },
    {
      "cell_type": "code",
      "metadata": {
        "collapsed": true,
        "id": "4wmGw2TDGXL-",
        "outputId": "321efd58-0a7e-40fd-f9ae-b63cc9961fad",
        "colab": {
          "base_uri": "https://localhost:8080/"
        }
      },
      "source": [
        "pokemon_types"
      ],
      "execution_count": null,
      "outputs": [
        {
          "output_type": "execute_result",
          "data": {
            "text/plain": [
              "{'Abomasnow': 'Grass',\n",
              " 'Abra': 'Psychic',\n",
              " 'Absol': 'Dark',\n",
              " 'Accelgor': 'Bug',\n",
              " 'Aegislash': 'Steel',\n",
              " 'Aerodactyl': 'Rock',\n",
              " 'Aggron': 'Steel',\n",
              " 'Aipom': 'Normal',\n",
              " 'Alakazam': 'Psychic',\n",
              " 'Alomomola': 'Water',\n",
              " 'Altaria': 'Dragon',\n",
              " 'Amaura': 'Rock',\n",
              " 'Ambipom': 'Normal',\n",
              " 'Amoonguss': 'Grass',\n",
              " 'Ampharos': 'Electric',\n",
              " 'Anorith': 'Rock',\n",
              " 'Arbok': 'Poison',\n",
              " 'Arcanine': 'Fire',\n",
              " 'Arceus': 'Normal',\n",
              " 'Archen': 'Rock',\n",
              " 'Archeops': 'Rock',\n",
              " 'Ariados': 'Bug',\n",
              " 'Armaldo': 'Rock',\n",
              " 'Aromatisse': 'Fairy',\n",
              " 'Aron': 'Steel',\n",
              " 'Articuno': 'Ice',\n",
              " 'Audino': 'Normal',\n",
              " 'Aurorus': 'Rock',\n",
              " 'Avalugg': 'Ice',\n",
              " 'Axew': 'Dragon',\n",
              " 'Azelf': 'Psychic',\n",
              " 'Azumarill': 'Water',\n",
              " 'Azurill': 'Normal',\n",
              " 'Bagon': 'Dragon',\n",
              " 'Baltoy': 'Ground',\n",
              " 'Banette': 'Ghost',\n",
              " 'Barbaracle': 'Rock',\n",
              " 'Barboach': 'Water',\n",
              " 'Basculin': 'Water',\n",
              " 'Bastiodon': 'Rock',\n",
              " 'Bayleef': 'Grass',\n",
              " 'Beartic': 'Ice',\n",
              " 'Beautifly': 'Bug',\n",
              " 'Beedrill': 'Bug',\n",
              " 'Beheeyem': 'Psychic',\n",
              " 'Beldum': 'Steel',\n",
              " 'Bellossom': 'Grass',\n",
              " 'Bellsprout': 'Grass',\n",
              " 'Bergmite': 'Ice',\n",
              " 'Bibarel': 'Normal',\n",
              " 'Bidoof': 'Normal',\n",
              " 'Binacle': 'Rock',\n",
              " 'Bisharp': 'Dark',\n",
              " 'Blastoise': 'Water',\n",
              " 'Blaziken': 'Fire',\n",
              " 'Blissey': 'Normal',\n",
              " 'Blitzle': 'Electric',\n",
              " 'Boldore': 'Rock',\n",
              " 'Bonsly': 'Rock',\n",
              " 'Bouffalant': 'Normal',\n",
              " 'Braixen': 'Fire',\n",
              " 'Braviary': 'Normal',\n",
              " 'Breloom': 'Grass',\n",
              " 'Bronzong': 'Steel',\n",
              " 'Bronzor': 'Steel',\n",
              " 'Budew': 'Grass',\n",
              " 'Buizel': 'Water',\n",
              " 'Bulbasaur': 'Grass',\n",
              " 'Buneary': 'Normal',\n",
              " 'Bunnelby': 'Normal',\n",
              " 'Burmy': 'Bug',\n",
              " 'Butterfree': 'Bug',\n",
              " 'Cacnea': 'Grass',\n",
              " 'Cacturne': 'Grass',\n",
              " 'Camerupt': 'Fire',\n",
              " 'Carbink': 'Rock',\n",
              " 'Carnivine': 'Grass',\n",
              " 'Carracosta': 'Water',\n",
              " 'Carvanha': 'Water',\n",
              " 'Cascoon': 'Bug',\n",
              " 'Castform': 'Normal',\n",
              " 'Caterpie': 'Bug',\n",
              " 'Celebi': 'Psychic',\n",
              " 'Chandelure': 'Ghost',\n",
              " 'Chansey': 'Normal',\n",
              " 'Charizard': 'Fire',\n",
              " 'Charmander': 'Fire',\n",
              " 'Charmeleon': 'Fire',\n",
              " 'Chatot': 'Normal',\n",
              " 'Cherrim': 'Grass',\n",
              " 'Cherubi': 'Grass',\n",
              " 'Chesnaught': 'Grass',\n",
              " 'Chespin': 'Grass',\n",
              " 'Chikorita': 'Grass',\n",
              " 'Chimchar': 'Fire',\n",
              " 'Chimecho': 'Psychic',\n",
              " 'Chinchou': 'Water',\n",
              " 'Chingling': 'Psychic',\n",
              " 'Cinccino': 'Normal',\n",
              " 'Clamperl': 'Water',\n",
              " 'Clauncher': 'Water',\n",
              " 'Clawitzer': 'Water',\n",
              " 'Claydol': 'Ground',\n",
              " 'Clefable': 'Fairy',\n",
              " 'Clefairy': 'Fairy',\n",
              " 'Cleffa': 'Fairy',\n",
              " 'Cloyster': 'Water',\n",
              " 'Cobalion': 'Steel',\n",
              " 'Cofagrigus': 'Ghost',\n",
              " 'Combee': 'Bug',\n",
              " 'Combusken': 'Fire',\n",
              " 'Conkeldurr': 'Fighting',\n",
              " 'Corphish': 'Water',\n",
              " 'Corsola': 'Water',\n",
              " 'Cottonee': 'Grass',\n",
              " 'Cradily': 'Rock',\n",
              " 'Cranidos': 'Rock',\n",
              " 'Crawdaunt': 'Water',\n",
              " 'Cresselia': 'Psychic',\n",
              " 'Croagunk': 'Poison',\n",
              " 'Crobat': 'Poison',\n",
              " 'Croconaw': 'Water',\n",
              " 'Crustle': 'Bug',\n",
              " 'Cryogonal': 'Ice',\n",
              " 'Cubchoo': 'Ice',\n",
              " 'Cubone': 'Ground',\n",
              " 'Cyndaquil': 'Fire',\n",
              " 'Darkrai': 'Dark',\n",
              " 'Darmanitan': 'Fire',\n",
              " 'Darumaka': 'Fire',\n",
              " 'Dedenne': 'Electric',\n",
              " 'Deerling': 'Normal',\n",
              " 'Deino': 'Dark',\n",
              " 'Delcatty': 'Normal',\n",
              " 'Delibird': 'Ice',\n",
              " 'Delphox': 'Fire',\n",
              " 'Deoxys': 'Psychic',\n",
              " 'Dewgong': 'Water',\n",
              " 'Dewott': 'Water',\n",
              " 'Dialga': 'Steel',\n",
              " 'Diancie': 'Rock',\n",
              " 'Diggersby': 'Normal',\n",
              " 'Diglett': 'Ground',\n",
              " 'Ditto': 'Normal',\n",
              " 'Dodrio': 'Normal',\n",
              " 'Doduo': 'Normal',\n",
              " 'Donphan': 'Ground',\n",
              " 'Doublade': 'Steel',\n",
              " 'Dragalge': 'Poison',\n",
              " 'Dragonair': 'Dragon',\n",
              " 'Dragonite': 'Dragon',\n",
              " 'Drapion': 'Poison',\n",
              " 'Dratini': 'Dragon',\n",
              " 'Drifblim': 'Ghost',\n",
              " 'Drifloon': 'Ghost',\n",
              " 'Drilbur': 'Ground',\n",
              " 'Drowzee': 'Psychic',\n",
              " 'Druddigon': 'Dragon',\n",
              " 'Ducklett': 'Water',\n",
              " 'Dugtrio': 'Ground',\n",
              " 'Dunsparce': 'Normal',\n",
              " 'Duosion': 'Psychic',\n",
              " 'Durant': 'Bug',\n",
              " 'Dusclops': 'Ghost',\n",
              " 'Dusknoir': 'Ghost',\n",
              " 'Duskull': 'Ghost',\n",
              " 'Dustox': 'Bug',\n",
              " 'Dwebble': 'Bug',\n",
              " 'Eelektrik': 'Electric',\n",
              " 'Eelektross': 'Electric',\n",
              " 'Eevee': 'Normal',\n",
              " 'Ekans': 'Poison',\n",
              " 'Electabuzz': 'Electric',\n",
              " 'Electivire': 'Electric',\n",
              " 'Electrike': 'Electric',\n",
              " 'Electrode': 'Electric',\n",
              " 'Elekid': 'Electric',\n",
              " 'Elgyem': 'Psychic',\n",
              " 'Emboar': 'Fire',\n",
              " 'Emolga': 'Electric',\n",
              " 'Empoleon': 'Water',\n",
              " 'Entei': 'Fire',\n",
              " 'Escavalier': 'Bug',\n",
              " 'Espeon': 'Psychic',\n",
              " 'Espurr': 'Psychic',\n",
              " 'Excadrill': 'Ground',\n",
              " 'Exeggcute': 'Grass',\n",
              " 'Exeggutor': 'Grass',\n",
              " 'Exploud': 'Normal',\n",
              " \"Farfetch'd\": 'Normal',\n",
              " 'Fearow': 'Normal',\n",
              " 'Feebas': 'Water',\n",
              " 'Fennekin': 'Fire',\n",
              " 'Feraligatr': 'Water',\n",
              " 'Ferroseed': 'Grass',\n",
              " 'Ferrothorn': 'Grass',\n",
              " 'Finneon': 'Water',\n",
              " 'Flaaffy': 'Electric',\n",
              " 'Flabébé': 'Fairy',\n",
              " 'Flareon': 'Fire',\n",
              " 'Fletchinder': 'Fire',\n",
              " 'Fletchling': 'Normal',\n",
              " 'Floatzel': 'Water',\n",
              " 'Floette': 'Fairy',\n",
              " 'Florges': 'Fairy',\n",
              " 'Flygon': 'Ground',\n",
              " 'Foongus': 'Grass',\n",
              " 'Forretress': 'Bug',\n",
              " 'Fraxure': 'Dragon',\n",
              " 'Frillish': 'Water',\n",
              " 'Froakie': 'Water',\n",
              " 'Frogadier': 'Water',\n",
              " 'Froslass': 'Ice',\n",
              " 'Furfrou': 'Normal',\n",
              " 'Furret': 'Normal',\n",
              " 'Gabite': 'Dragon',\n",
              " 'Gallade': 'Psychic',\n",
              " 'Galvantula': 'Bug',\n",
              " 'Garbodor': 'Poison',\n",
              " 'Garchomp': 'Dragon',\n",
              " 'Gardevoir': 'Psychic',\n",
              " 'Gastly': 'Ghost',\n",
              " 'Gastrodon': 'Water',\n",
              " 'Genesect': 'Bug',\n",
              " 'Gengar': 'Ghost',\n",
              " 'Geodude': 'Rock',\n",
              " 'Gible': 'Dragon',\n",
              " 'Gigalith': 'Rock',\n",
              " 'Girafarig': 'Normal',\n",
              " 'Giratina': 'Ghost',\n",
              " 'Glaceon': 'Ice',\n",
              " 'Glalie': 'Ice',\n",
              " 'Glameow': 'Normal',\n",
              " 'Gligar': 'Ground',\n",
              " 'Gliscor': 'Ground',\n",
              " 'Gloom': 'Grass',\n",
              " 'Gogoat': 'Grass',\n",
              " 'Golbat': 'Poison',\n",
              " 'Goldeen': 'Water',\n",
              " 'Golduck': 'Water',\n",
              " 'Golem': 'Rock',\n",
              " 'Golett': 'Ground',\n",
              " 'Golurk': 'Ground',\n",
              " 'Goodra': 'Dragon',\n",
              " 'Goomy': 'Dragon',\n",
              " 'Gorebyss': 'Water',\n",
              " 'Gothita': 'Psychic',\n",
              " 'Gothitelle': 'Psychic',\n",
              " 'Gothorita': 'Psychic',\n",
              " 'Gourgeist': 'Ghost',\n",
              " 'Granbull': 'Fairy',\n",
              " 'Graveler': 'Rock',\n",
              " 'Greninja': 'Water',\n",
              " 'Grimer': 'Poison',\n",
              " 'Grotle': 'Grass',\n",
              " 'Groudon': 'Ground',\n",
              " 'Grovyle': 'Grass',\n",
              " 'Growlithe': 'Fire',\n",
              " 'Grumpig': 'Psychic',\n",
              " 'Gulpin': 'Poison',\n",
              " 'Gurdurr': 'Fighting',\n",
              " 'Gyarados': 'Water',\n",
              " 'Happiny': 'Normal',\n",
              " 'Hariyama': 'Fighting',\n",
              " 'Haunter': 'Ghost',\n",
              " 'Hawlucha': 'Fighting',\n",
              " 'Haxorus': 'Dragon',\n",
              " 'Heatmor': 'Fire',\n",
              " 'Heatran': 'Fire',\n",
              " 'Heliolisk': 'Electric',\n",
              " 'Helioptile': 'Electric',\n",
              " 'Heracross': 'Bug',\n",
              " 'Herdier': 'Normal',\n",
              " 'Hippopotas': 'Ground',\n",
              " 'Hippowdon': 'Ground',\n",
              " 'Hitmonchan': 'Fighting',\n",
              " 'Hitmonlee': 'Fighting',\n",
              " 'Hitmontop': 'Fighting',\n",
              " 'Ho-oh': 'Fire',\n",
              " 'Honchkrow': 'Dark',\n",
              " 'Honedge': 'Steel',\n",
              " 'Hoopa': 'Psychic',\n",
              " 'Hoothoot': 'Normal',\n",
              " 'Hoppip': 'Grass',\n",
              " 'Horsea': 'Water',\n",
              " 'Houndoom': 'Dark',\n",
              " 'Houndour': 'Dark',\n",
              " 'Huntail': 'Water',\n",
              " 'Hydreigon': 'Dark',\n",
              " 'Hypno': 'Psychic',\n",
              " 'Igglybuff': 'Normal',\n",
              " 'Illumise': 'Bug',\n",
              " 'Infernape': 'Fire',\n",
              " 'Inkay': 'Dark',\n",
              " 'Ivysaur': 'Grass',\n",
              " 'Jellicent': 'Water',\n",
              " 'Jigglypuff': 'Normal',\n",
              " 'Jirachi': 'Steel',\n",
              " 'Jolteon': 'Electric',\n",
              " 'Joltik': 'Bug',\n",
              " 'Jumpluff': 'Grass',\n",
              " 'Jynx': 'Ice',\n",
              " 'Kabuto': 'Rock',\n",
              " 'Kabutops': 'Rock',\n",
              " 'Kadabra': 'Psychic',\n",
              " 'Kakuna': 'Bug',\n",
              " 'Kangaskhan': 'Normal',\n",
              " 'Karrablast': 'Bug',\n",
              " 'Kecleon': 'Normal',\n",
              " 'Keldeo': 'Water',\n",
              " 'Kingdra': 'Water',\n",
              " 'Kingler': 'Water',\n",
              " 'Kirlia': 'Psychic',\n",
              " 'Klang': 'Steel',\n",
              " 'Klefki': 'Steel',\n",
              " 'Klink': 'Steel',\n",
              " 'Klinklang': 'Steel',\n",
              " 'Koffing': 'Poison',\n",
              " 'Krabby': 'Water',\n",
              " 'Kricketot': 'Bug',\n",
              " 'Kricketune': 'Bug',\n",
              " 'Krokorok': 'Ground',\n",
              " 'Krookodile': 'Ground',\n",
              " 'Kyogre': 'Water',\n",
              " 'Kyurem': 'Dragon',\n",
              " 'Lairon': 'Steel',\n",
              " 'Lampent': 'Ghost',\n",
              " 'Landorus': 'Ground',\n",
              " 'Lanturn': 'Water',\n",
              " 'Lapras': 'Water',\n",
              " 'Larvesta': 'Bug',\n",
              " 'Larvitar': 'Rock',\n",
              " 'Latias': 'Dragon',\n",
              " 'Latios': 'Dragon',\n",
              " 'Leafeon': 'Grass',\n",
              " 'Leavanny': 'Bug',\n",
              " 'Ledian': 'Bug',\n",
              " 'Ledyba': 'Bug',\n",
              " 'Lickilicky': 'Normal',\n",
              " 'Lickitung': 'Normal',\n",
              " 'Liepard': 'Dark',\n",
              " 'Lileep': 'Rock',\n",
              " 'Lilligant': 'Grass',\n",
              " 'Lillipup': 'Normal',\n",
              " 'Linoone': 'Normal',\n",
              " 'Litleo': 'Fire',\n",
              " 'Litwick': 'Ghost',\n",
              " 'Lombre': 'Water',\n",
              " 'Lopunny': 'Normal',\n",
              " 'Lotad': 'Water',\n",
              " 'Loudred': 'Normal',\n",
              " 'Lucario': 'Fighting',\n",
              " 'Ludicolo': 'Water',\n",
              " 'Lugia': 'Psychic',\n",
              " 'Lumineon': 'Water',\n",
              " 'Lunatone': 'Rock',\n",
              " 'Luvdisc': 'Water',\n",
              " 'Luxio': 'Electric',\n",
              " 'Luxray': 'Electric',\n",
              " 'Machamp': 'Fighting',\n",
              " 'Machoke': 'Fighting',\n",
              " 'Machop': 'Fighting',\n",
              " 'Magby': 'Fire',\n",
              " 'Magcargo': 'Fire',\n",
              " 'Magikarp': 'Water',\n",
              " 'Magmar': 'Fire',\n",
              " 'Magmortar': 'Fire',\n",
              " 'Magnemite': 'Electric',\n",
              " 'Magneton': 'Electric',\n",
              " 'Magnezone': 'Electric',\n",
              " 'Makuhita': 'Fighting',\n",
              " 'Malamar': 'Dark',\n",
              " 'Mamoswine': 'Ice',\n",
              " 'Manaphy': 'Water',\n",
              " 'Mandibuzz': 'Dark',\n",
              " 'Manectric': 'Electric',\n",
              " 'Mankey': 'Fighting',\n",
              " 'Mantine': 'Water',\n",
              " 'Mantyke': 'Water',\n",
              " 'Maractus': 'Grass',\n",
              " 'Mareep': 'Electric',\n",
              " 'Marill': 'Water',\n",
              " 'Marowak': 'Ground',\n",
              " 'Marshtomp': 'Water',\n",
              " 'Masquerain': 'Bug',\n",
              " 'Mawile': 'Steel',\n",
              " 'Medicham': 'Fighting',\n",
              " 'Meditite': 'Fighting',\n",
              " 'Meganium': 'Grass',\n",
              " 'Meloetta': 'Normal',\n",
              " 'Meowstic': 'Psychic',\n",
              " 'Meowth': 'Normal',\n",
              " 'Mesprit': 'Psychic',\n",
              " 'Metagross': 'Steel',\n",
              " 'Metang': 'Steel',\n",
              " 'Metapod': 'Bug',\n",
              " 'Mew': 'Psychic',\n",
              " 'Mewtwo': 'Psychic',\n",
              " 'Mienfoo': 'Fighting',\n",
              " 'Mienshao': 'Fighting',\n",
              " 'Mightyena': 'Dark',\n",
              " 'Milotic': 'Water',\n",
              " 'Miltank': 'Normal',\n",
              " 'Mime Jr.': 'Psychic',\n",
              " 'Minccino': 'Normal',\n",
              " 'Minun': 'Electric',\n",
              " 'Misdreavus': 'Ghost',\n",
              " 'Mismagius': 'Ghost',\n",
              " 'Moltres': 'Fire',\n",
              " 'Monferno': 'Fire',\n",
              " 'Mothim': 'Bug',\n",
              " 'Mr. Mime': 'Psychic',\n",
              " 'Mudkip': 'Water',\n",
              " 'Muk': 'Poison',\n",
              " 'Munchlax': 'Normal',\n",
              " 'Munna': 'Psychic',\n",
              " 'Murkrow': 'Dark',\n",
              " 'Musharna': 'Psychic',\n",
              " 'Natu': 'Psychic',\n",
              " 'Nidoking': 'Poison',\n",
              " 'Nidoqueen': 'Poison',\n",
              " 'Nidoran': 'Poison',\n",
              " 'Nidoran♂': 'Poison',\n",
              " 'Nidorina': 'Poison',\n",
              " 'Nidorino': 'Poison',\n",
              " 'Nincada': 'Bug',\n",
              " 'Ninetales': 'Fire',\n",
              " 'Ninjask': 'Bug',\n",
              " 'Noctowl': 'Normal',\n",
              " 'Noibat': 'Flying',\n",
              " 'Noivern': 'Flying',\n",
              " 'Nosepass': 'Rock',\n",
              " 'Numel': 'Fire',\n",
              " 'Nuzleaf': 'Grass',\n",
              " 'Octillery': 'Water',\n",
              " 'Oddish': 'Grass',\n",
              " 'Omanyte': 'Rock',\n",
              " 'Omastar': 'Rock',\n",
              " 'Onix': 'Rock',\n",
              " 'Oshawott': 'Water',\n",
              " 'Pachirisu': 'Electric',\n",
              " 'Palkia': 'Water',\n",
              " 'Palpitoad': 'Water',\n",
              " 'Pancham': 'Fighting',\n",
              " 'Pangoro': 'Fighting',\n",
              " 'Panpour': 'Water',\n",
              " 'Pansage': 'Grass',\n",
              " 'Pansear': 'Fire',\n",
              " 'Paras': 'Bug',\n",
              " 'Parasect': 'Bug',\n",
              " 'Patrat': 'Normal',\n",
              " 'Pawniard': 'Dark',\n",
              " 'Pelipper': 'Water',\n",
              " 'Persian': 'Normal',\n",
              " 'Petilil': 'Grass',\n",
              " 'Phanpy': 'Ground',\n",
              " 'Phantump': 'Ghost',\n",
              " 'Phione': 'Water',\n",
              " 'Pichu': 'Electric',\n",
              " 'Pidgeot': 'Normal',\n",
              " 'Pidgeotto': 'Normal',\n",
              " 'Pidgey': 'Normal',\n",
              " 'Pidove': 'Normal',\n",
              " 'Pignite': 'Fire',\n",
              " 'Pikachu': 'Electric',\n",
              " 'Piloswine': 'Ice',\n",
              " 'Pineco': 'Bug',\n",
              " 'Pinsir': 'Bug',\n",
              " 'Piplup': 'Water',\n",
              " 'Plusle': 'Electric',\n",
              " 'Politoed': 'Water',\n",
              " 'Poliwag': 'Water',\n",
              " 'Poliwhirl': 'Water',\n",
              " 'Poliwrath': 'Water',\n",
              " 'Ponyta': 'Fire',\n",
              " 'Poochyena': 'Dark',\n",
              " 'Porygon': 'Normal',\n",
              " 'Porygon-Z': 'Normal',\n",
              " 'Porygon2': 'Normal',\n",
              " 'Primeape': 'Fighting',\n",
              " 'Prinplup': 'Water',\n",
              " 'Probopass': 'Rock',\n",
              " 'Psyduck': 'Water',\n",
              " 'Pumpkaboo': 'Ghost',\n",
              " 'Pupitar': 'Rock',\n",
              " 'Purrloin': 'Dark',\n",
              " 'Purugly': 'Normal',\n",
              " 'Pyroar': 'Fire',\n",
              " 'Quagsire': 'Water',\n",
              " 'Quilava': 'Fire',\n",
              " 'Quilladin': 'Grass',\n",
              " 'Qwilfish': 'Water',\n",
              " 'Raichu': 'Electric',\n",
              " 'Raikou': 'Electric',\n",
              " 'Ralts': 'Psychic',\n",
              " 'Rampardos': 'Rock',\n",
              " 'Rapidash': 'Fire',\n",
              " 'Raticate': 'Normal',\n",
              " 'Rattata': 'Normal',\n",
              " 'Rayquaza': 'Dragon',\n",
              " 'Regice': 'Ice',\n",
              " 'Regigigas': 'Normal',\n",
              " 'Regirock': 'Rock',\n",
              " 'Registeel': 'Steel',\n",
              " 'Relicanth': 'Water',\n",
              " 'Remoraid': 'Water',\n",
              " 'Reshiram': 'Dragon',\n",
              " 'Reuniclus': 'Psychic',\n",
              " 'Rhydon': 'Ground',\n",
              " 'Rhyhorn': 'Ground',\n",
              " 'Rhyperior': 'Ground',\n",
              " 'Riolu': 'Fighting',\n",
              " 'Roggenrola': 'Rock',\n",
              " 'Roselia': 'Grass',\n",
              " 'Roserade': 'Grass',\n",
              " 'Rotom': 'Electric',\n",
              " 'Rufflet': 'Normal',\n",
              " 'Sableye': 'Dark',\n",
              " 'Salamence': 'Dragon',\n",
              " 'Samurott': 'Water',\n",
              " 'Sandile': 'Ground',\n",
              " 'Sandshrew': 'Ground',\n",
              " 'Sandslash': 'Ground',\n",
              " 'Sawk': 'Fighting',\n",
              " 'Sawsbuck': 'Normal',\n",
              " 'Scatterbug': 'Bug',\n",
              " 'Sceptile': 'Grass',\n",
              " 'Scizor': 'Bug',\n",
              " 'Scolipede': 'Bug',\n",
              " 'Scrafty': 'Dark',\n",
              " 'Scraggy': 'Dark',\n",
              " 'Scyther': 'Bug',\n",
              " 'Seadra': 'Water',\n",
              " 'Seaking': 'Water',\n",
              " 'Sealeo': 'Ice',\n",
              " 'Seedot': 'Grass',\n",
              " 'Seel': 'Water',\n",
              " 'Seismitoad': 'Water',\n",
              " 'Sentret': 'Normal',\n",
              " 'Serperior': 'Grass',\n",
              " 'Servine': 'Grass',\n",
              " 'Seviper': 'Poison',\n",
              " 'Sewaddle': 'Bug',\n",
              " 'Sharpedo': 'Water',\n",
              " 'Shaymin': 'Grass',\n",
              " 'Shedinja': 'Bug',\n",
              " 'Shelgon': 'Dragon',\n",
              " 'Shellder': 'Water',\n",
              " 'Shellos': 'Water',\n",
              " 'Shelmet': 'Bug',\n",
              " 'Shieldon': 'Rock',\n",
              " 'Shiftry': 'Grass',\n",
              " 'Shinx': 'Electric',\n",
              " 'Shroomish': 'Grass',\n",
              " 'Shuckle': 'Bug',\n",
              " 'Shuppet': 'Ghost',\n",
              " 'Sigilyph': 'Psychic',\n",
              " 'Silcoon': 'Bug',\n",
              " 'Simipour': 'Water',\n",
              " 'Simisage': 'Grass',\n",
              " 'Simisear': 'Fire',\n",
              " 'Skarmory': 'Steel',\n",
              " 'Skiddo': 'Grass',\n",
              " 'Skiploom': 'Grass',\n",
              " 'Skitty': 'Normal',\n",
              " 'Skorupi': 'Poison',\n",
              " 'Skrelp': 'Poison',\n",
              " 'Skuntank': 'Poison',\n",
              " 'Slaking': 'Normal',\n",
              " 'Slakoth': 'Normal',\n",
              " 'Sliggoo': 'Dragon',\n",
              " 'Slowbro': 'Water',\n",
              " 'Slowking': 'Water',\n",
              " 'Slowpoke': 'Water',\n",
              " 'Slugma': 'Fire',\n",
              " 'Slurpuff': 'Fairy',\n",
              " 'Smeargle': 'Normal',\n",
              " 'Smoochum': 'Ice',\n",
              " 'Sneasel': 'Dark',\n",
              " 'Snivy': 'Grass',\n",
              " 'Snorlax': 'Normal',\n",
              " 'Snorunt': 'Ice',\n",
              " 'Snover': 'Grass',\n",
              " 'Snubbull': 'Fairy',\n",
              " 'Solosis': 'Psychic',\n",
              " 'Solrock': 'Rock',\n",
              " 'Spearow': 'Normal',\n",
              " 'Spewpa': 'Bug',\n",
              " 'Spheal': 'Ice',\n",
              " 'Spinarak': 'Bug',\n",
              " 'Spinda': 'Normal',\n",
              " 'Spiritomb': 'Ghost',\n",
              " 'Spoink': 'Psychic',\n",
              " 'Spritzee': 'Fairy',\n",
              " 'Squirtle': 'Water',\n",
              " 'Stantler': 'Normal',\n",
              " 'Staraptor': 'Normal',\n",
              " 'Staravia': 'Normal',\n",
              " 'Starly': 'Normal',\n",
              " 'Starmie': 'Water',\n",
              " 'Staryu': 'Water',\n",
              " 'Steelix': 'Steel',\n",
              " 'Stoutland': 'Normal',\n",
              " 'Stunfisk': 'Ground',\n",
              " 'Stunky': 'Poison',\n",
              " 'Sudowoodo': 'Rock',\n",
              " 'Suicune': 'Water',\n",
              " 'Sunflora': 'Grass',\n",
              " 'Sunkern': 'Grass',\n",
              " 'Surskit': 'Bug',\n",
              " 'Swablu': 'Normal',\n",
              " 'Swadloon': 'Bug',\n",
              " 'Swalot': 'Poison',\n",
              " 'Swampert': 'Water',\n",
              " 'Swanna': 'Water',\n",
              " 'Swellow': 'Normal',\n",
              " 'Swinub': 'Ice',\n",
              " 'Swirlix': 'Fairy',\n",
              " 'Swoobat': 'Psychic',\n",
              " 'Sylveon': 'Fairy',\n",
              " 'Taillow': 'Normal',\n",
              " 'Talonflame': 'Fire',\n",
              " 'Tangela': 'Grass',\n",
              " 'Tangrowth': 'Grass',\n",
              " 'Tauros': 'Normal',\n",
              " 'Teddiursa': 'Normal',\n",
              " 'Tentacool': 'Water',\n",
              " 'Tentacruel': 'Water',\n",
              " 'Tepig': 'Fire',\n",
              " 'Terrakion': 'Rock',\n",
              " 'Throh': 'Fighting',\n",
              " 'Thundurus': 'Electric',\n",
              " 'Timburr': 'Fighting',\n",
              " 'Tirtouga': 'Water',\n",
              " 'Togekiss': 'Fairy',\n",
              " 'Togepi': 'Fairy',\n",
              " 'Togetic': 'Fairy',\n",
              " 'Torchic': 'Fire',\n",
              " 'Torkoal': 'Fire',\n",
              " 'Tornadus': 'Flying',\n",
              " 'Torterra': 'Grass',\n",
              " 'Totodile': 'Water',\n",
              " 'Toxicroak': 'Poison',\n",
              " 'Tranquill': 'Normal',\n",
              " 'Trapinch': 'Ground',\n",
              " 'Treecko': 'Grass',\n",
              " 'Trevenant': 'Ghost',\n",
              " 'Tropius': 'Grass',\n",
              " 'Trubbish': 'Poison',\n",
              " 'Turtwig': 'Grass',\n",
              " 'Tympole': 'Water',\n",
              " 'Tynamo': 'Electric',\n",
              " 'Typhlosion': 'Fire',\n",
              " 'Tyranitar': 'Rock',\n",
              " 'Tyrantrum': 'Rock',\n",
              " 'Tyrogue': 'Fighting',\n",
              " 'Tyrunt': 'Rock',\n",
              " 'Umbreon': 'Dark',\n",
              " 'Unfezant': 'Normal',\n",
              " 'Unown': 'Psychic',\n",
              " 'Ursaring': 'Normal',\n",
              " 'Uxie': 'Psychic',\n",
              " 'Vanillish': 'Ice',\n",
              " 'Vanillite': 'Ice',\n",
              " 'Vanilluxe': 'Ice',\n",
              " 'Vaporeon': 'Water',\n",
              " 'Venipede': 'Bug',\n",
              " 'Venomoth': 'Bug',\n",
              " 'Venonat': 'Bug',\n",
              " 'Venusaur': 'Grass',\n",
              " 'Vespiquen': 'Bug',\n",
              " 'Vibrava': 'Ground',\n",
              " 'Victini': 'Psychic',\n",
              " 'Victreebel': 'Grass',\n",
              " 'Vigoroth': 'Normal',\n",
              " 'Vileplume': 'Grass',\n",
              " 'Virizion': 'Grass',\n",
              " 'Vivillon': 'Bug',\n",
              " 'Volbeat': 'Bug',\n",
              " 'Volcanion': 'Fire',\n",
              " 'Volcarona': 'Bug',\n",
              " 'Voltorb': 'Electric',\n",
              " 'Vullaby': 'Dark',\n",
              " 'Vulpix': 'Fire',\n",
              " 'Wailmer': 'Water',\n",
              " 'Wailord': 'Water',\n",
              " 'Walrein': 'Ice',\n",
              " 'Wartortle': 'Water',\n",
              " 'Watchog': 'Normal',\n",
              " 'Weavile': 'Dark',\n",
              " 'Weedle': 'Bug',\n",
              " 'Weepinbell': 'Grass',\n",
              " 'Weezing': 'Poison',\n",
              " 'Whimsicott': 'Grass',\n",
              " 'Whirlipede': 'Bug',\n",
              " 'Whiscash': 'Water',\n",
              " 'Whismur': 'Normal',\n",
              " 'Wigglytuff': 'Normal',\n",
              " 'Wingull': 'Water',\n",
              " 'Wobbuffet': 'Psychic',\n",
              " 'Woobat': 'Psychic',\n",
              " 'Wooper': 'Water',\n",
              " 'Wormadam': 'Bug',\n",
              " 'Wurmple': 'Bug',\n",
              " 'Wynaut': 'Psychic',\n",
              " 'Xatu': 'Psychic',\n",
              " 'Xerneas': 'Fairy',\n",
              " 'Yamask': 'Ghost',\n",
              " 'Yanma': 'Bug',\n",
              " 'Yanmega': 'Bug',\n",
              " 'Yveltal': 'Dark',\n",
              " 'Zangoose': 'Normal',\n",
              " 'Zapdos': 'Electric',\n",
              " 'Zebstrika': 'Electric',\n",
              " 'Zekrom': 'Dragon',\n",
              " 'Zigzagoon': 'Normal',\n",
              " 'Zoroark': 'Dark',\n",
              " 'Zorua': 'Dark',\n",
              " 'Zubat': 'Poison',\n",
              " 'Zweilous': 'Dark',\n",
              " 'Zygarde': 'Dragon'}"
            ]
          },
          "metadata": {},
          "execution_count": 169
        }
      ]
    },
    {
      "cell_type": "code",
      "metadata": {
        "id": "4IjDTlhLGXL-",
        "outputId": "3ea2452a-8542-442a-8a5d-386cc1836c1c",
        "colab": {
          "base_uri": "https://localhost:8080/"
        }
      },
      "source": [
        "pokemon_names.map(pokemon_types)"
      ],
      "execution_count": null,
      "outputs": [
        {
          "output_type": "execute_result",
          "data": {
            "text/plain": [
              "0        Grass\n",
              "1        Grass\n",
              "2        Grass\n",
              "3         Fire\n",
              "4         Fire\n",
              "        ...   \n",
              "716       Dark\n",
              "717     Dragon\n",
              "718       Rock\n",
              "719    Psychic\n",
              "720       Fire\n",
              "Name: Pokemon, Length: 721, dtype: object"
            ]
          },
          "metadata": {},
          "execution_count": 170
        }
      ]
    },
    {
      "cell_type": "markdown",
      "source": [
        "## Shared Methods and Attributes"
      ],
      "metadata": {
        "id": "N8c-xK24jt3R"
      }
    },
    {
      "cell_type": "code",
      "source": [
        ""
      ],
      "metadata": {
        "id": "X4MenulNkHg9"
      },
      "execution_count": null,
      "outputs": []
    },
    {
      "cell_type": "code",
      "source": [
        ""
      ],
      "metadata": {
        "id": "IAcVjjQxkHd5"
      },
      "execution_count": null,
      "outputs": []
    },
    {
      "cell_type": "code",
      "source": [
        ""
      ],
      "metadata": {
        "id": "IDEW6kXNkHZ2"
      },
      "execution_count": null,
      "outputs": []
    },
    {
      "cell_type": "code",
      "source": [
        ""
      ],
      "metadata": {
        "id": "-qbksx05kHXJ"
      },
      "execution_count": null,
      "outputs": []
    }
  ]
}